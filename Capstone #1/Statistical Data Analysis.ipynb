{
 "cells": [
  {
   "cell_type": "markdown",
   "metadata": {},
   "source": [
    "<h1> Statistical Data Analysis"
   ]
  },
  {
   "cell_type": "code",
   "execution_count": 5,
   "metadata": {},
   "outputs": [],
   "source": [
    "import numpy as np"
   ]
  },
  {
   "cell_type": "code",
   "execution_count": 6,
   "metadata": {},
   "outputs": [],
   "source": [
    "import pandas as pd"
   ]
  },
  {
   "cell_type": "code",
   "execution_count": 7,
   "metadata": {},
   "outputs": [],
   "source": [
    "import matplotlib.pyplot as plt"
   ]
  },
  {
   "cell_type": "code",
   "execution_count": 8,
   "metadata": {},
   "outputs": [],
   "source": [
    "import seaborn as sns"
   ]
  },
  {
   "cell_type": "code",
   "execution_count": 9,
   "metadata": {},
   "outputs": [],
   "source": [
    "from scipy.stats import linregress "
   ]
  },
  {
   "cell_type": "code",
   "execution_count": 10,
   "metadata": {},
   "outputs": [],
   "source": [
    "from scipy.stats import spearmanr"
   ]
  },
  {
   "cell_type": "code",
   "execution_count": 11,
   "metadata": {},
   "outputs": [],
   "source": [
    "import researchpy as rp"
   ]
  },
  {
   "cell_type": "code",
   "execution_count": 12,
   "metadata": {},
   "outputs": [],
   "source": [
    "## Importing csv files into panda DataFrames"
   ]
  },
  {
   "cell_type": "code",
   "execution_count": 13,
   "metadata": {},
   "outputs": [],
   "source": [
    "filenameTeam = '/Users/Rezalution/Desktop/nfl-scores-and-betting-data/nfl_teams.csv'\n",
    "filenameStadiums = '/Users/Rezalution/Desktop/nfl-scores-and-betting-data/nfl_stadiums.csv'\n",
    "filenameGames = '/Users/Rezalution/Desktop/nfl-scores-and-betting-data/spreadspoke_scores.csv'"
   ]
  },
  {
   "cell_type": "code",
   "execution_count": 14,
   "metadata": {},
   "outputs": [],
   "source": [
    "nflTeams = pd.read_csv(filenameTeam,encoding ='latin1')\n",
    "nflStadiums = pd.read_csv(filenameStadiums,encoding ='latin1')\n",
    "nflGames = pd.read_csv(filenameGames,encoding ='latin1')"
   ]
  },
  {
   "cell_type": "code",
   "execution_count": 15,
   "metadata": {},
   "outputs": [
    {
     "data": {
      "text/html": [
       "<div>\n",
       "<style scoped>\n",
       "    .dataframe tbody tr th:only-of-type {\n",
       "        vertical-align: middle;\n",
       "    }\n",
       "\n",
       "    .dataframe tbody tr th {\n",
       "        vertical-align: top;\n",
       "    }\n",
       "\n",
       "    .dataframe thead th {\n",
       "        text-align: right;\n",
       "    }\n",
       "</style>\n",
       "<table border=\"1\" class=\"dataframe\">\n",
       "  <thead>\n",
       "    <tr style=\"text-align: right;\">\n",
       "      <th></th>\n",
       "      <th>team_name</th>\n",
       "      <th>team_name_short</th>\n",
       "      <th>team_id</th>\n",
       "      <th>team_id_pfr</th>\n",
       "      <th>team_conference</th>\n",
       "      <th>team_division</th>\n",
       "      <th>team_conference_pre2002</th>\n",
       "      <th>team_division_pre2002</th>\n",
       "    </tr>\n",
       "  </thead>\n",
       "  <tbody>\n",
       "    <tr>\n",
       "      <td>0</td>\n",
       "      <td>Arizona Cardinals</td>\n",
       "      <td>Cardinals</td>\n",
       "      <td>ARI</td>\n",
       "      <td>CRD</td>\n",
       "      <td>NFC</td>\n",
       "      <td>NFC West</td>\n",
       "      <td>NFC</td>\n",
       "      <td>NFC West</td>\n",
       "    </tr>\n",
       "    <tr>\n",
       "      <td>1</td>\n",
       "      <td>Phoenix Cardinals</td>\n",
       "      <td>Cardinals</td>\n",
       "      <td>ARI</td>\n",
       "      <td>CRD</td>\n",
       "      <td>NFC</td>\n",
       "      <td>NaN</td>\n",
       "      <td>NFC</td>\n",
       "      <td>NFC East</td>\n",
       "    </tr>\n",
       "    <tr>\n",
       "      <td>2</td>\n",
       "      <td>St. Louis Cardinals</td>\n",
       "      <td>Cardinals</td>\n",
       "      <td>ARI</td>\n",
       "      <td>ARI</td>\n",
       "      <td>NFC</td>\n",
       "      <td>NaN</td>\n",
       "      <td>NFC</td>\n",
       "      <td>NFC East</td>\n",
       "    </tr>\n",
       "    <tr>\n",
       "      <td>3</td>\n",
       "      <td>Atlanta Falcons</td>\n",
       "      <td>Falcons</td>\n",
       "      <td>ATL</td>\n",
       "      <td>ATL</td>\n",
       "      <td>NFC</td>\n",
       "      <td>NFC South</td>\n",
       "      <td>NFC</td>\n",
       "      <td>NFC West</td>\n",
       "    </tr>\n",
       "    <tr>\n",
       "      <td>4</td>\n",
       "      <td>Baltimore Ravens</td>\n",
       "      <td>Ravens</td>\n",
       "      <td>BAL</td>\n",
       "      <td>RAV</td>\n",
       "      <td>AFC</td>\n",
       "      <td>AFC North</td>\n",
       "      <td>AFC</td>\n",
       "      <td>AFC Central</td>\n",
       "    </tr>\n",
       "  </tbody>\n",
       "</table>\n",
       "</div>"
      ],
      "text/plain": [
       "             team_name team_name_short team_id team_id_pfr team_conference  \\\n",
       "0    Arizona Cardinals       Cardinals     ARI         CRD             NFC   \n",
       "1    Phoenix Cardinals       Cardinals     ARI         CRD             NFC   \n",
       "2  St. Louis Cardinals       Cardinals     ARI         ARI             NFC   \n",
       "3      Atlanta Falcons         Falcons     ATL         ATL             NFC   \n",
       "4     Baltimore Ravens          Ravens     BAL         RAV             AFC   \n",
       "\n",
       "  team_division team_conference_pre2002 team_division_pre2002  \n",
       "0      NFC West                     NFC              NFC West  \n",
       "1           NaN                     NFC              NFC East  \n",
       "2           NaN                     NFC              NFC East  \n",
       "3     NFC South                     NFC              NFC West  \n",
       "4     AFC North                     AFC           AFC Central  "
      ]
     },
     "execution_count": 15,
     "metadata": {},
     "output_type": "execute_result"
    }
   ],
   "source": [
    "nflTeams.head()"
   ]
  },
  {
   "cell_type": "code",
   "execution_count": 16,
   "metadata": {},
   "outputs": [],
   "source": [
    "nflStadiumsCleaned = nflStadiums.drop(columns=['stadium_open','stadium_close','stadium_address','stadium_weather_station_code','stadium_capacity','STATION','NAME','LATITUDE','LONGITUDE'])"
   ]
  },
  {
   "cell_type": "code",
   "execution_count": 17,
   "metadata": {},
   "outputs": [
    {
     "data": {
      "text/html": [
       "<div>\n",
       "<style scoped>\n",
       "    .dataframe tbody tr th:only-of-type {\n",
       "        vertical-align: middle;\n",
       "    }\n",
       "\n",
       "    .dataframe tbody tr th {\n",
       "        vertical-align: top;\n",
       "    }\n",
       "\n",
       "    .dataframe thead th {\n",
       "        text-align: right;\n",
       "    }\n",
       "</style>\n",
       "<table border=\"1\" class=\"dataframe\">\n",
       "  <thead>\n",
       "    <tr style=\"text-align: right;\">\n",
       "      <th></th>\n",
       "      <th>stadium_name</th>\n",
       "      <th>stadium_location</th>\n",
       "      <th>stadium_type</th>\n",
       "      <th>stadium_weather_type</th>\n",
       "      <th>stadium_surface</th>\n",
       "      <th>ELEVATION</th>\n",
       "    </tr>\n",
       "  </thead>\n",
       "  <tbody>\n",
       "    <tr>\n",
       "      <td>1</td>\n",
       "      <td>Alltel Stadium</td>\n",
       "      <td>Jacksonville, FL</td>\n",
       "      <td>NaN</td>\n",
       "      <td>NaN</td>\n",
       "      <td>NaN</td>\n",
       "      <td>NaN</td>\n",
       "    </tr>\n",
       "    <tr>\n",
       "      <td>16</td>\n",
       "      <td>Dolphin Stadium</td>\n",
       "      <td>Miami, FL</td>\n",
       "      <td>NaN</td>\n",
       "      <td>NaN</td>\n",
       "      <td>NaN</td>\n",
       "      <td>NaN</td>\n",
       "    </tr>\n",
       "    <tr>\n",
       "      <td>35</td>\n",
       "      <td>Jack Murphy Stadium</td>\n",
       "      <td>San Diego, CA</td>\n",
       "      <td>NaN</td>\n",
       "      <td>NaN</td>\n",
       "      <td>NaN</td>\n",
       "      <td>NaN</td>\n",
       "    </tr>\n",
       "    <tr>\n",
       "      <td>36</td>\n",
       "      <td>Joe Robbie Stadium</td>\n",
       "      <td>Miami, FL</td>\n",
       "      <td>NaN</td>\n",
       "      <td>NaN</td>\n",
       "      <td>NaN</td>\n",
       "      <td>NaN</td>\n",
       "    </tr>\n",
       "    <tr>\n",
       "      <td>65</td>\n",
       "      <td>Pro Player Stadium</td>\n",
       "      <td>Miami, FL</td>\n",
       "      <td>NaN</td>\n",
       "      <td>NaN</td>\n",
       "      <td>NaN</td>\n",
       "      <td>NaN</td>\n",
       "    </tr>\n",
       "    <tr>\n",
       "      <td>79</td>\n",
       "      <td>Stanford Stadium</td>\n",
       "      <td>Palo Alto, CA</td>\n",
       "      <td>NaN</td>\n",
       "      <td>NaN</td>\n",
       "      <td>NaN</td>\n",
       "      <td>NaN</td>\n",
       "    </tr>\n",
       "    <tr>\n",
       "      <td>83</td>\n",
       "      <td>Tampa Stadium</td>\n",
       "      <td>Tampa, FL</td>\n",
       "      <td>NaN</td>\n",
       "      <td>NaN</td>\n",
       "      <td>NaN</td>\n",
       "      <td>NaN</td>\n",
       "    </tr>\n",
       "  </tbody>\n",
       "</table>\n",
       "</div>"
      ],
      "text/plain": [
       "           stadium_name  stadium_location stadium_type stadium_weather_type  \\\n",
       "1        Alltel Stadium  Jacksonville, FL          NaN                  NaN   \n",
       "16      Dolphin Stadium         Miami, FL          NaN                  NaN   \n",
       "35  Jack Murphy Stadium     San Diego, CA          NaN                  NaN   \n",
       "36   Joe Robbie Stadium         Miami, FL          NaN                  NaN   \n",
       "65   Pro Player Stadium         Miami, FL          NaN                  NaN   \n",
       "79     Stanford Stadium     Palo Alto, CA          NaN                  NaN   \n",
       "83        Tampa Stadium         Tampa, FL          NaN                  NaN   \n",
       "\n",
       "   stadium_surface  ELEVATION  \n",
       "1              NaN        NaN  \n",
       "16             NaN        NaN  \n",
       "35             NaN        NaN  \n",
       "36             NaN        NaN  \n",
       "65             NaN        NaN  \n",
       "79             NaN        NaN  \n",
       "83             NaN        NaN  "
      ]
     },
     "execution_count": 17,
     "metadata": {},
     "output_type": "execute_result"
    }
   ],
   "source": [
    "nflStadiumsCleaned[pd.isnull(nflStadiumsCleaned['stadium_type'])]"
   ]
  },
  {
   "cell_type": "code",
   "execution_count": 18,
   "metadata": {},
   "outputs": [],
   "source": [
    "nflGamesCleaned = nflGames.drop(columns=['over_under_line','spread_favorite','weather_detail'])"
   ]
  },
  {
   "cell_type": "code",
   "execution_count": 19,
   "metadata": {},
   "outputs": [],
   "source": [
    "nflGamesCleaned = nflGamesCleaned.dropna(axis=0,subset=['weather_temperature'])"
   ]
  },
  {
   "cell_type": "code",
   "execution_count": 20,
   "metadata": {},
   "outputs": [],
   "source": [
    "nflGamesCleaned = nflGamesCleaned.dropna(axis=0,subset=['score_home'])"
   ]
  },
  {
   "cell_type": "code",
   "execution_count": 21,
   "metadata": {},
   "outputs": [],
   "source": [
    "stadiumTypes = nflStadiumsCleaned['stadium_type'].value_counts()"
   ]
  },
  {
   "cell_type": "code",
   "execution_count": 22,
   "metadata": {},
   "outputs": [],
   "source": [
    "stadiumWeatherTypes = nflStadiumsCleaned['stadium_weather_type'].value_counts()"
   ]
  },
  {
   "cell_type": "code",
   "execution_count": 23,
   "metadata": {},
   "outputs": [],
   "source": [
    "gamesStadiums = pd.merge(nflGamesCleaned,nflStadiumsCleaned,how='left',left_on='stadium',right_on='stadium_name')"
   ]
  },
  {
   "cell_type": "code",
   "execution_count": 24,
   "metadata": {},
   "outputs": [],
   "source": [
    "nullStadiums = gamesStadiums[pd.isnull(gamesStadiums['stadium_name'])]"
   ]
  },
  {
   "cell_type": "code",
   "execution_count": 25,
   "metadata": {},
   "outputs": [],
   "source": [
    "gamesStadiums['scoreDiff'] = gamesStadiums['score_home'] - gamesStadiums['score_away']"
   ]
  },
  {
   "cell_type": "code",
   "execution_count": 26,
   "metadata": {},
   "outputs": [],
   "source": [
    "gamesStadiums['homeWin'] = gamesStadiums['scoreDiff'].apply(lambda x: 1 if x > 0 else 0)"
   ]
  },
  {
   "cell_type": "code",
   "execution_count": 27,
   "metadata": {},
   "outputs": [],
   "source": [
    "gamesStadiums['AwayWin'] = gamesStadiums['scoreDiff'].apply(lambda x: 1 if x < 0 else 0)"
   ]
  },
  {
   "cell_type": "code",
   "execution_count": 28,
   "metadata": {},
   "outputs": [],
   "source": [
    "gamesStadiums['weather_temperatureRounded'] = gamesStadiums['weather_temperature'] // 10 * 10"
   ]
  },
  {
   "cell_type": "code",
   "execution_count": 29,
   "metadata": {},
   "outputs": [],
   "source": [
    "gamesStadiums['schedule_season'] = gamesStadiums['schedule_season'] // 10 * 10"
   ]
  },
  {
   "cell_type": "code",
   "execution_count": 165,
   "metadata": {},
   "outputs": [],
   "source": [
    "gamesStadiums['games'] = 1"
   ]
  },
  {
   "cell_type": "code",
   "execution_count": 168,
   "metadata": {},
   "outputs": [
    {
     "name": "stdout",
     "output_type": "stream",
     "text": [
      "<class 'pandas.core.frame.DataFrame'>\n",
      "Int64Index: 11878 entries, 0 to 11877\n",
      "Data columns (total 25 columns):\n",
      "schedule_date                 11878 non-null object\n",
      "schedule_season               11878 non-null int64\n",
      "schedule_week                 11878 non-null object\n",
      "schedule_playoff              11878 non-null bool\n",
      "team_home                     11878 non-null object\n",
      "score_home                    11878 non-null float64\n",
      "score_away                    11878 non-null float64\n",
      "team_away                     11878 non-null object\n",
      "team_favorite_id              9629 non-null object\n",
      "stadium                       11878 non-null object\n",
      "stadium_neutral               11878 non-null bool\n",
      "weather_temperature           11878 non-null float64\n",
      "weather_wind_mph              11878 non-null float64\n",
      "weather_humidity              8388 non-null object\n",
      "stadium_name                  11673 non-null object\n",
      "stadium_location              11673 non-null object\n",
      "stadium_type                  11673 non-null object\n",
      "stadium_weather_type          11673 non-null object\n",
      "stadium_surface               6085 non-null object\n",
      "ELEVATION                     8849 non-null float64\n",
      "scoreDiff                     11878 non-null float64\n",
      "homeWin                       11878 non-null int64\n",
      "AwayWin                       11878 non-null int64\n",
      "weather_temperatureRounded    11878 non-null float64\n",
      "games                         11878 non-null int64\n",
      "dtypes: bool(2), float64(7), int64(4), object(12)\n",
      "memory usage: 2.2+ MB\n"
     ]
    }
   ],
   "source": [
    "gamesStadiums.info()"
   ]
  },
  {
   "cell_type": "code",
   "execution_count": 31,
   "metadata": {},
   "outputs": [
    {
     "data": {
      "text/html": [
       "<div>\n",
       "<style scoped>\n",
       "    .dataframe tbody tr th:only-of-type {\n",
       "        vertical-align: middle;\n",
       "    }\n",
       "\n",
       "    .dataframe tbody tr th {\n",
       "        vertical-align: top;\n",
       "    }\n",
       "\n",
       "    .dataframe thead tr th {\n",
       "        text-align: left;\n",
       "    }\n",
       "\n",
       "    .dataframe thead tr:last-of-type th {\n",
       "        text-align: right;\n",
       "    }\n",
       "</style>\n",
       "<table border=\"1\" class=\"dataframe\">\n",
       "  <thead>\n",
       "    <tr>\n",
       "      <th></th>\n",
       "      <th colspan=\"8\" halign=\"left\">weather_temperature</th>\n",
       "    </tr>\n",
       "    <tr>\n",
       "      <th></th>\n",
       "      <th>count</th>\n",
       "      <th>mean</th>\n",
       "      <th>std</th>\n",
       "      <th>min</th>\n",
       "      <th>25%</th>\n",
       "      <th>50%</th>\n",
       "      <th>75%</th>\n",
       "      <th>max</th>\n",
       "    </tr>\n",
       "    <tr>\n",
       "      <th>stadium_type</th>\n",
       "      <th></th>\n",
       "      <th></th>\n",
       "      <th></th>\n",
       "      <th></th>\n",
       "      <th></th>\n",
       "      <th></th>\n",
       "      <th></th>\n",
       "      <th></th>\n",
       "    </tr>\n",
       "  </thead>\n",
       "  <tbody>\n",
       "    <tr>\n",
       "      <td>indoor</td>\n",
       "      <td>1986.0</td>\n",
       "      <td>72.000000</td>\n",
       "      <td>0.000000</td>\n",
       "      <td>72.0</td>\n",
       "      <td>72.0</td>\n",
       "      <td>72.0</td>\n",
       "      <td>72.0</td>\n",
       "      <td>72.0</td>\n",
       "    </tr>\n",
       "    <tr>\n",
       "      <td>outdoor</td>\n",
       "      <td>9164.0</td>\n",
       "      <td>54.985596</td>\n",
       "      <td>15.633036</td>\n",
       "      <td>-6.0</td>\n",
       "      <td>44.0</td>\n",
       "      <td>56.0</td>\n",
       "      <td>66.0</td>\n",
       "      <td>97.0</td>\n",
       "    </tr>\n",
       "    <tr>\n",
       "      <td>retractable</td>\n",
       "      <td>523.0</td>\n",
       "      <td>71.053537</td>\n",
       "      <td>7.861164</td>\n",
       "      <td>26.0</td>\n",
       "      <td>72.0</td>\n",
       "      <td>72.0</td>\n",
       "      <td>72.0</td>\n",
       "      <td>92.0</td>\n",
       "    </tr>\n",
       "  </tbody>\n",
       "</table>\n",
       "</div>"
      ],
      "text/plain": [
       "             weather_temperature                                          \\\n",
       "                           count       mean        std   min   25%   50%   \n",
       "stadium_type                                                               \n",
       "indoor                    1986.0  72.000000   0.000000  72.0  72.0  72.0   \n",
       "outdoor                   9164.0  54.985596  15.633036  -6.0  44.0  56.0   \n",
       "retractable                523.0  71.053537   7.861164  26.0  72.0  72.0   \n",
       "\n",
       "                          \n",
       "               75%   max  \n",
       "stadium_type              \n",
       "indoor        72.0  72.0  \n",
       "outdoor       66.0  97.0  \n",
       "retractable   72.0  92.0  "
      ]
     },
     "execution_count": 31,
     "metadata": {},
     "output_type": "execute_result"
    }
   ],
   "source": [
    "gamesStadiums[['stadium_type','weather_temperature']].groupby(['stadium_type']).describe()"
   ]
  },
  {
   "cell_type": "code",
   "execution_count": 32,
   "metadata": {},
   "outputs": [],
   "source": [
    "gamesStadiumsPivot = gamesStadiums[['weather_temperatureRounded','stadium_type','scoreDiff']]"
   ]
  },
  {
   "cell_type": "code",
   "execution_count": 33,
   "metadata": {},
   "outputs": [
    {
     "data": {
      "text/plain": [
       "[<matplotlib.lines.Line2D at 0x1a206e6090>]"
      ]
     },
     "execution_count": 33,
     "metadata": {},
     "output_type": "execute_result"
    },
    {
     "data": {
      "image/png": "[encoded data removed]",
      "text/plain": [
       "<Figure size 432x288 with 1 Axes>"
      ]
     },
     "metadata": {
      "needs_background": "light"
     },
     "output_type": "display_data"
    }
   ],
   "source": [
    "sns.scatterplot(x='weather_temperatureRounded',y='scoreDiff',hue='stadium_type',style='stadium_type',data=gamesStadiumsPivot)\n",
    "plt.plot([100,-10],[0,0],'k-')"
   ]
  },
  {
   "cell_type": "code",
   "execution_count": 34,
   "metadata": {},
   "outputs": [
    {
     "data": {
      "text/html": [
       "<div>\n",
       "<style scoped>\n",
       "    .dataframe tbody tr th:only-of-type {\n",
       "        vertical-align: middle;\n",
       "    }\n",
       "\n",
       "    .dataframe tbody tr th {\n",
       "        vertical-align: top;\n",
       "    }\n",
       "\n",
       "    .dataframe thead th {\n",
       "        text-align: right;\n",
       "    }\n",
       "</style>\n",
       "<table border=\"1\" class=\"dataframe\">\n",
       "  <thead>\n",
       "    <tr style=\"text-align: right;\">\n",
       "      <th></th>\n",
       "      <th></th>\n",
       "      <th>scoreDiff</th>\n",
       "    </tr>\n",
       "    <tr>\n",
       "      <th>weather_temperatureRounded</th>\n",
       "      <th>stadium_type</th>\n",
       "      <th></th>\n",
       "    </tr>\n",
       "  </thead>\n",
       "  <tbody>\n",
       "    <tr>\n",
       "      <td>-10.0</td>\n",
       "      <td>outdoor</td>\n",
       "      <td>8.000000</td>\n",
       "    </tr>\n",
       "    <tr>\n",
       "      <td>0.0</td>\n",
       "      <td>outdoor</td>\n",
       "      <td>6.470588</td>\n",
       "    </tr>\n",
       "    <tr>\n",
       "      <td>10.0</td>\n",
       "      <td>outdoor</td>\n",
       "      <td>4.620000</td>\n",
       "    </tr>\n",
       "    <tr>\n",
       "      <td rowspan=\"2\" valign=\"top\">20.0</td>\n",
       "      <td>outdoor</td>\n",
       "      <td>4.163212</td>\n",
       "    </tr>\n",
       "    <tr>\n",
       "      <td>retractable</td>\n",
       "      <td>6.000000</td>\n",
       "    </tr>\n",
       "    <tr>\n",
       "      <td rowspan=\"2\" valign=\"top\">30.0</td>\n",
       "      <td>outdoor</td>\n",
       "      <td>3.643721</td>\n",
       "    </tr>\n",
       "    <tr>\n",
       "      <td>retractable</td>\n",
       "      <td>1.000000</td>\n",
       "    </tr>\n",
       "    <tr>\n",
       "      <td rowspan=\"2\" valign=\"top\">40.0</td>\n",
       "      <td>outdoor</td>\n",
       "      <td>3.314413</td>\n",
       "    </tr>\n",
       "    <tr>\n",
       "      <td>retractable</td>\n",
       "      <td>5.000000</td>\n",
       "    </tr>\n",
       "    <tr>\n",
       "      <td rowspan=\"2\" valign=\"top\">50.0</td>\n",
       "      <td>outdoor</td>\n",
       "      <td>3.210188</td>\n",
       "    </tr>\n",
       "    <tr>\n",
       "      <td>retractable</td>\n",
       "      <td>-1.461538</td>\n",
       "    </tr>\n",
       "    <tr>\n",
       "      <td rowspan=\"2\" valign=\"top\">60.0</td>\n",
       "      <td>outdoor</td>\n",
       "      <td>2.785781</td>\n",
       "    </tr>\n",
       "    <tr>\n",
       "      <td>retractable</td>\n",
       "      <td>-0.214286</td>\n",
       "    </tr>\n",
       "    <tr>\n",
       "      <td rowspan=\"3\" valign=\"top\">70.0</td>\n",
       "      <td>indoor</td>\n",
       "      <td>1.984391</td>\n",
       "    </tr>\n",
       "    <tr>\n",
       "      <td>outdoor</td>\n",
       "      <td>2.413257</td>\n",
       "    </tr>\n",
       "    <tr>\n",
       "      <td>retractable</td>\n",
       "      <td>1.696104</td>\n",
       "    </tr>\n",
       "    <tr>\n",
       "      <td rowspan=\"2\" valign=\"top\">80.0</td>\n",
       "      <td>outdoor</td>\n",
       "      <td>2.378378</td>\n",
       "    </tr>\n",
       "    <tr>\n",
       "      <td>retractable</td>\n",
       "      <td>0.400000</td>\n",
       "    </tr>\n",
       "    <tr>\n",
       "      <td rowspan=\"2\" valign=\"top\">90.0</td>\n",
       "      <td>outdoor</td>\n",
       "      <td>-3.692308</td>\n",
       "    </tr>\n",
       "    <tr>\n",
       "      <td>retractable</td>\n",
       "      <td>-5.777778</td>\n",
       "    </tr>\n",
       "  </tbody>\n",
       "</table>\n",
       "</div>"
      ],
      "text/plain": [
       "                                         scoreDiff\n",
       "weather_temperatureRounded stadium_type           \n",
       "-10.0                      outdoor        8.000000\n",
       " 0.0                       outdoor        6.470588\n",
       " 10.0                      outdoor        4.620000\n",
       " 20.0                      outdoor        4.163212\n",
       "                           retractable    6.000000\n",
       " 30.0                      outdoor        3.643721\n",
       "                           retractable    1.000000\n",
       " 40.0                      outdoor        3.314413\n",
       "                           retractable    5.000000\n",
       " 50.0                      outdoor        3.210188\n",
       "                           retractable   -1.461538\n",
       " 60.0                      outdoor        2.785781\n",
       "                           retractable   -0.214286\n",
       " 70.0                      indoor         1.984391\n",
       "                           outdoor        2.413257\n",
       "                           retractable    1.696104\n",
       " 80.0                      outdoor        2.378378\n",
       "                           retractable    0.400000\n",
       " 90.0                      outdoor       -3.692308\n",
       "                           retractable   -5.777778"
      ]
     },
     "execution_count": 34,
     "metadata": {},
     "output_type": "execute_result"
    }
   ],
   "source": [
    "gamesStadiumsPivot.groupby(['weather_temperatureRounded','stadium_type']).mean()"
   ]
  },
  {
   "cell_type": "code",
   "execution_count": 35,
   "metadata": {},
   "outputs": [
    {
     "data": {
      "text/html": [
       "<div>\n",
       "<style scoped>\n",
       "    .dataframe tbody tr th:only-of-type {\n",
       "        vertical-align: middle;\n",
       "    }\n",
       "\n",
       "    .dataframe tbody tr th {\n",
       "        vertical-align: top;\n",
       "    }\n",
       "\n",
       "    .dataframe thead th {\n",
       "        text-align: right;\n",
       "    }\n",
       "</style>\n",
       "<table border=\"1\" class=\"dataframe\">\n",
       "  <thead>\n",
       "    <tr style=\"text-align: right;\">\n",
       "      <th></th>\n",
       "      <th>weather_temperatureRounded</th>\n",
       "      <th>scoreDiff</th>\n",
       "    </tr>\n",
       "    <tr>\n",
       "      <th>stadium_type</th>\n",
       "      <th></th>\n",
       "      <th></th>\n",
       "    </tr>\n",
       "  </thead>\n",
       "  <tbody>\n",
       "    <tr>\n",
       "      <td>indoor</td>\n",
       "      <td>70.000000</td>\n",
       "      <td>1.984391</td>\n",
       "    </tr>\n",
       "    <tr>\n",
       "      <td>outdoor</td>\n",
       "      <td>50.534701</td>\n",
       "      <td>3.093736</td>\n",
       "    </tr>\n",
       "    <tr>\n",
       "      <td>retractable</td>\n",
       "      <td>68.298279</td>\n",
       "      <td>1.124283</td>\n",
       "    </tr>\n",
       "  </tbody>\n",
       "</table>\n",
       "</div>"
      ],
      "text/plain": [
       "              weather_temperatureRounded  scoreDiff\n",
       "stadium_type                                       \n",
       "indoor                         70.000000   1.984391\n",
       "outdoor                        50.534701   3.093736\n",
       "retractable                    68.298279   1.124283"
      ]
     },
     "execution_count": 35,
     "metadata": {},
     "output_type": "execute_result"
    }
   ],
   "source": [
    "gamesStadiumsPivot.groupby('stadium_type').mean()"
   ]
  },
  {
   "cell_type": "code",
   "execution_count": 36,
   "metadata": {},
   "outputs": [],
   "source": [
    "gamesStadiumsOutdoors = gamesStadiums[gamesStadiums['stadium_type'] == 'outdoor']"
   ]
  },
  {
   "cell_type": "code",
   "execution_count": 37,
   "metadata": {},
   "outputs": [
    {
     "data": {
      "text/plain": [
       " 50.0    2179\n",
       " 60.0    2138\n",
       " 40.0    1568\n",
       " 70.0    1222\n",
       " 30.0    1075\n",
       " 80.0     444\n",
       " 20.0     386\n",
       " 10.0     100\n",
       " 0.0       34\n",
       " 90.0      13\n",
       "-10.0       5\n",
       "Name: weather_temperatureRounded, dtype: int64"
      ]
     },
     "execution_count": 37,
     "metadata": {},
     "output_type": "execute_result"
    }
   ],
   "source": [
    "gamesStadiumsOutdoors['weather_temperatureRounded'].value_counts()"
   ]
  },
  {
   "cell_type": "code",
   "execution_count": 38,
   "metadata": {},
   "outputs": [],
   "source": [
    "gamesStadiumsOutdoors = gamesStadiumsOutdoors.pivot_table(index='weather_temperatureRounded',values='scoreDiff',aggfunc=np.mean)"
   ]
  },
  {
   "cell_type": "code",
   "execution_count": 39,
   "metadata": {},
   "outputs": [
    {
     "data": {
      "text/html": [
       "<div>\n",
       "<style scoped>\n",
       "    .dataframe tbody tr th:only-of-type {\n",
       "        vertical-align: middle;\n",
       "    }\n",
       "\n",
       "    .dataframe tbody tr th {\n",
       "        vertical-align: top;\n",
       "    }\n",
       "\n",
       "    .dataframe thead th {\n",
       "        text-align: right;\n",
       "    }\n",
       "</style>\n",
       "<table border=\"1\" class=\"dataframe\">\n",
       "  <thead>\n",
       "    <tr style=\"text-align: right;\">\n",
       "      <th></th>\n",
       "      <th>scoreDiff</th>\n",
       "    </tr>\n",
       "    <tr>\n",
       "      <th>weather_temperatureRounded</th>\n",
       "      <th></th>\n",
       "    </tr>\n",
       "  </thead>\n",
       "  <tbody>\n",
       "    <tr>\n",
       "      <td>-10.0</td>\n",
       "      <td>8.000000</td>\n",
       "    </tr>\n",
       "    <tr>\n",
       "      <td>0.0</td>\n",
       "      <td>6.470588</td>\n",
       "    </tr>\n",
       "    <tr>\n",
       "      <td>10.0</td>\n",
       "      <td>4.620000</td>\n",
       "    </tr>\n",
       "    <tr>\n",
       "      <td>20.0</td>\n",
       "      <td>4.163212</td>\n",
       "    </tr>\n",
       "    <tr>\n",
       "      <td>30.0</td>\n",
       "      <td>3.643721</td>\n",
       "    </tr>\n",
       "    <tr>\n",
       "      <td>40.0</td>\n",
       "      <td>3.314413</td>\n",
       "    </tr>\n",
       "    <tr>\n",
       "      <td>50.0</td>\n",
       "      <td>3.210188</td>\n",
       "    </tr>\n",
       "    <tr>\n",
       "      <td>60.0</td>\n",
       "      <td>2.785781</td>\n",
       "    </tr>\n",
       "    <tr>\n",
       "      <td>70.0</td>\n",
       "      <td>2.413257</td>\n",
       "    </tr>\n",
       "    <tr>\n",
       "      <td>80.0</td>\n",
       "      <td>2.378378</td>\n",
       "    </tr>\n",
       "    <tr>\n",
       "      <td>90.0</td>\n",
       "      <td>-3.692308</td>\n",
       "    </tr>\n",
       "  </tbody>\n",
       "</table>\n",
       "</div>"
      ],
      "text/plain": [
       "                            scoreDiff\n",
       "weather_temperatureRounded           \n",
       "-10.0                        8.000000\n",
       " 0.0                         6.470588\n",
       " 10.0                        4.620000\n",
       " 20.0                        4.163212\n",
       " 30.0                        3.643721\n",
       " 40.0                        3.314413\n",
       " 50.0                        3.210188\n",
       " 60.0                        2.785781\n",
       " 70.0                        2.413257\n",
       " 80.0                        2.378378\n",
       " 90.0                       -3.692308"
      ]
     },
     "execution_count": 39,
     "metadata": {},
     "output_type": "execute_result"
    }
   ],
   "source": [
    "gamesStadiumsOutdoors"
   ]
  },
  {
   "cell_type": "code",
   "execution_count": null,
   "metadata": {},
   "outputs": [],
   "source": []
  },
  {
   "cell_type": "code",
   "execution_count": 169,
   "metadata": {},
   "outputs": [],
   "source": [
    "homeWins = gamesStadiums[['homeWin','AwayWin','schedule_season','stadium_type','weather_temperature','weather_temperatureRounded','weather_humidity','weather_wind_mph','score_home','score_away','scoreDiff']]"
   ]
  },
  {
   "cell_type": "code",
   "execution_count": 170,
   "metadata": {},
   "outputs": [
    {
     "data": {
      "text/html": [
       "<div>\n",
       "<style scoped>\n",
       "    .dataframe tbody tr th:only-of-type {\n",
       "        vertical-align: middle;\n",
       "    }\n",
       "\n",
       "    .dataframe tbody tr th {\n",
       "        vertical-align: top;\n",
       "    }\n",
       "\n",
       "    .dataframe thead th {\n",
       "        text-align: right;\n",
       "    }\n",
       "</style>\n",
       "<table border=\"1\" class=\"dataframe\">\n",
       "  <thead>\n",
       "    <tr style=\"text-align: right;\">\n",
       "      <th></th>\n",
       "      <th>homeWin</th>\n",
       "      <th>AwayWin</th>\n",
       "      <th>schedule_season</th>\n",
       "      <th>stadium_type</th>\n",
       "      <th>weather_temperature</th>\n",
       "      <th>weather_temperatureRounded</th>\n",
       "      <th>weather_humidity</th>\n",
       "      <th>weather_wind_mph</th>\n",
       "      <th>score_home</th>\n",
       "      <th>score_away</th>\n",
       "      <th>scoreDiff</th>\n",
       "    </tr>\n",
       "  </thead>\n",
       "  <tbody>\n",
       "    <tr>\n",
       "      <td>0</td>\n",
       "      <td>0</td>\n",
       "      <td>1</td>\n",
       "      <td>1960</td>\n",
       "      <td>outdoor</td>\n",
       "      <td>83.0</td>\n",
       "      <td>80.0</td>\n",
       "      <td>71</td>\n",
       "      <td>6.0</td>\n",
       "      <td>14.0</td>\n",
       "      <td>23.0</td>\n",
       "      <td>-9.0</td>\n",
       "    </tr>\n",
       "    <tr>\n",
       "      <td>1</td>\n",
       "      <td>1</td>\n",
       "      <td>0</td>\n",
       "      <td>1960</td>\n",
       "      <td>outdoor</td>\n",
       "      <td>81.0</td>\n",
       "      <td>80.0</td>\n",
       "      <td>70</td>\n",
       "      <td>7.0</td>\n",
       "      <td>45.0</td>\n",
       "      <td>7.0</td>\n",
       "      <td>38.0</td>\n",
       "    </tr>\n",
       "    <tr>\n",
       "      <td>2</td>\n",
       "      <td>1</td>\n",
       "      <td>0</td>\n",
       "      <td>1960</td>\n",
       "      <td>outdoor</td>\n",
       "      <td>70.0</td>\n",
       "      <td>70.0</td>\n",
       "      <td>82</td>\n",
       "      <td>7.0</td>\n",
       "      <td>27.0</td>\n",
       "      <td>7.0</td>\n",
       "      <td>20.0</td>\n",
       "    </tr>\n",
       "    <tr>\n",
       "      <td>3</td>\n",
       "      <td>0</td>\n",
       "      <td>1</td>\n",
       "      <td>1960</td>\n",
       "      <td>outdoor</td>\n",
       "      <td>82.0</td>\n",
       "      <td>80.0</td>\n",
       "      <td>78</td>\n",
       "      <td>11.0</td>\n",
       "      <td>14.0</td>\n",
       "      <td>19.0</td>\n",
       "      <td>-5.0</td>\n",
       "    </tr>\n",
       "    <tr>\n",
       "      <td>4</td>\n",
       "      <td>1</td>\n",
       "      <td>0</td>\n",
       "      <td>1960</td>\n",
       "      <td>outdoor</td>\n",
       "      <td>64.0</td>\n",
       "      <td>60.0</td>\n",
       "      <td>62</td>\n",
       "      <td>8.0</td>\n",
       "      <td>24.0</td>\n",
       "      <td>3.0</td>\n",
       "      <td>21.0</td>\n",
       "    </tr>\n",
       "    <tr>\n",
       "      <td>...</td>\n",
       "      <td>...</td>\n",
       "      <td>...</td>\n",
       "      <td>...</td>\n",
       "      <td>...</td>\n",
       "      <td>...</td>\n",
       "      <td>...</td>\n",
       "      <td>...</td>\n",
       "      <td>...</td>\n",
       "      <td>...</td>\n",
       "      <td>...</td>\n",
       "      <td>...</td>\n",
       "    </tr>\n",
       "    <tr>\n",
       "      <td>11870</td>\n",
       "      <td>0</td>\n",
       "      <td>1</td>\n",
       "      <td>2010</td>\n",
       "      <td>outdoor</td>\n",
       "      <td>39.0</td>\n",
       "      <td>30.0</td>\n",
       "      <td>NaN</td>\n",
       "      <td>12.0</td>\n",
       "      <td>15.0</td>\n",
       "      <td>16.0</td>\n",
       "      <td>-1.0</td>\n",
       "    </tr>\n",
       "    <tr>\n",
       "      <td>11871</td>\n",
       "      <td>1</td>\n",
       "      <td>0</td>\n",
       "      <td>2010</td>\n",
       "      <td>outdoor</td>\n",
       "      <td>32.0</td>\n",
       "      <td>30.0</td>\n",
       "      <td>NaN</td>\n",
       "      <td>13.0</td>\n",
       "      <td>31.0</td>\n",
       "      <td>13.0</td>\n",
       "      <td>18.0</td>\n",
       "    </tr>\n",
       "    <tr>\n",
       "      <td>11872</td>\n",
       "      <td>1</td>\n",
       "      <td>0</td>\n",
       "      <td>2010</td>\n",
       "      <td>outdoor</td>\n",
       "      <td>57.0</td>\n",
       "      <td>50.0</td>\n",
       "      <td>NaN</td>\n",
       "      <td>1.0</td>\n",
       "      <td>30.0</td>\n",
       "      <td>22.0</td>\n",
       "      <td>8.0</td>\n",
       "    </tr>\n",
       "    <tr>\n",
       "      <td>11873</td>\n",
       "      <td>1</td>\n",
       "      <td>0</td>\n",
       "      <td>2010</td>\n",
       "      <td>outdoor</td>\n",
       "      <td>26.0</td>\n",
       "      <td>20.0</td>\n",
       "      <td>NaN</td>\n",
       "      <td>3.0</td>\n",
       "      <td>41.0</td>\n",
       "      <td>28.0</td>\n",
       "      <td>13.0</td>\n",
       "    </tr>\n",
       "    <tr>\n",
       "      <td>11875</td>\n",
       "      <td>0</td>\n",
       "      <td>1</td>\n",
       "      <td>2010</td>\n",
       "      <td>outdoor</td>\n",
       "      <td>19.0</td>\n",
       "      <td>10.0</td>\n",
       "      <td>NaN</td>\n",
       "      <td>14.0</td>\n",
       "      <td>31.0</td>\n",
       "      <td>37.0</td>\n",
       "      <td>-6.0</td>\n",
       "    </tr>\n",
       "  </tbody>\n",
       "</table>\n",
       "<p>9164 rows × 11 columns</p>\n",
       "</div>"
      ],
      "text/plain": [
       "       homeWin  AwayWin  schedule_season stadium_type  weather_temperature  \\\n",
       "0            0        1             1960      outdoor                 83.0   \n",
       "1            1        0             1960      outdoor                 81.0   \n",
       "2            1        0             1960      outdoor                 70.0   \n",
       "3            0        1             1960      outdoor                 82.0   \n",
       "4            1        0             1960      outdoor                 64.0   \n",
       "...        ...      ...              ...          ...                  ...   \n",
       "11870        0        1             2010      outdoor                 39.0   \n",
       "11871        1        0             2010      outdoor                 32.0   \n",
       "11872        1        0             2010      outdoor                 57.0   \n",
       "11873        1        0             2010      outdoor                 26.0   \n",
       "11875        0        1             2010      outdoor                 19.0   \n",
       "\n",
       "       weather_temperatureRounded weather_humidity  weather_wind_mph  \\\n",
       "0                            80.0               71               6.0   \n",
       "1                            80.0               70               7.0   \n",
       "2                            70.0               82               7.0   \n",
       "3                            80.0               78              11.0   \n",
       "4                            60.0               62               8.0   \n",
       "...                           ...              ...               ...   \n",
       "11870                        30.0              NaN              12.0   \n",
       "11871                        30.0              NaN              13.0   \n",
       "11872                        50.0              NaN               1.0   \n",
       "11873                        20.0              NaN               3.0   \n",
       "11875                        10.0              NaN              14.0   \n",
       "\n",
       "       score_home  score_away  scoreDiff  \n",
       "0            14.0        23.0       -9.0  \n",
       "1            45.0         7.0       38.0  \n",
       "2            27.0         7.0       20.0  \n",
       "3            14.0        19.0       -5.0  \n",
       "4            24.0         3.0       21.0  \n",
       "...           ...         ...        ...  \n",
       "11870        15.0        16.0       -1.0  \n",
       "11871        31.0        13.0       18.0  \n",
       "11872        30.0        22.0        8.0  \n",
       "11873        41.0        28.0       13.0  \n",
       "11875        31.0        37.0       -6.0  \n",
       "\n",
       "[9164 rows x 11 columns]"
      ]
     },
     "execution_count": 170,
     "metadata": {},
     "output_type": "execute_result"
    }
   ],
   "source": [
    "homeWins[homeWins['stadium_type'] == 'outdoor']"
   ]
  },
  {
   "cell_type": "code",
   "execution_count": 171,
   "metadata": {},
   "outputs": [
    {
     "name": "stdout",
     "output_type": "stream",
     "text": [
      "<class 'pandas.core.frame.DataFrame'>\n",
      "Int64Index: 11878 entries, 0 to 11877\n",
      "Data columns (total 11 columns):\n",
      "homeWin                       11878 non-null int64\n",
      "AwayWin                       11878 non-null int64\n",
      "schedule_season               11878 non-null int64\n",
      "stadium_type                  11673 non-null object\n",
      "weather_temperature           11878 non-null float64\n",
      "weather_temperatureRounded    11878 non-null float64\n",
      "weather_humidity              8388 non-null object\n",
      "weather_wind_mph              11878 non-null float64\n",
      "score_home                    11878 non-null float64\n",
      "score_away                    11878 non-null float64\n",
      "scoreDiff                     11878 non-null float64\n",
      "dtypes: float64(6), int64(3), object(2)\n",
      "memory usage: 1.1+ MB\n"
     ]
    }
   ],
   "source": [
    "homeWins.info()"
   ]
  },
  {
   "cell_type": "code",
   "execution_count": 172,
   "metadata": {},
   "outputs": [],
   "source": [
    "homeWinsHumidity = homeWins.dropna(axis=0,subset=['weather_humidity'])"
   ]
  },
  {
   "cell_type": "code",
   "execution_count": 173,
   "metadata": {},
   "outputs": [
    {
     "name": "stdout",
     "output_type": "stream",
     "text": [
      "<class 'pandas.core.frame.DataFrame'>\n",
      "Int64Index: 8388 entries, 0 to 10541\n",
      "Data columns (total 11 columns):\n",
      "homeWin                       8388 non-null int64\n",
      "AwayWin                       8388 non-null int64\n",
      "schedule_season               8388 non-null int64\n",
      "stadium_type                  8240 non-null object\n",
      "weather_temperature           8388 non-null float64\n",
      "weather_temperatureRounded    8388 non-null float64\n",
      "weather_humidity              8388 non-null object\n",
      "weather_wind_mph              8388 non-null float64\n",
      "score_home                    8388 non-null float64\n",
      "score_away                    8388 non-null float64\n",
      "scoreDiff                     8388 non-null float64\n",
      "dtypes: float64(6), int64(3), object(2)\n",
      "memory usage: 786.4+ KB\n"
     ]
    }
   ],
   "source": [
    "homeWinsHumidity.info()"
   ]
  },
  {
   "cell_type": "code",
   "execution_count": 174,
   "metadata": {},
   "outputs": [
    {
     "name": "stderr",
     "output_type": "stream",
     "text": [
      "/Users/Rezalution/opt/anaconda3/lib/python3.7/site-packages/ipykernel_launcher.py:1: SettingWithCopyWarning: \n",
      "A value is trying to be set on a copy of a slice from a DataFrame.\n",
      "Try using .loc[row_indexer,col_indexer] = value instead\n",
      "\n",
      "See the caveats in the documentation: http://pandas.pydata.org/pandas-docs/stable/user_guide/indexing.html#returning-a-view-versus-a-copy\n",
      "  \"\"\"Entry point for launching an IPython kernel.\n"
     ]
    }
   ],
   "source": [
    "homeWinsHumidity['weather_humidity'] = homeWinsHumidity['weather_humidity'].astype(str).str.extract('(\\d+)').astype(float)"
   ]
  },
  {
   "cell_type": "code",
   "execution_count": 175,
   "metadata": {},
   "outputs": [],
   "source": [
    "homeWinsHumidity = homeWinsHumidity.dropna(axis=0,subset=['weather_humidity'])"
   ]
  },
  {
   "cell_type": "code",
   "execution_count": 176,
   "metadata": {},
   "outputs": [
    {
     "data": {
      "text/plain": [
       "<matplotlib.axes._subplots.AxesSubplot at 0x1a2402dad0>"
      ]
     },
     "execution_count": 176,
     "metadata": {},
     "output_type": "execute_result"
    },
    {
     "data": {
      "image/png": "[encoded data removed]",
      "text/plain": [
       "<Figure size 432x288 with 1 Axes>"
      ]
     },
     "metadata": {
      "needs_background": "light"
     },
     "output_type": "display_data"
    }
   ],
   "source": [
    "sns.distplot(homeWinsHumidity['weather_humidity'])"
   ]
  },
  {
   "cell_type": "code",
   "execution_count": 177,
   "metadata": {},
   "outputs": [
    {
     "data": {
      "text/html": [
       "<div>\n",
       "<style scoped>\n",
       "    .dataframe tbody tr th:only-of-type {\n",
       "        vertical-align: middle;\n",
       "    }\n",
       "\n",
       "    .dataframe tbody tr th {\n",
       "        vertical-align: top;\n",
       "    }\n",
       "\n",
       "    .dataframe thead th {\n",
       "        text-align: right;\n",
       "    }\n",
       "</style>\n",
       "<table border=\"1\" class=\"dataframe\">\n",
       "  <thead>\n",
       "    <tr style=\"text-align: right;\">\n",
       "      <th></th>\n",
       "      <th>homeWin</th>\n",
       "      <th>AwayWin</th>\n",
       "      <th>schedule_season</th>\n",
       "      <th>stadium_type</th>\n",
       "      <th>weather_temperature</th>\n",
       "      <th>weather_temperatureRounded</th>\n",
       "      <th>weather_humidity</th>\n",
       "      <th>weather_wind_mph</th>\n",
       "      <th>score_home</th>\n",
       "      <th>score_away</th>\n",
       "      <th>scoreDiff</th>\n",
       "    </tr>\n",
       "  </thead>\n",
       "  <tbody>\n",
       "    <tr>\n",
       "      <td>7827</td>\n",
       "      <td>0</td>\n",
       "      <td>1</td>\n",
       "      <td>2000</td>\n",
       "      <td>outdoor</td>\n",
       "      <td>35.0</td>\n",
       "      <td>30.0</td>\n",
       "      <td>100.0</td>\n",
       "      <td>10.0</td>\n",
       "      <td>26.0</td>\n",
       "      <td>30.0</td>\n",
       "      <td>-4.0</td>\n",
       "    </tr>\n",
       "    <tr>\n",
       "      <td>7865</td>\n",
       "      <td>1</td>\n",
       "      <td>0</td>\n",
       "      <td>2000</td>\n",
       "      <td>outdoor</td>\n",
       "      <td>40.0</td>\n",
       "      <td>40.0</td>\n",
       "      <td>100.0</td>\n",
       "      <td>15.0</td>\n",
       "      <td>20.0</td>\n",
       "      <td>10.0</td>\n",
       "      <td>10.0</td>\n",
       "    </tr>\n",
       "    <tr>\n",
       "      <td>9526</td>\n",
       "      <td>0</td>\n",
       "      <td>1</td>\n",
       "      <td>2010</td>\n",
       "      <td>outdoor</td>\n",
       "      <td>73.0</td>\n",
       "      <td>70.0</td>\n",
       "      <td>100.0</td>\n",
       "      <td>1.0</td>\n",
       "      <td>9.0</td>\n",
       "      <td>10.0</td>\n",
       "      <td>-1.0</td>\n",
       "    </tr>\n",
       "    <tr>\n",
       "      <td>10245</td>\n",
       "      <td>0</td>\n",
       "      <td>1</td>\n",
       "      <td>2010</td>\n",
       "      <td>outdoor</td>\n",
       "      <td>37.0</td>\n",
       "      <td>30.0</td>\n",
       "      <td>100.0</td>\n",
       "      <td>5.0</td>\n",
       "      <td>34.0</td>\n",
       "      <td>41.0</td>\n",
       "      <td>-7.0</td>\n",
       "    </tr>\n",
       "    <tr>\n",
       "      <td>10308</td>\n",
       "      <td>1</td>\n",
       "      <td>0</td>\n",
       "      <td>2010</td>\n",
       "      <td>outdoor</td>\n",
       "      <td>62.0</td>\n",
       "      <td>60.0</td>\n",
       "      <td>100.0</td>\n",
       "      <td>4.0</td>\n",
       "      <td>38.0</td>\n",
       "      <td>20.0</td>\n",
       "      <td>18.0</td>\n",
       "    </tr>\n",
       "    <tr>\n",
       "      <td>10357</td>\n",
       "      <td>0</td>\n",
       "      <td>1</td>\n",
       "      <td>2010</td>\n",
       "      <td>outdoor</td>\n",
       "      <td>69.0</td>\n",
       "      <td>60.0</td>\n",
       "      <td>100.0</td>\n",
       "      <td>9.0</td>\n",
       "      <td>21.0</td>\n",
       "      <td>36.0</td>\n",
       "      <td>-15.0</td>\n",
       "    </tr>\n",
       "    <tr>\n",
       "      <td>10442</td>\n",
       "      <td>1</td>\n",
       "      <td>0</td>\n",
       "      <td>2010</td>\n",
       "      <td>outdoor</td>\n",
       "      <td>61.0</td>\n",
       "      <td>60.0</td>\n",
       "      <td>100.0</td>\n",
       "      <td>2.0</td>\n",
       "      <td>27.0</td>\n",
       "      <td>13.0</td>\n",
       "      <td>14.0</td>\n",
       "    </tr>\n",
       "    <tr>\n",
       "      <td>10534</td>\n",
       "      <td>1</td>\n",
       "      <td>0</td>\n",
       "      <td>2010</td>\n",
       "      <td>outdoor</td>\n",
       "      <td>41.0</td>\n",
       "      <td>40.0</td>\n",
       "      <td>100.0</td>\n",
       "      <td>8.0</td>\n",
       "      <td>34.0</td>\n",
       "      <td>20.0</td>\n",
       "      <td>14.0</td>\n",
       "    </tr>\n",
       "    <tr>\n",
       "      <td>10536</td>\n",
       "      <td>1</td>\n",
       "      <td>0</td>\n",
       "      <td>2010</td>\n",
       "      <td>outdoor</td>\n",
       "      <td>42.0</td>\n",
       "      <td>40.0</td>\n",
       "      <td>100.0</td>\n",
       "      <td>5.0</td>\n",
       "      <td>20.0</td>\n",
       "      <td>6.0</td>\n",
       "      <td>14.0</td>\n",
       "    </tr>\n",
       "  </tbody>\n",
       "</table>\n",
       "</div>"
      ],
      "text/plain": [
       "       homeWin  AwayWin  schedule_season stadium_type  weather_temperature  \\\n",
       "7827         0        1             2000      outdoor                 35.0   \n",
       "7865         1        0             2000      outdoor                 40.0   \n",
       "9526         0        1             2010      outdoor                 73.0   \n",
       "10245        0        1             2010      outdoor                 37.0   \n",
       "10308        1        0             2010      outdoor                 62.0   \n",
       "10357        0        1             2010      outdoor                 69.0   \n",
       "10442        1        0             2010      outdoor                 61.0   \n",
       "10534        1        0             2010      outdoor                 41.0   \n",
       "10536        1        0             2010      outdoor                 42.0   \n",
       "\n",
       "       weather_temperatureRounded  weather_humidity  weather_wind_mph  \\\n",
       "7827                         30.0             100.0              10.0   \n",
       "7865                         40.0             100.0              15.0   \n",
       "9526                         70.0             100.0               1.0   \n",
       "10245                        30.0             100.0               5.0   \n",
       "10308                        60.0             100.0               4.0   \n",
       "10357                        60.0             100.0               9.0   \n",
       "10442                        60.0             100.0               2.0   \n",
       "10534                        40.0             100.0               8.0   \n",
       "10536                        40.0             100.0               5.0   \n",
       "\n",
       "       score_home  score_away  scoreDiff  \n",
       "7827         26.0        30.0       -4.0  \n",
       "7865         20.0        10.0       10.0  \n",
       "9526          9.0        10.0       -1.0  \n",
       "10245        34.0        41.0       -7.0  \n",
       "10308        38.0        20.0       18.0  \n",
       "10357        21.0        36.0      -15.0  \n",
       "10442        27.0        13.0       14.0  \n",
       "10534        34.0        20.0       14.0  \n",
       "10536        20.0         6.0       14.0  "
      ]
     },
     "execution_count": 177,
     "metadata": {},
     "output_type": "execute_result"
    }
   ],
   "source": [
    "homeWinsHumidity[homeWinsHumidity['weather_humidity'] == 100]"
   ]
  },
  {
   "cell_type": "code",
   "execution_count": 178,
   "metadata": {},
   "outputs": [
    {
     "data": {
      "text/plain": [
       "[<matplotlib.lines.Line2D at 0x1a23f0bf50>]"
      ]
     },
     "execution_count": 178,
     "metadata": {},
     "output_type": "execute_result"
    },
    {
     "data": {
      "image/png": "[encoded data removed]",
      "text/plain": [
       "<Figure size 432x288 with 1 Axes>"
      ]
     },
     "metadata": {
      "needs_background": "light"
     },
     "output_type": "display_data"
    }
   ],
   "source": [
    "sns.scatterplot(x='weather_humidity',y='scoreDiff',data=homeWinsHumidity)\n",
    "plt.plot([100,-10],[0,0],'k-')"
   ]
  },
  {
   "cell_type": "code",
   "execution_count": 179,
   "metadata": {},
   "outputs": [],
   "source": [
    "homeWinsHumidity['weather_humidityRounded'] = homeWinsHumidity['weather_humidity'] // 10 * 10"
   ]
  },
  {
   "cell_type": "code",
   "execution_count": 180,
   "metadata": {},
   "outputs": [
    {
     "data": {
      "text/plain": [
       "[<matplotlib.lines.Line2D at 0x1a23f11c50>]"
      ]
     },
     "execution_count": 180,
     "metadata": {},
     "output_type": "execute_result"
    },
    {
     "data": {
      "image/png": "[encoded data removed]",
      "text/plain": [
       "<Figure size 432x288 with 1 Axes>"
      ]
     },
     "metadata": {
      "needs_background": "light"
     },
     "output_type": "display_data"
    }
   ],
   "source": [
    "sns.scatterplot(x='weather_humidityRounded',y='scoreDiff',data=homeWinsHumidity)\n",
    "plt.plot([100,-10],[0,0],'k-')"
   ]
  },
  {
   "cell_type": "code",
   "execution_count": 181,
   "metadata": {},
   "outputs": [
    {
     "data": {
      "text/plain": [
       "70.0     2183\n",
       "60.0     1824\n",
       "80.0     1498\n",
       "50.0     1303\n",
       "40.0      670\n",
       "90.0      453\n",
       "30.0      267\n",
       "20.0      129\n",
       "10.0       46\n",
       "100.0       9\n",
       "0.0         6\n",
       "Name: weather_humidityRounded, dtype: int64"
      ]
     },
     "execution_count": 181,
     "metadata": {},
     "output_type": "execute_result"
    }
   ],
   "source": [
    "homeWinsHumidity['weather_humidityRounded'].value_counts()"
   ]
  },
  {
   "cell_type": "code",
   "execution_count": 182,
   "metadata": {},
   "outputs": [
    {
     "data": {
      "text/plain": [
       "(0.0051559497920331265,\n",
       " 62.78363945803852,\n",
       " 0.004806812174890256,\n",
       " 0.659811267608515,\n",
       " 0.011713025282884416)"
      ]
     },
     "execution_count": 182,
     "metadata": {},
     "output_type": "execute_result"
    }
   ],
   "source": [
    "slope, intercept, r_value, p_value, std_err = linregress(homeWinsHumidity['scoreDiff'],homeWinsHumidity['weather_humidityRounded'])\n",
    "slope, intercept, r_value, p_value, std_err"
   ]
  },
  {
   "cell_type": "code",
   "execution_count": 183,
   "metadata": {},
   "outputs": [
    {
     "data": {
      "text/plain": [
       "SpearmanrResult(correlation=-0.0013256983844779232, pvalue=0.9033762729523585)"
      ]
     },
     "execution_count": 183,
     "metadata": {},
     "output_type": "execute_result"
    }
   ],
   "source": [
    "spearmanr(homeWinsHumidity['scoreDiff'],homeWinsHumidity['weather_humidityRounded'])"
   ]
  },
  {
   "cell_type": "code",
   "execution_count": null,
   "metadata": {},
   "outputs": [],
   "source": []
  },
  {
   "cell_type": "code",
   "execution_count": 184,
   "metadata": {},
   "outputs": [],
   "source": [
    "homeWinsHumidityPivot = homeWinsHumidity.pivot_table(index='weather_humidityRounded',values='scoreDiff',aggfunc=np.mean)"
   ]
  },
  {
   "cell_type": "code",
   "execution_count": 185,
   "metadata": {},
   "outputs": [
    {
     "data": {
      "text/html": [
       "<div>\n",
       "<style scoped>\n",
       "    .dataframe tbody tr th:only-of-type {\n",
       "        vertical-align: middle;\n",
       "    }\n",
       "\n",
       "    .dataframe tbody tr th {\n",
       "        vertical-align: top;\n",
       "    }\n",
       "\n",
       "    .dataframe thead th {\n",
       "        text-align: right;\n",
       "    }\n",
       "</style>\n",
       "<table border=\"1\" class=\"dataframe\">\n",
       "  <thead>\n",
       "    <tr style=\"text-align: right;\">\n",
       "      <th></th>\n",
       "      <th>scoreDiff</th>\n",
       "    </tr>\n",
       "    <tr>\n",
       "      <th>weather_humidityRounded</th>\n",
       "      <th></th>\n",
       "    </tr>\n",
       "  </thead>\n",
       "  <tbody>\n",
       "    <tr>\n",
       "      <td>0.0</td>\n",
       "      <td>11.500000</td>\n",
       "    </tr>\n",
       "    <tr>\n",
       "      <td>10.0</td>\n",
       "      <td>-3.565217</td>\n",
       "    </tr>\n",
       "    <tr>\n",
       "      <td>20.0</td>\n",
       "      <td>4.403101</td>\n",
       "    </tr>\n",
       "    <tr>\n",
       "      <td>30.0</td>\n",
       "      <td>1.775281</td>\n",
       "    </tr>\n",
       "    <tr>\n",
       "      <td>40.0</td>\n",
       "      <td>3.562687</td>\n",
       "    </tr>\n",
       "    <tr>\n",
       "      <td>50.0</td>\n",
       "      <td>2.705295</td>\n",
       "    </tr>\n",
       "    <tr>\n",
       "      <td>60.0</td>\n",
       "      <td>3.678728</td>\n",
       "    </tr>\n",
       "    <tr>\n",
       "      <td>70.0</td>\n",
       "      <td>2.449840</td>\n",
       "    </tr>\n",
       "    <tr>\n",
       "      <td>80.0</td>\n",
       "      <td>3.410547</td>\n",
       "    </tr>\n",
       "    <tr>\n",
       "      <td>90.0</td>\n",
       "      <td>2.883002</td>\n",
       "    </tr>\n",
       "    <tr>\n",
       "      <td>100.0</td>\n",
       "      <td>4.777778</td>\n",
       "    </tr>\n",
       "  </tbody>\n",
       "</table>\n",
       "</div>"
      ],
      "text/plain": [
       "                         scoreDiff\n",
       "weather_humidityRounded           \n",
       "0.0                      11.500000\n",
       "10.0                     -3.565217\n",
       "20.0                      4.403101\n",
       "30.0                      1.775281\n",
       "40.0                      3.562687\n",
       "50.0                      2.705295\n",
       "60.0                      3.678728\n",
       "70.0                      2.449840\n",
       "80.0                      3.410547\n",
       "90.0                      2.883002\n",
       "100.0                     4.777778"
      ]
     },
     "execution_count": 185,
     "metadata": {},
     "output_type": "execute_result"
    }
   ],
   "source": [
    "homeWinsHumidityPivot"
   ]
  },
  {
   "cell_type": "code",
   "execution_count": 186,
   "metadata": {},
   "outputs": [
    {
     "data": {
      "text/plain": [
       "SpearmanrResult(correlation=0.045454545454545456, pvalue=0.8944269969053026)"
      ]
     },
     "execution_count": 186,
     "metadata": {},
     "output_type": "execute_result"
    }
   ],
   "source": [
    "spearmanr(homeWinsHumidityPivot.index,homeWinsHumidityPivot['scoreDiff'])"
   ]
  },
  {
   "cell_type": "code",
   "execution_count": 187,
   "metadata": {},
   "outputs": [
    {
     "data": {
      "text/plain": [
       "<matplotlib.axes._subplots.AxesSubplot at 0x1a20b75e50>"
      ]
     },
     "execution_count": 187,
     "metadata": {},
     "output_type": "execute_result"
    },
    {
     "data": {
      "image/png": "[encoded data removed]",
      "text/plain": [
       "<Figure size 432x288 with 1 Axes>"
      ]
     },
     "metadata": {
      "needs_background": "light"
     },
     "output_type": "display_data"
    }
   ],
   "source": [
    "sns.scatterplot(x=homeWinsHumidityPivot.index,y='scoreDiff',data=homeWinsHumidityPivot)"
   ]
  },
  {
   "cell_type": "markdown",
   "metadata": {},
   "source": [
    "The graph for humidity vs score difference means show no trend in any particular way to imply any correlation between the two. "
   ]
  },
  {
   "cell_type": "code",
   "execution_count": null,
   "metadata": {},
   "outputs": [],
   "source": []
  },
  {
   "cell_type": "code",
   "execution_count": 188,
   "metadata": {},
   "outputs": [],
   "source": [
    "homeWinsHumidityTemp = homeWinsHumidity[['weather_humidityRounded','weather_temperatureRounded','scoreDiff']]"
   ]
  },
  {
   "cell_type": "code",
   "execution_count": 189,
   "metadata": {},
   "outputs": [
    {
     "data": {
      "text/html": [
       "<div>\n",
       "<style scoped>\n",
       "    .dataframe tbody tr th:only-of-type {\n",
       "        vertical-align: middle;\n",
       "    }\n",
       "\n",
       "    .dataframe tbody tr th {\n",
       "        vertical-align: top;\n",
       "    }\n",
       "\n",
       "    .dataframe thead th {\n",
       "        text-align: right;\n",
       "    }\n",
       "</style>\n",
       "<table border=\"1\" class=\"dataframe\">\n",
       "  <thead>\n",
       "    <tr style=\"text-align: right;\">\n",
       "      <th></th>\n",
       "      <th>weather_humidityRounded</th>\n",
       "      <th>weather_temperatureRounded</th>\n",
       "      <th>scoreDiff</th>\n",
       "    </tr>\n",
       "  </thead>\n",
       "  <tbody>\n",
       "    <tr>\n",
       "      <td>0</td>\n",
       "      <td>70.0</td>\n",
       "      <td>80.0</td>\n",
       "      <td>-9.0</td>\n",
       "    </tr>\n",
       "    <tr>\n",
       "      <td>1</td>\n",
       "      <td>70.0</td>\n",
       "      <td>80.0</td>\n",
       "      <td>38.0</td>\n",
       "    </tr>\n",
       "    <tr>\n",
       "      <td>2</td>\n",
       "      <td>80.0</td>\n",
       "      <td>70.0</td>\n",
       "      <td>20.0</td>\n",
       "    </tr>\n",
       "    <tr>\n",
       "      <td>3</td>\n",
       "      <td>70.0</td>\n",
       "      <td>80.0</td>\n",
       "      <td>-5.0</td>\n",
       "    </tr>\n",
       "    <tr>\n",
       "      <td>4</td>\n",
       "      <td>60.0</td>\n",
       "      <td>60.0</td>\n",
       "      <td>21.0</td>\n",
       "    </tr>\n",
       "    <tr>\n",
       "      <td>...</td>\n",
       "      <td>...</td>\n",
       "      <td>...</td>\n",
       "      <td>...</td>\n",
       "    </tr>\n",
       "    <tr>\n",
       "      <td>10537</td>\n",
       "      <td>10.0</td>\n",
       "      <td>70.0</td>\n",
       "      <td>-20.0</td>\n",
       "    </tr>\n",
       "    <tr>\n",
       "      <td>10538</td>\n",
       "      <td>90.0</td>\n",
       "      <td>40.0</td>\n",
       "      <td>13.0</td>\n",
       "    </tr>\n",
       "    <tr>\n",
       "      <td>10539</td>\n",
       "      <td>10.0</td>\n",
       "      <td>70.0</td>\n",
       "      <td>3.0</td>\n",
       "    </tr>\n",
       "    <tr>\n",
       "      <td>10540</td>\n",
       "      <td>90.0</td>\n",
       "      <td>40.0</td>\n",
       "      <td>18.0</td>\n",
       "    </tr>\n",
       "    <tr>\n",
       "      <td>10541</td>\n",
       "      <td>60.0</td>\n",
       "      <td>50.0</td>\n",
       "      <td>6.0</td>\n",
       "    </tr>\n",
       "  </tbody>\n",
       "</table>\n",
       "<p>8388 rows × 3 columns</p>\n",
       "</div>"
      ],
      "text/plain": [
       "       weather_humidityRounded  weather_temperatureRounded  scoreDiff\n",
       "0                         70.0                        80.0       -9.0\n",
       "1                         70.0                        80.0       38.0\n",
       "2                         80.0                        70.0       20.0\n",
       "3                         70.0                        80.0       -5.0\n",
       "4                         60.0                        60.0       21.0\n",
       "...                        ...                         ...        ...\n",
       "10537                     10.0                        70.0      -20.0\n",
       "10538                     90.0                        40.0       13.0\n",
       "10539                     10.0                        70.0        3.0\n",
       "10540                     90.0                        40.0       18.0\n",
       "10541                     60.0                        50.0        6.0\n",
       "\n",
       "[8388 rows x 3 columns]"
      ]
     },
     "execution_count": 189,
     "metadata": {},
     "output_type": "execute_result"
    }
   ],
   "source": [
    "homeWinsHumidityTemp"
   ]
  },
  {
   "cell_type": "code",
   "execution_count": 190,
   "metadata": {},
   "outputs": [],
   "source": [
    "homeWinsHumidityTempPivot = homeWinsHumidityTemp.pivot_table(index='weather_temperatureRounded',columns='weather_humidityRounded',values='scoreDiff',aggfunc=np.mean)"
   ]
  },
  {
   "cell_type": "code",
   "execution_count": 191,
   "metadata": {},
   "outputs": [
    {
     "data": {
      "text/html": [
       "<div>\n",
       "<style scoped>\n",
       "    .dataframe tbody tr th:only-of-type {\n",
       "        vertical-align: middle;\n",
       "    }\n",
       "\n",
       "    .dataframe tbody tr th {\n",
       "        vertical-align: top;\n",
       "    }\n",
       "\n",
       "    .dataframe thead th {\n",
       "        text-align: right;\n",
       "    }\n",
       "</style>\n",
       "<table border=\"1\" class=\"dataframe\">\n",
       "  <thead>\n",
       "    <tr style=\"text-align: right;\">\n",
       "      <th>weather_humidityRounded</th>\n",
       "      <th>0.0</th>\n",
       "      <th>10.0</th>\n",
       "      <th>20.0</th>\n",
       "      <th>30.0</th>\n",
       "      <th>40.0</th>\n",
       "      <th>50.0</th>\n",
       "      <th>60.0</th>\n",
       "      <th>70.0</th>\n",
       "      <th>80.0</th>\n",
       "      <th>90.0</th>\n",
       "      <th>100.0</th>\n",
       "    </tr>\n",
       "    <tr>\n",
       "      <th>weather_temperatureRounded</th>\n",
       "      <th></th>\n",
       "      <th></th>\n",
       "      <th></th>\n",
       "      <th></th>\n",
       "      <th></th>\n",
       "      <th></th>\n",
       "      <th></th>\n",
       "      <th></th>\n",
       "      <th></th>\n",
       "      <th></th>\n",
       "      <th></th>\n",
       "    </tr>\n",
       "  </thead>\n",
       "  <tbody>\n",
       "    <tr>\n",
       "      <td>-10.0</td>\n",
       "      <td>NaN</td>\n",
       "      <td>NaN</td>\n",
       "      <td>NaN</td>\n",
       "      <td>NaN</td>\n",
       "      <td>NaN</td>\n",
       "      <td>10.250000</td>\n",
       "      <td>NaN</td>\n",
       "      <td>NaN</td>\n",
       "      <td>NaN</td>\n",
       "      <td>NaN</td>\n",
       "      <td>NaN</td>\n",
       "    </tr>\n",
       "    <tr>\n",
       "      <td>0.0</td>\n",
       "      <td>15.0</td>\n",
       "      <td>NaN</td>\n",
       "      <td>NaN</td>\n",
       "      <td>NaN</td>\n",
       "      <td>-3.000000</td>\n",
       "      <td>2.833333</td>\n",
       "      <td>11.545455</td>\n",
       "      <td>4.375000</td>\n",
       "      <td>1.333333</td>\n",
       "      <td>NaN</td>\n",
       "      <td>NaN</td>\n",
       "    </tr>\n",
       "    <tr>\n",
       "      <td>10.0</td>\n",
       "      <td>NaN</td>\n",
       "      <td>NaN</td>\n",
       "      <td>NaN</td>\n",
       "      <td>NaN</td>\n",
       "      <td>1.000000</td>\n",
       "      <td>-2.600000</td>\n",
       "      <td>4.321429</td>\n",
       "      <td>6.578947</td>\n",
       "      <td>6.500000</td>\n",
       "      <td>17.000000</td>\n",
       "      <td>NaN</td>\n",
       "    </tr>\n",
       "    <tr>\n",
       "      <td>20.0</td>\n",
       "      <td>NaN</td>\n",
       "      <td>NaN</td>\n",
       "      <td>3.000000</td>\n",
       "      <td>-4.800000</td>\n",
       "      <td>4.470588</td>\n",
       "      <td>5.828571</td>\n",
       "      <td>4.688312</td>\n",
       "      <td>4.371134</td>\n",
       "      <td>3.614035</td>\n",
       "      <td>-5.000000</td>\n",
       "      <td>NaN</td>\n",
       "    </tr>\n",
       "    <tr>\n",
       "      <td>30.0</td>\n",
       "      <td>NaN</td>\n",
       "      <td>-4.000000</td>\n",
       "      <td>4.000000</td>\n",
       "      <td>2.086957</td>\n",
       "      <td>3.635417</td>\n",
       "      <td>2.770115</td>\n",
       "      <td>5.880658</td>\n",
       "      <td>0.288889</td>\n",
       "      <td>5.438272</td>\n",
       "      <td>3.686275</td>\n",
       "      <td>-5.500000</td>\n",
       "    </tr>\n",
       "    <tr>\n",
       "      <td>40.0</td>\n",
       "      <td>NaN</td>\n",
       "      <td>-8.333333</td>\n",
       "      <td>3.615385</td>\n",
       "      <td>2.957447</td>\n",
       "      <td>3.480769</td>\n",
       "      <td>3.064748</td>\n",
       "      <td>2.478261</td>\n",
       "      <td>3.300000</td>\n",
       "      <td>3.434978</td>\n",
       "      <td>4.609524</td>\n",
       "      <td>12.666667</td>\n",
       "    </tr>\n",
       "    <tr>\n",
       "      <td>50.0</td>\n",
       "      <td>4.0</td>\n",
       "      <td>-3.000000</td>\n",
       "      <td>5.187500</td>\n",
       "      <td>2.396825</td>\n",
       "      <td>3.115607</td>\n",
       "      <td>2.531532</td>\n",
       "      <td>3.903371</td>\n",
       "      <td>2.565126</td>\n",
       "      <td>3.107817</td>\n",
       "      <td>4.086667</td>\n",
       "      <td>NaN</td>\n",
       "    </tr>\n",
       "    <tr>\n",
       "      <td>60.0</td>\n",
       "      <td>NaN</td>\n",
       "      <td>-1.166667</td>\n",
       "      <td>2.846154</td>\n",
       "      <td>2.689189</td>\n",
       "      <td>4.890909</td>\n",
       "      <td>2.101215</td>\n",
       "      <td>3.037647</td>\n",
       "      <td>2.095238</td>\n",
       "      <td>3.383292</td>\n",
       "      <td>1.663158</td>\n",
       "      <td>5.666667</td>\n",
       "    </tr>\n",
       "    <tr>\n",
       "      <td>70.0</td>\n",
       "      <td>3.0</td>\n",
       "      <td>-2.250000</td>\n",
       "      <td>8.095238</td>\n",
       "      <td>-0.029412</td>\n",
       "      <td>2.687500</td>\n",
       "      <td>3.773050</td>\n",
       "      <td>3.589520</td>\n",
       "      <td>1.777778</td>\n",
       "      <td>2.532110</td>\n",
       "      <td>-4.828571</td>\n",
       "      <td>-1.000000</td>\n",
       "    </tr>\n",
       "    <tr>\n",
       "      <td>80.0</td>\n",
       "      <td>NaN</td>\n",
       "      <td>-0.444444</td>\n",
       "      <td>2.368421</td>\n",
       "      <td>1.941176</td>\n",
       "      <td>3.206897</td>\n",
       "      <td>-4.181818</td>\n",
       "      <td>1.937500</td>\n",
       "      <td>4.562044</td>\n",
       "      <td>1.837209</td>\n",
       "      <td>4.666667</td>\n",
       "      <td>NaN</td>\n",
       "    </tr>\n",
       "    <tr>\n",
       "      <td>90.0</td>\n",
       "      <td>17.0</td>\n",
       "      <td>-18.000000</td>\n",
       "      <td>14.000000</td>\n",
       "      <td>-17.750000</td>\n",
       "      <td>-2.000000</td>\n",
       "      <td>4.000000</td>\n",
       "      <td>-14.333333</td>\n",
       "      <td>NaN</td>\n",
       "      <td>NaN</td>\n",
       "      <td>NaN</td>\n",
       "      <td>NaN</td>\n",
       "    </tr>\n",
       "  </tbody>\n",
       "</table>\n",
       "</div>"
      ],
      "text/plain": [
       "weather_humidityRounded     0.0        10.0       20.0       30.0      40.0   \\\n",
       "weather_temperatureRounded                                                     \n",
       "-10.0                         NaN        NaN        NaN        NaN       NaN   \n",
       " 0.0                         15.0        NaN        NaN        NaN -3.000000   \n",
       " 10.0                         NaN        NaN        NaN        NaN  1.000000   \n",
       " 20.0                         NaN        NaN   3.000000  -4.800000  4.470588   \n",
       " 30.0                         NaN  -4.000000   4.000000   2.086957  3.635417   \n",
       " 40.0                         NaN  -8.333333   3.615385   2.957447  3.480769   \n",
       " 50.0                         4.0  -3.000000   5.187500   2.396825  3.115607   \n",
       " 60.0                         NaN  -1.166667   2.846154   2.689189  4.890909   \n",
       " 70.0                         3.0  -2.250000   8.095238  -0.029412  2.687500   \n",
       " 80.0                         NaN  -0.444444   2.368421   1.941176  3.206897   \n",
       " 90.0                        17.0 -18.000000  14.000000 -17.750000 -2.000000   \n",
       "\n",
       "weather_humidityRounded         50.0       60.0      70.0      80.0   \\\n",
       "weather_temperatureRounded                                             \n",
       "-10.0                       10.250000        NaN       NaN       NaN   \n",
       " 0.0                         2.833333  11.545455  4.375000  1.333333   \n",
       " 10.0                       -2.600000   4.321429  6.578947  6.500000   \n",
       " 20.0                        5.828571   4.688312  4.371134  3.614035   \n",
       " 30.0                        2.770115   5.880658  0.288889  5.438272   \n",
       " 40.0                        3.064748   2.478261  3.300000  3.434978   \n",
       " 50.0                        2.531532   3.903371  2.565126  3.107817   \n",
       " 60.0                        2.101215   3.037647  2.095238  3.383292   \n",
       " 70.0                        3.773050   3.589520  1.777778  2.532110   \n",
       " 80.0                       -4.181818   1.937500  4.562044  1.837209   \n",
       " 90.0                        4.000000 -14.333333       NaN       NaN   \n",
       "\n",
       "weather_humidityRounded         90.0       100.0  \n",
       "weather_temperatureRounded                        \n",
       "-10.0                             NaN        NaN  \n",
       " 0.0                              NaN        NaN  \n",
       " 10.0                       17.000000        NaN  \n",
       " 20.0                       -5.000000        NaN  \n",
       " 30.0                        3.686275  -5.500000  \n",
       " 40.0                        4.609524  12.666667  \n",
       " 50.0                        4.086667        NaN  \n",
       " 60.0                        1.663158   5.666667  \n",
       " 70.0                       -4.828571  -1.000000  \n",
       " 80.0                        4.666667        NaN  \n",
       " 90.0                             NaN        NaN  "
      ]
     },
     "execution_count": 191,
     "metadata": {},
     "output_type": "execute_result"
    }
   ],
   "source": [
    "homeWinsHumidityTempPivot"
   ]
  },
  {
   "cell_type": "code",
   "execution_count": 192,
   "metadata": {},
   "outputs": [
    {
     "data": {
      "text/plain": [
       "[<matplotlib.lines.Line2D at 0x1a209dd090>]"
      ]
     },
     "execution_count": 192,
     "metadata": {},
     "output_type": "execute_result"
    },
    {
     "data": {
      "image/png": "[encoded data removed]",
      "text/plain": [
       "<Figure size 1440x720 with 1 Axes>"
      ]
     },
     "metadata": {
      "needs_background": "light"
     },
     "output_type": "display_data"
    }
   ],
   "source": [
    "homeWinsHumidityTempPivot.plot(figsize=(20, 10));\n",
    "plt.plot([100,-10],[0,0],'k-')"
   ]
  },
  {
   "cell_type": "markdown",
   "metadata": {},
   "source": [
    "A majority of the lines are above the 0 score difference line. This implies that the home team score more than the away team resulting in a win for the home team. One outlier is when humidty was in the 10s, the away team scored more in all temperatures. Also the away team scored more than the home team at temperatures greater than 80 when the humidity was in the 30s, 60s, and 10s like stated above. A majority of the differences are at the two polar ends of the temperature range. When temperatures are around 0 degress and greater than 80 degress, the score difference diverts greatly from the middle. "
   ]
  },
  {
   "cell_type": "code",
   "execution_count": null,
   "metadata": {},
   "outputs": [],
   "source": []
  },
  {
   "cell_type": "markdown",
   "metadata": {},
   "source": [
    "<h3> Temperature vs Score"
   ]
  },
  {
   "cell_type": "code",
   "execution_count": 193,
   "metadata": {},
   "outputs": [
    {
     "data": {
      "text/plain": [
       "SpearmanrResult(correlation=0.0042222644688348085, pvalue=0.6454284092004128)"
      ]
     },
     "execution_count": 193,
     "metadata": {},
     "output_type": "execute_result"
    }
   ],
   "source": [
    "spearmanr(homeWins['score_home'],homeWins['weather_temperature'])"
   ]
  },
  {
   "cell_type": "code",
   "execution_count": 194,
   "metadata": {},
   "outputs": [
    {
     "data": {
      "text/plain": [
       "(0.0040273979243054675,\n",
       " 58.46616203222529,\n",
       " 0.0027290123342187823,\n",
       " 0.7661656940640897,\n",
       " 0.013541985102146176)"
      ]
     },
     "execution_count": 194,
     "metadata": {},
     "output_type": "execute_result"
    }
   ],
   "source": [
    "slope, intercept, r_value, p_value, std_err = linregress(homeWins['score_home'],homeWins['weather_temperature'])\n",
    "slope, intercept, r_value, p_value, std_err"
   ]
  },
  {
   "cell_type": "code",
   "execution_count": 195,
   "metadata": {},
   "outputs": [
    {
     "data": {
      "text/plain": [
       "[<matplotlib.lines.Line2D at 0x1a20915910>]"
      ]
     },
     "execution_count": 195,
     "metadata": {},
     "output_type": "execute_result"
    },
    {
     "data": {
      "image/png": "[encoded data removed]",
      "text/plain": [
       "<Figure size 432x288 with 1 Axes>"
      ]
     },
     "metadata": {
      "needs_background": "light"
     },
     "output_type": "display_data"
    }
   ],
   "source": [
    "plt.plot(homeWins['score_home'], homeWins['weather_temperature'], 'o', label='original data')\n",
    "plt.plot(homeWins['score_home'], intercept + slope*homeWins['score_home'], 'r', label='fitted line')"
   ]
  },
  {
   "cell_type": "code",
   "execution_count": 196,
   "metadata": {},
   "outputs": [
    {
     "data": {
      "text/plain": [
       "SpearmanrResult(correlation=0.06587234393445161, pvalue=6.660535158362897e-13)"
      ]
     },
     "execution_count": 196,
     "metadata": {},
     "output_type": "execute_result"
    }
   ],
   "source": [
    "spearmanr(homeWins['score_away'],homeWins['weather_temperature'])"
   ]
  },
  {
   "cell_type": "code",
   "execution_count": 197,
   "metadata": {},
   "outputs": [
    {
     "data": {
      "text/plain": [
       "(0.10194282250049275,\n",
       " 56.5643175747698,\n",
       " 0.06638427739992205,\n",
       " 4.414628366617826e-13,\n",
       " 0.01406038692476114)"
      ]
     },
     "execution_count": 197,
     "metadata": {},
     "output_type": "execute_result"
    }
   ],
   "source": [
    "slope, intercept, r_value, p_value, std_err = linregress(homeWins['score_away'],homeWins['weather_temperature'])\n",
    "slope, intercept, r_value, p_value, std_err"
   ]
  },
  {
   "cell_type": "code",
   "execution_count": 198,
   "metadata": {},
   "outputs": [
    {
     "data": {
      "text/plain": [
       "[<matplotlib.lines.Line2D at 0x1a2113b450>]"
      ]
     },
     "execution_count": 198,
     "metadata": {},
     "output_type": "execute_result"
    },
    {
     "data": {
      "image/png": "[encoded data removed]",
      "text/plain": [
       "<Figure size 432x288 with 1 Axes>"
      ]
     },
     "metadata": {
      "needs_background": "light"
     },
     "output_type": "display_data"
    }
   ],
   "source": [
    "plt.plot(homeWins['score_away'], homeWins['weather_temperature'], 'o', label='original data')\n",
    "plt.plot(homeWins['score_away'], intercept + slope*homeWins['score_away'], 'r', label='fitted line')"
   ]
  },
  {
   "cell_type": "markdown",
   "metadata": {},
   "source": [
    "There is a greater correlation with away team scores (0.066) and weather temperature than home team scores (0.003), though the correlation is still a weak one since the r value is less than 0.2. This implies that when temperatures increase there is a slight correlation that the away team score will also increase, and when temperatures decrease the away team score will decrease. Therefore away teams may have a harder time playing in colder temperatures, though the correlation is very small."
   ]
  },
  {
   "cell_type": "code",
   "execution_count": null,
   "metadata": {},
   "outputs": [],
   "source": []
  },
  {
   "cell_type": "markdown",
   "metadata": {},
   "source": [
    "<h3> Humidity vs Score"
   ]
  },
  {
   "cell_type": "code",
   "execution_count": 199,
   "metadata": {},
   "outputs": [
    {
     "data": {
      "text/plain": [
       "SpearmanrResult(correlation=-0.02243538343039265, pvalue=0.039906060638367505)"
      ]
     },
     "execution_count": 199,
     "metadata": {},
     "output_type": "execute_result"
    }
   ],
   "source": [
    "spearmanr(homeWinsHumidity['score_home'],homeWinsHumidity['weather_humidity'])"
   ]
  },
  {
   "cell_type": "code",
   "execution_count": 200,
   "metadata": {},
   "outputs": [
    {
     "data": {
      "text/plain": [
       "(-0.02377389427232223,\n",
       " 67.7400701716278,\n",
       " -0.015918868689775375,\n",
       " 0.14488989084131948,\n",
       " 0.01630630882696542)"
      ]
     },
     "execution_count": 200,
     "metadata": {},
     "output_type": "execute_result"
    }
   ],
   "source": [
    "slope, intercept, r_value, p_value, std_err = linregress(homeWinsHumidity['score_home'],homeWinsHumidity['weather_humidity'])\n",
    "slope, intercept, r_value, p_value, std_err"
   ]
  },
  {
   "cell_type": "code",
   "execution_count": 201,
   "metadata": {},
   "outputs": [
    {
     "data": {
      "text/plain": [
       "[<matplotlib.lines.Line2D at 0x1a246cf410>]"
      ]
     },
     "execution_count": 201,
     "metadata": {},
     "output_type": "execute_result"
    },
    {
     "data": {
      "image/png": "[encoded data removed]",
      "text/plain": [
       "<Figure size 432x288 with 1 Axes>"
      ]
     },
     "metadata": {
      "needs_background": "light"
     },
     "output_type": "display_data"
    }
   ],
   "source": [
    "plt.plot(homeWinsHumidity['score_home'],homeWinsHumidity['weather_humidity'], 'o', label='original data')\n",
    "plt.plot(homeWinsHumidity['score_home'], intercept + slope*homeWinsHumidity['score_home'], 'r', label='fitted line')"
   ]
  },
  {
   "cell_type": "code",
   "execution_count": 202,
   "metadata": {},
   "outputs": [
    {
     "data": {
      "text/plain": [
       "SpearmanrResult(correlation=-0.02333933747725545, pvalue=0.03255493080869554)"
      ]
     },
     "execution_count": 202,
     "metadata": {},
     "output_type": "execute_result"
    }
   ],
   "source": [
    "spearmanr(homeWinsHumidity['score_away'],homeWinsHumidity['weather_humidity'])"
   ]
  },
  {
   "cell_type": "code",
   "execution_count": 203,
   "metadata": {},
   "outputs": [
    {
     "data": {
      "text/plain": [
       "(-0.03741147122835866,\n",
       " 67.92593447891527,\n",
       " -0.024142586160029164,\n",
       " 0.027027789560829005,\n",
       " 0.016916751279446193)"
      ]
     },
     "execution_count": 203,
     "metadata": {},
     "output_type": "execute_result"
    }
   ],
   "source": [
    "slope, intercept, r_value, p_value, std_err = linregress(homeWinsHumidity['score_away'],homeWinsHumidity['weather_humidity'])\n",
    "slope, intercept, r_value, p_value, std_err"
   ]
  },
  {
   "cell_type": "code",
   "execution_count": 204,
   "metadata": {},
   "outputs": [
    {
     "data": {
      "text/plain": [
       "[<matplotlib.lines.Line2D at 0x1a24817850>]"
      ]
     },
     "execution_count": 204,
     "metadata": {},
     "output_type": "execute_result"
    },
    {
     "data": {
      "image/png": "[encoded data removed]",
      "text/plain": [
       "<Figure size 432x288 with 1 Axes>"
      ]
     },
     "metadata": {
      "needs_background": "light"
     },
     "output_type": "display_data"
    }
   ],
   "source": [
    "plt.plot(homeWinsHumidity['score_away'],homeWinsHumidity['weather_humidity'], 'o', label='original data')\n",
    "plt.plot(homeWinsHumidity['score_away'], intercept + slope*homeWinsHumidity['score_away'], 'r', label='fitted line')"
   ]
  },
  {
   "cell_type": "markdown",
   "metadata": {},
   "source": [
    "As with temperature vs score shere is a greater correlation with away team scores (-0.024) and humidity than home team scores (-0.016). Also the correlation is still a weak one since the r value is less than -0.2. \n",
    "\n",
    "The difference with humidity is that the corelations are negative. This implies that when humidity increases there is a slight correlation that the away team score will decrease, and when humidity decreases the away team score will increase. Therefore away teams may have a harder time playing in higher humidity, though the correlation is very small."
   ]
  },
  {
   "cell_type": "code",
   "execution_count": null,
   "metadata": {},
   "outputs": [],
   "source": []
  },
  {
   "cell_type": "code",
   "execution_count": 205,
   "metadata": {},
   "outputs": [
    {
     "data": {
      "text/html": [
       "<div>\n",
       "<style scoped>\n",
       "    .dataframe tbody tr th:only-of-type {\n",
       "        vertical-align: middle;\n",
       "    }\n",
       "\n",
       "    .dataframe tbody tr th {\n",
       "        vertical-align: top;\n",
       "    }\n",
       "\n",
       "    .dataframe thead th {\n",
       "        text-align: right;\n",
       "    }\n",
       "</style>\n",
       "<table border=\"1\" class=\"dataframe\">\n",
       "  <thead>\n",
       "    <tr style=\"text-align: right;\">\n",
       "      <th></th>\n",
       "      <th>scoreDiff</th>\n",
       "    </tr>\n",
       "    <tr>\n",
       "      <th>weather_temperatureRounded</th>\n",
       "      <th></th>\n",
       "    </tr>\n",
       "  </thead>\n",
       "  <tbody>\n",
       "    <tr>\n",
       "      <td>-10.0</td>\n",
       "      <td>8.000000</td>\n",
       "    </tr>\n",
       "    <tr>\n",
       "      <td>0.0</td>\n",
       "      <td>6.470588</td>\n",
       "    </tr>\n",
       "    <tr>\n",
       "      <td>10.0</td>\n",
       "      <td>4.620000</td>\n",
       "    </tr>\n",
       "    <tr>\n",
       "      <td>20.0</td>\n",
       "      <td>4.163212</td>\n",
       "    </tr>\n",
       "    <tr>\n",
       "      <td>30.0</td>\n",
       "      <td>3.643721</td>\n",
       "    </tr>\n",
       "    <tr>\n",
       "      <td>40.0</td>\n",
       "      <td>3.314413</td>\n",
       "    </tr>\n",
       "    <tr>\n",
       "      <td>50.0</td>\n",
       "      <td>3.210188</td>\n",
       "    </tr>\n",
       "    <tr>\n",
       "      <td>60.0</td>\n",
       "      <td>2.785781</td>\n",
       "    </tr>\n",
       "    <tr>\n",
       "      <td>70.0</td>\n",
       "      <td>2.413257</td>\n",
       "    </tr>\n",
       "    <tr>\n",
       "      <td>80.0</td>\n",
       "      <td>2.378378</td>\n",
       "    </tr>\n",
       "    <tr>\n",
       "      <td>90.0</td>\n",
       "      <td>-3.692308</td>\n",
       "    </tr>\n",
       "  </tbody>\n",
       "</table>\n",
       "</div>"
      ],
      "text/plain": [
       "                            scoreDiff\n",
       "weather_temperatureRounded           \n",
       "-10.0                        8.000000\n",
       " 0.0                         6.470588\n",
       " 10.0                        4.620000\n",
       " 20.0                        4.163212\n",
       " 30.0                        3.643721\n",
       " 40.0                        3.314413\n",
       " 50.0                        3.210188\n",
       " 60.0                        2.785781\n",
       " 70.0                        2.413257\n",
       " 80.0                        2.378378\n",
       " 90.0                       -3.692308"
      ]
     },
     "execution_count": 205,
     "metadata": {},
     "output_type": "execute_result"
    }
   ],
   "source": [
    "gamesStadiumsOutdoors"
   ]
  },
  {
   "cell_type": "code",
   "execution_count": 70,
   "metadata": {},
   "outputs": [
    {
     "data": {
      "text/plain": [
       "SpearmanrResult(correlation=-1.0, pvalue=0.0)"
      ]
     },
     "execution_count": 70,
     "metadata": {},
     "output_type": "execute_result"
    }
   ],
   "source": [
    "spearmanr(gamesStadiumsOutdoors.index,gamesStadiumsOutdoors['scoreDiff'])"
   ]
  },
  {
   "cell_type": "code",
   "execution_count": 71,
   "metadata": {},
   "outputs": [
    {
     "data": {
      "text/plain": [
       "LinregressResult(slope=-0.07694454768644805, intercept=6.469348432138689, rvalue=-0.8729729220617474, pvalue=0.0004508462366186406, stderr=0.014330776625941991)"
      ]
     },
     "execution_count": 71,
     "metadata": {},
     "output_type": "execute_result"
    }
   ],
   "source": [
    "linregress(gamesStadiumsOutdoors.index,gamesStadiumsOutdoors['scoreDiff'])"
   ]
  },
  {
   "cell_type": "code",
   "execution_count": 72,
   "metadata": {},
   "outputs": [],
   "source": [
    "gameOutdoorsAll = gamesStadiums[gamesStadiums['stadium_type'] == 'outdoor']"
   ]
  },
  {
   "cell_type": "code",
   "execution_count": 73,
   "metadata": {},
   "outputs": [
    {
     "data": {
      "text/plain": [
       "SpearmanrResult(correlation=-0.03496960967471455, pvalue=0.0008134841234426065)"
      ]
     },
     "execution_count": 73,
     "metadata": {},
     "output_type": "execute_result"
    }
   ],
   "source": [
    "spearmanr(gameOutdoorsAll['weather_temperature'],gameOutdoorsAll['scoreDiff'])"
   ]
  },
  {
   "cell_type": "code",
   "execution_count": 74,
   "metadata": {},
   "outputs": [
    {
     "data": {
      "text/plain": [
       "LinregressResult(slope=-0.03628070103071584, intercept=5.088652322235415, rvalue=-0.0380269952131704, pvalue=0.00027147746194348737, stderr=0.009960342736445959)"
      ]
     },
     "execution_count": 74,
     "metadata": {},
     "output_type": "execute_result"
    }
   ],
   "source": [
    "linregress(gameOutdoorsAll['weather_temperature'],gameOutdoorsAll['scoreDiff'])"
   ]
  },
  {
   "cell_type": "code",
   "execution_count": 75,
   "metadata": {},
   "outputs": [
    {
     "data": {
      "text/plain": [
       "<matplotlib.axes._subplots.AxesSubplot at 0x1a22d34fd0>"
      ]
     },
     "execution_count": 75,
     "metadata": {},
     "output_type": "execute_result"
    },
    {
     "data": {
      "image/png": "[encoded data removed]",
      "text/plain": [
       "<Figure size 432x288 with 2 Axes>"
      ]
     },
     "metadata": {
      "needs_background": "light"
     },
     "output_type": "display_data"
    }
   ],
   "source": [
    "plt.subplot(1, 2, 1)\n",
    "sns.scatterplot(x=gamesStadiumsOutdoors.index,y='scoreDiff',data=gamesStadiumsOutdoors)\n",
    "plt.subplot(1, 2, 2)\n",
    "sns.scatterplot(x='weather_temperature',y='scoreDiff',data=gameOutdoorsAll)"
   ]
  },
  {
   "cell_type": "markdown",
   "metadata": {},
   "source": [
    "There is a negative correlation between outdoor stadium temperatures and the score difference when taking the mean difference for each binned weather temperature. The r value for these two is -0.87. This is a indicts a strong correlation that as temperature decreases the score difference increases. Also the Spearman correlation for the two is -1.0. This shows a strong negative correlation between the temperature and score difference.\n",
    "\n",
    "Though when you test the correlation for all the games seperately without binning the correlation drops to -0.04 and -0.04 for both correlation test. This shows a big shift towards no correlation. \n",
    "\n",
    "A factor for this shift is with binning and taking the mean of each there is a larger impact of outliers and one off differences. A majority of the points for all games is in clustered in the middle with a few outliers at the ends. when just taking the mean of each binned temperature the number of points in each gets negated. This allows the outliers to have a greater effect on the results. "
   ]
  },
  {
   "cell_type": "code",
   "execution_count": null,
   "metadata": {},
   "outputs": [],
   "source": []
  },
  {
   "cell_type": "code",
   "execution_count": 76,
   "metadata": {},
   "outputs": [
    {
     "data": {
      "text/plain": [
       "0        -9.0\n",
       "1        38.0\n",
       "2        20.0\n",
       "3        -5.0\n",
       "4        21.0\n",
       "         ... \n",
       "11870    -1.0\n",
       "11871    18.0\n",
       "11872     8.0\n",
       "11873    13.0\n",
       "11875    -6.0\n",
       "Name: scoreDiff, Length: 9164, dtype: float64"
      ]
     },
     "execution_count": 76,
     "metadata": {},
     "output_type": "execute_result"
    }
   ],
   "source": [
    "gameOutdoorsAll['scoreDiff']"
   ]
  },
  {
   "cell_type": "code",
   "execution_count": null,
   "metadata": {},
   "outputs": [],
   "source": []
  },
  {
   "cell_type": "code",
   "execution_count": 77,
   "metadata": {},
   "outputs": [
    {
     "data": {
      "text/plain": [
       "3.093736359668267"
      ]
     },
     "execution_count": 77,
     "metadata": {},
     "output_type": "execute_result"
    }
   ],
   "source": [
    "meanScore = gameOutdoorsAll['scoreDiff'].mean()\n",
    "meanScore"
   ]
  },
  {
   "cell_type": "code",
   "execution_count": 78,
   "metadata": {},
   "outputs": [
    {
     "data": {
      "text/plain": [
       "14.915127784545444"
      ]
     },
     "execution_count": 78,
     "metadata": {},
     "output_type": "execute_result"
    }
   ],
   "source": [
    "stdScore = gameOutdoorsAll['scoreDiff'].std()\n",
    "stdScore"
   ]
  },
  {
   "cell_type": "code",
   "execution_count": 79,
   "metadata": {},
   "outputs": [
    {
     "data": {
      "text/plain": [
       "54.98559580969009"
      ]
     },
     "execution_count": 79,
     "metadata": {},
     "output_type": "execute_result"
    }
   ],
   "source": [
    "meanWeather = gameOutdoorsAll['weather_temperature'].mean()\n",
    "meanWeather"
   ]
  },
  {
   "cell_type": "code",
   "execution_count": 80,
   "metadata": {},
   "outputs": [
    {
     "data": {
      "text/plain": [
       "15.633035656795911"
      ]
     },
     "execution_count": 80,
     "metadata": {},
     "output_type": "execute_result"
    }
   ],
   "source": [
    "stdWeather = gameOutdoorsAll['weather_temperature'].std()\n",
    "stdWeather"
   ]
  },
  {
   "cell_type": "code",
   "execution_count": null,
   "metadata": {},
   "outputs": [],
   "source": []
  },
  {
   "cell_type": "code",
   "execution_count": 211,
   "metadata": {},
   "outputs": [],
   "source": [
    "scoreDiffCorrelation = homeWinsHumidity.drop(columns=['homeWin','AwayWin','schedule_season'])"
   ]
  },
  {
   "cell_type": "code",
   "execution_count": 216,
   "metadata": {},
   "outputs": [],
   "source": [
    "scoreDiffCorrelation = scoreDiffCorrelation.pivot_table(index='scoreDiff',aggfunc=np.mean)"
   ]
  },
  {
   "cell_type": "code",
   "execution_count": 230,
   "metadata": {},
   "outputs": [
    {
     "data": {
      "text/html": [
       "<div>\n",
       "<style scoped>\n",
       "    .dataframe tbody tr th:only-of-type {\n",
       "        vertical-align: middle;\n",
       "    }\n",
       "\n",
       "    .dataframe tbody tr th {\n",
       "        vertical-align: top;\n",
       "    }\n",
       "\n",
       "    .dataframe thead th {\n",
       "        text-align: right;\n",
       "    }\n",
       "</style>\n",
       "<table border=\"1\" class=\"dataframe\">\n",
       "  <thead>\n",
       "    <tr style=\"text-align: right;\">\n",
       "      <th></th>\n",
       "      <th>score_away</th>\n",
       "      <th>score_home</th>\n",
       "      <th>weather_humidity</th>\n",
       "      <th>weather_humidityRounded</th>\n",
       "      <th>weather_temperature</th>\n",
       "      <th>weather_temperatureRounded</th>\n",
       "      <th>weather_wind_mph</th>\n",
       "    </tr>\n",
       "    <tr>\n",
       "      <th>scoreDiff</th>\n",
       "      <th></th>\n",
       "      <th></th>\n",
       "      <th></th>\n",
       "      <th></th>\n",
       "      <th></th>\n",
       "      <th></th>\n",
       "      <th></th>\n",
       "    </tr>\n",
       "  </thead>\n",
       "  <tbody>\n",
       "    <tr>\n",
       "      <td>-55.0</td>\n",
       "      <td>62.0</td>\n",
       "      <td>7.0</td>\n",
       "      <td>74.0</td>\n",
       "      <td>70.0</td>\n",
       "      <td>79.0</td>\n",
       "      <td>70.0</td>\n",
       "      <td>6.0</td>\n",
       "    </tr>\n",
       "    <tr>\n",
       "      <td>-51.0</td>\n",
       "      <td>51.0</td>\n",
       "      <td>0.0</td>\n",
       "      <td>83.0</td>\n",
       "      <td>80.0</td>\n",
       "      <td>73.0</td>\n",
       "      <td>70.0</td>\n",
       "      <td>8.0</td>\n",
       "    </tr>\n",
       "    <tr>\n",
       "      <td>-46.0</td>\n",
       "      <td>56.0</td>\n",
       "      <td>10.0</td>\n",
       "      <td>73.0</td>\n",
       "      <td>70.0</td>\n",
       "      <td>34.0</td>\n",
       "      <td>30.0</td>\n",
       "      <td>10.0</td>\n",
       "    </tr>\n",
       "    <tr>\n",
       "      <td>-45.0</td>\n",
       "      <td>52.0</td>\n",
       "      <td>7.0</td>\n",
       "      <td>35.5</td>\n",
       "      <td>30.0</td>\n",
       "      <td>52.0</td>\n",
       "      <td>50.0</td>\n",
       "      <td>11.5</td>\n",
       "    </tr>\n",
       "    <tr>\n",
       "      <td>-44.0</td>\n",
       "      <td>44.0</td>\n",
       "      <td>0.0</td>\n",
       "      <td>83.0</td>\n",
       "      <td>80.0</td>\n",
       "      <td>57.0</td>\n",
       "      <td>50.0</td>\n",
       "      <td>10.0</td>\n",
       "    </tr>\n",
       "  </tbody>\n",
       "</table>\n",
       "</div>"
      ],
      "text/plain": [
       "           score_away  score_home  weather_humidity  weather_humidityRounded  \\\n",
       "scoreDiff                                                                      \n",
       "-55.0            62.0         7.0              74.0                     70.0   \n",
       "-51.0            51.0         0.0              83.0                     80.0   \n",
       "-46.0            56.0        10.0              73.0                     70.0   \n",
       "-45.0            52.0         7.0              35.5                     30.0   \n",
       "-44.0            44.0         0.0              83.0                     80.0   \n",
       "\n",
       "           weather_temperature  weather_temperatureRounded  weather_wind_mph  \n",
       "scoreDiff                                                                     \n",
       "-55.0                     79.0                        70.0               6.0  \n",
       "-51.0                     73.0                        70.0               8.0  \n",
       "-46.0                     34.0                        30.0              10.0  \n",
       "-45.0                     52.0                        50.0              11.5  \n",
       "-44.0                     57.0                        50.0              10.0  "
      ]
     },
     "execution_count": 230,
     "metadata": {},
     "output_type": "execute_result"
    }
   ],
   "source": [
    "scoreDiffCorrelation.head()"
   ]
  },
  {
   "cell_type": "code",
   "execution_count": 237,
   "metadata": {},
   "outputs": [
    {
     "data": {
      "text/plain": [
       "SpearmanrResult(correlation=0.3561484656401789, pvalue=0.00023894999669376698)"
      ]
     },
     "execution_count": 237,
     "metadata": {},
     "output_type": "execute_result"
    }
   ],
   "source": [
    "spearmanr(scoreDiffCorrelation['weather_temperature'],scoreDiffCorrelation['score_away'])"
   ]
  },
  {
   "cell_type": "code",
   "execution_count": 228,
   "metadata": {},
   "outputs": [],
   "source": [
    "corr_type, corr_matrix, corr_ps = rp.corr_case(scoreDiffCorrelation)"
   ]
  },
  {
   "cell_type": "code",
   "execution_count": 229,
   "metadata": {},
   "outputs": [
    {
     "data": {
      "text/html": [
       "<div>\n",
       "<style scoped>\n",
       "    .dataframe tbody tr th:only-of-type {\n",
       "        vertical-align: middle;\n",
       "    }\n",
       "\n",
       "    .dataframe tbody tr th {\n",
       "        vertical-align: top;\n",
       "    }\n",
       "\n",
       "    .dataframe thead th {\n",
       "        text-align: right;\n",
       "    }\n",
       "</style>\n",
       "<table border=\"1\" class=\"dataframe\">\n",
       "  <thead>\n",
       "    <tr style=\"text-align: right;\">\n",
       "      <th></th>\n",
       "      <th>score_away</th>\n",
       "      <th>score_home</th>\n",
       "      <th>weather_humidity</th>\n",
       "      <th>weather_humidityRounded</th>\n",
       "      <th>weather_temperature</th>\n",
       "      <th>weather_temperatureRounded</th>\n",
       "      <th>weather_wind_mph</th>\n",
       "    </tr>\n",
       "  </thead>\n",
       "  <tbody>\n",
       "    <tr>\n",
       "      <td>score_away</td>\n",
       "      <td>1</td>\n",
       "      <td>-0.8952</td>\n",
       "      <td>-0.1005</td>\n",
       "      <td>-0.0707</td>\n",
       "      <td>0.3121</td>\n",
       "      <td>0.3151</td>\n",
       "      <td>-0.2959</td>\n",
       "    </tr>\n",
       "    <tr>\n",
       "      <td>score_home</td>\n",
       "      <td>-0.8952</td>\n",
       "      <td>1</td>\n",
       "      <td>0.1354</td>\n",
       "      <td>0.1116</td>\n",
       "      <td>-0.3104</td>\n",
       "      <td>-0.3273</td>\n",
       "      <td>0.1805</td>\n",
       "    </tr>\n",
       "    <tr>\n",
       "      <td>weather_humidity</td>\n",
       "      <td>-0.1005</td>\n",
       "      <td>0.1354</td>\n",
       "      <td>1</td>\n",
       "      <td>0.9891</td>\n",
       "      <td>-0.0469</td>\n",
       "      <td>-0.0859</td>\n",
       "      <td>-0.1445</td>\n",
       "    </tr>\n",
       "    <tr>\n",
       "      <td>weather_humidityRounded</td>\n",
       "      <td>-0.0707</td>\n",
       "      <td>0.1116</td>\n",
       "      <td>0.9891</td>\n",
       "      <td>1</td>\n",
       "      <td>-0.0227</td>\n",
       "      <td>-0.0603</td>\n",
       "      <td>-0.1387</td>\n",
       "    </tr>\n",
       "    <tr>\n",
       "      <td>weather_temperature</td>\n",
       "      <td>0.3121</td>\n",
       "      <td>-0.3104</td>\n",
       "      <td>-0.0469</td>\n",
       "      <td>-0.0227</td>\n",
       "      <td>1</td>\n",
       "      <td>0.9803</td>\n",
       "      <td>-0.067</td>\n",
       "    </tr>\n",
       "    <tr>\n",
       "      <td>weather_temperatureRounded</td>\n",
       "      <td>0.3151</td>\n",
       "      <td>-0.3273</td>\n",
       "      <td>-0.0859</td>\n",
       "      <td>-0.0603</td>\n",
       "      <td>0.9803</td>\n",
       "      <td>1</td>\n",
       "      <td>-0.0598</td>\n",
       "    </tr>\n",
       "    <tr>\n",
       "      <td>weather_wind_mph</td>\n",
       "      <td>-0.2959</td>\n",
       "      <td>0.1805</td>\n",
       "      <td>-0.1445</td>\n",
       "      <td>-0.1387</td>\n",
       "      <td>-0.067</td>\n",
       "      <td>-0.0598</td>\n",
       "      <td>1</td>\n",
       "    </tr>\n",
       "  </tbody>\n",
       "</table>\n",
       "</div>"
      ],
      "text/plain": [
       "                           score_away score_home weather_humidity  \\\n",
       "score_away                          1    -0.8952          -0.1005   \n",
       "score_home                    -0.8952          1           0.1354   \n",
       "weather_humidity              -0.1005     0.1354                1   \n",
       "weather_humidityRounded       -0.0707     0.1116           0.9891   \n",
       "weather_temperature            0.3121    -0.3104          -0.0469   \n",
       "weather_temperatureRounded     0.3151    -0.3273          -0.0859   \n",
       "weather_wind_mph              -0.2959     0.1805          -0.1445   \n",
       "\n",
       "                           weather_humidityRounded weather_temperature  \\\n",
       "score_away                                 -0.0707              0.3121   \n",
       "score_home                                  0.1116             -0.3104   \n",
       "weather_humidity                            0.9891             -0.0469   \n",
       "weather_humidityRounded                          1             -0.0227   \n",
       "weather_temperature                        -0.0227                   1   \n",
       "weather_temperatureRounded                 -0.0603              0.9803   \n",
       "weather_wind_mph                           -0.1387              -0.067   \n",
       "\n",
       "                           weather_temperatureRounded weather_wind_mph  \n",
       "score_away                                     0.3151          -0.2959  \n",
       "score_home                                    -0.3273           0.1805  \n",
       "weather_humidity                              -0.0859          -0.1445  \n",
       "weather_humidityRounded                       -0.0603          -0.1387  \n",
       "weather_temperature                            0.9803           -0.067  \n",
       "weather_temperatureRounded                          1          -0.0598  \n",
       "weather_wind_mph                              -0.0598                1  "
      ]
     },
     "execution_count": 229,
     "metadata": {},
     "output_type": "execute_result"
    }
   ],
   "source": [
    "corr_matrix"
   ]
  },
  {
   "cell_type": "code",
   "execution_count": 247,
   "metadata": {},
   "outputs": [
    {
     "data": {
      "text/plain": [
       "<matplotlib.axes._subplots.AxesSubplot at 0x1a2635da50>"
      ]
     },
     "execution_count": 247,
     "metadata": {},
     "output_type": "execute_result"
    },
    {
     "data": {
      "image/png": "[encoded data removed]",
      "text/plain": [
       "<Figure size 432x288 with 2 Axes>"
      ]
     },
     "metadata": {
      "needs_background": "light"
     },
     "output_type": "display_data"
    }
   ],
   "source": [
    "plt.subplot(1, 2, 1)\n",
    "sns.scatterplot(scoreDiffCorrelation['weather_temperature'],scoreDiffCorrelation['score_away'])\n",
    "plt.subplot(1, 2, 2)\n",
    "sns.scatterplot(scoreDiffCorrelation['weather_temperature'],scoreDiffCorrelation['score_home'])"
   ]
  },
  {
   "cell_type": "code",
   "execution_count": 242,
   "metadata": {},
   "outputs": [
    {
     "data": {
      "text/plain": [
       "<matplotlib.axes._subplots.AxesSubplot at 0x1a2563bf50>"
      ]
     },
     "execution_count": 242,
     "metadata": {},
     "output_type": "execute_result"
    },
    {
     "data": {
      "image/png": "[encoded data removed]",
      "text/plain": [
       "<Figure size 432x288 with 2 Axes>"
      ]
     },
     "metadata": {
      "needs_background": "light"
     },
     "output_type": "display_data"
    }
   ],
   "source": [
    "plt.subplot(1, 2, 1)\n",
    "sns.scatterplot(scoreDiffCorrelation['weather_wind_mph'],scoreDiffCorrelation['score_away'])\n",
    "plt.subplot(1, 2, 2)\n",
    "sns.scatterplot(scoreDiffCorrelation['weather_wind_mph'],scoreDiffCorrelation['score_home'])"
   ]
  },
  {
   "cell_type": "code",
   "execution_count": 248,
   "metadata": {},
   "outputs": [
    {
     "data": {
      "text/plain": [
       "<matplotlib.axes._subplots.AxesSubplot at 0x1a264bcbd0>"
      ]
     },
     "execution_count": 248,
     "metadata": {},
     "output_type": "execute_result"
    },
    {
     "data": {
      "image/png": "[encoded data removed]",
      "text/plain": [
       "<Figure size 432x288 with 2 Axes>"
      ]
     },
     "metadata": {
      "needs_background": "light"
     },
     "output_type": "display_data"
    }
   ],
   "source": [
    "plt.subplot(1, 2, 1)\n",
    "sns.scatterplot(scoreDiffCorrelation['weather_humidity'],scoreDiffCorrelation['score_away'])\n",
    "plt.subplot(1, 2, 2)\n",
    "sns.scatterplot(scoreDiffCorrelation['weather_humidity'],scoreDiffCorrelation['score_home'])"
   ]
  },
  {
   "cell_type": "code",
   "execution_count": null,
   "metadata": {},
   "outputs": [],
   "source": []
  },
  {
   "cell_type": "code",
   "execution_count": null,
   "metadata": {},
   "outputs": [],
   "source": []
  },
  {
   "cell_type": "code",
   "execution_count": 206,
   "metadata": {},
   "outputs": [],
   "source": [
    "outdoorCorrelation = homeWinsHumidity.drop(columns=['homeWin','AwayWin','schedule_season'])"
   ]
  },
  {
   "cell_type": "code",
   "execution_count": 207,
   "metadata": {},
   "outputs": [
    {
     "data": {
      "text/html": [
       "<div>\n",
       "<style scoped>\n",
       "    .dataframe tbody tr th:only-of-type {\n",
       "        vertical-align: middle;\n",
       "    }\n",
       "\n",
       "    .dataframe tbody tr th {\n",
       "        vertical-align: top;\n",
       "    }\n",
       "\n",
       "    .dataframe thead th {\n",
       "        text-align: right;\n",
       "    }\n",
       "</style>\n",
       "<table border=\"1\" class=\"dataframe\">\n",
       "  <thead>\n",
       "    <tr style=\"text-align: right;\">\n",
       "      <th></th>\n",
       "      <th>stadium_type</th>\n",
       "      <th>weather_temperature</th>\n",
       "      <th>weather_temperatureRounded</th>\n",
       "      <th>weather_humidity</th>\n",
       "      <th>weather_wind_mph</th>\n",
       "      <th>score_home</th>\n",
       "      <th>score_away</th>\n",
       "      <th>scoreDiff</th>\n",
       "      <th>weather_humidityRounded</th>\n",
       "    </tr>\n",
       "  </thead>\n",
       "  <tbody>\n",
       "    <tr>\n",
       "      <td>0</td>\n",
       "      <td>outdoor</td>\n",
       "      <td>83.0</td>\n",
       "      <td>80.0</td>\n",
       "      <td>71.0</td>\n",
       "      <td>6.0</td>\n",
       "      <td>14.0</td>\n",
       "      <td>23.0</td>\n",
       "      <td>-9.0</td>\n",
       "      <td>70.0</td>\n",
       "    </tr>\n",
       "    <tr>\n",
       "      <td>1</td>\n",
       "      <td>outdoor</td>\n",
       "      <td>81.0</td>\n",
       "      <td>80.0</td>\n",
       "      <td>70.0</td>\n",
       "      <td>7.0</td>\n",
       "      <td>45.0</td>\n",
       "      <td>7.0</td>\n",
       "      <td>38.0</td>\n",
       "      <td>70.0</td>\n",
       "    </tr>\n",
       "    <tr>\n",
       "      <td>2</td>\n",
       "      <td>outdoor</td>\n",
       "      <td>70.0</td>\n",
       "      <td>70.0</td>\n",
       "      <td>82.0</td>\n",
       "      <td>7.0</td>\n",
       "      <td>27.0</td>\n",
       "      <td>7.0</td>\n",
       "      <td>20.0</td>\n",
       "      <td>80.0</td>\n",
       "    </tr>\n",
       "    <tr>\n",
       "      <td>3</td>\n",
       "      <td>outdoor</td>\n",
       "      <td>82.0</td>\n",
       "      <td>80.0</td>\n",
       "      <td>78.0</td>\n",
       "      <td>11.0</td>\n",
       "      <td>14.0</td>\n",
       "      <td>19.0</td>\n",
       "      <td>-5.0</td>\n",
       "      <td>70.0</td>\n",
       "    </tr>\n",
       "    <tr>\n",
       "      <td>4</td>\n",
       "      <td>outdoor</td>\n",
       "      <td>64.0</td>\n",
       "      <td>60.0</td>\n",
       "      <td>62.0</td>\n",
       "      <td>8.0</td>\n",
       "      <td>24.0</td>\n",
       "      <td>3.0</td>\n",
       "      <td>21.0</td>\n",
       "      <td>60.0</td>\n",
       "    </tr>\n",
       "    <tr>\n",
       "      <td>...</td>\n",
       "      <td>...</td>\n",
       "      <td>...</td>\n",
       "      <td>...</td>\n",
       "      <td>...</td>\n",
       "      <td>...</td>\n",
       "      <td>...</td>\n",
       "      <td>...</td>\n",
       "      <td>...</td>\n",
       "      <td>...</td>\n",
       "    </tr>\n",
       "    <tr>\n",
       "      <td>10537</td>\n",
       "      <td>outdoor</td>\n",
       "      <td>71.0</td>\n",
       "      <td>70.0</td>\n",
       "      <td>16.0</td>\n",
       "      <td>8.0</td>\n",
       "      <td>14.0</td>\n",
       "      <td>34.0</td>\n",
       "      <td>-20.0</td>\n",
       "      <td>10.0</td>\n",
       "    </tr>\n",
       "    <tr>\n",
       "      <td>10538</td>\n",
       "      <td>outdoor</td>\n",
       "      <td>41.0</td>\n",
       "      <td>40.0</td>\n",
       "      <td>93.0</td>\n",
       "      <td>7.0</td>\n",
       "      <td>20.0</td>\n",
       "      <td>7.0</td>\n",
       "      <td>13.0</td>\n",
       "      <td>90.0</td>\n",
       "    </tr>\n",
       "    <tr>\n",
       "      <td>10539</td>\n",
       "      <td>outdoor</td>\n",
       "      <td>73.0</td>\n",
       "      <td>70.0</td>\n",
       "      <td>14.0</td>\n",
       "      <td>2.0</td>\n",
       "      <td>27.0</td>\n",
       "      <td>24.0</td>\n",
       "      <td>3.0</td>\n",
       "      <td>10.0</td>\n",
       "    </tr>\n",
       "    <tr>\n",
       "      <td>10540</td>\n",
       "      <td>outdoor</td>\n",
       "      <td>44.0</td>\n",
       "      <td>40.0</td>\n",
       "      <td>93.0</td>\n",
       "      <td>5.0</td>\n",
       "      <td>27.0</td>\n",
       "      <td>9.0</td>\n",
       "      <td>18.0</td>\n",
       "      <td>90.0</td>\n",
       "    </tr>\n",
       "    <tr>\n",
       "      <td>10541</td>\n",
       "      <td>outdoor</td>\n",
       "      <td>53.0</td>\n",
       "      <td>50.0</td>\n",
       "      <td>61.0</td>\n",
       "      <td>4.0</td>\n",
       "      <td>16.0</td>\n",
       "      <td>10.0</td>\n",
       "      <td>6.0</td>\n",
       "      <td>60.0</td>\n",
       "    </tr>\n",
       "  </tbody>\n",
       "</table>\n",
       "<p>8388 rows × 9 columns</p>\n",
       "</div>"
      ],
      "text/plain": [
       "      stadium_type  weather_temperature  weather_temperatureRounded  \\\n",
       "0          outdoor                 83.0                        80.0   \n",
       "1          outdoor                 81.0                        80.0   \n",
       "2          outdoor                 70.0                        70.0   \n",
       "3          outdoor                 82.0                        80.0   \n",
       "4          outdoor                 64.0                        60.0   \n",
       "...            ...                  ...                         ...   \n",
       "10537      outdoor                 71.0                        70.0   \n",
       "10538      outdoor                 41.0                        40.0   \n",
       "10539      outdoor                 73.0                        70.0   \n",
       "10540      outdoor                 44.0                        40.0   \n",
       "10541      outdoor                 53.0                        50.0   \n",
       "\n",
       "       weather_humidity  weather_wind_mph  score_home  score_away  scoreDiff  \\\n",
       "0                  71.0               6.0        14.0        23.0       -9.0   \n",
       "1                  70.0               7.0        45.0         7.0       38.0   \n",
       "2                  82.0               7.0        27.0         7.0       20.0   \n",
       "3                  78.0              11.0        14.0        19.0       -5.0   \n",
       "4                  62.0               8.0        24.0         3.0       21.0   \n",
       "...                 ...               ...         ...         ...        ...   \n",
       "10537              16.0               8.0        14.0        34.0      -20.0   \n",
       "10538              93.0               7.0        20.0         7.0       13.0   \n",
       "10539              14.0               2.0        27.0        24.0        3.0   \n",
       "10540              93.0               5.0        27.0         9.0       18.0   \n",
       "10541              61.0               4.0        16.0        10.0        6.0   \n",
       "\n",
       "       weather_humidityRounded  \n",
       "0                         70.0  \n",
       "1                         70.0  \n",
       "2                         80.0  \n",
       "3                         70.0  \n",
       "4                         60.0  \n",
       "...                        ...  \n",
       "10537                     10.0  \n",
       "10538                     90.0  \n",
       "10539                     10.0  \n",
       "10540                     90.0  \n",
       "10541                     60.0  \n",
       "\n",
       "[8388 rows x 9 columns]"
      ]
     },
     "execution_count": 207,
     "metadata": {},
     "output_type": "execute_result"
    }
   ],
   "source": [
    "outdoorCorrelation"
   ]
  },
  {
   "cell_type": "code",
   "execution_count": 208,
   "metadata": {},
   "outputs": [],
   "source": [
    "corr_type, corr_matrix, corr_ps = rp.corr_case(outdoorCorrelation)"
   ]
  },
  {
   "cell_type": "code",
   "execution_count": 209,
   "metadata": {},
   "outputs": [
    {
     "data": {
      "text/html": [
       "<div>\n",
       "<style scoped>\n",
       "    .dataframe tbody tr th:only-of-type {\n",
       "        vertical-align: middle;\n",
       "    }\n",
       "\n",
       "    .dataframe tbody tr th {\n",
       "        vertical-align: top;\n",
       "    }\n",
       "\n",
       "    .dataframe thead th {\n",
       "        text-align: right;\n",
       "    }\n",
       "</style>\n",
       "<table border=\"1\" class=\"dataframe\">\n",
       "  <thead>\n",
       "    <tr style=\"text-align: right;\">\n",
       "      <th></th>\n",
       "      <th>Pearson correlation test using list-wise deletion</th>\n",
       "    </tr>\n",
       "  </thead>\n",
       "  <tbody>\n",
       "    <tr>\n",
       "      <td>0</td>\n",
       "      <td>Total observations used = 8240</td>\n",
       "    </tr>\n",
       "  </tbody>\n",
       "</table>\n",
       "</div>"
      ],
      "text/plain": [
       "  Pearson correlation test using list-wise deletion\n",
       "0                    Total observations used = 8240"
      ]
     },
     "execution_count": 209,
     "metadata": {},
     "output_type": "execute_result"
    }
   ],
   "source": [
    "corr_type"
   ]
  },
  {
   "cell_type": "code",
   "execution_count": 210,
   "metadata": {},
   "outputs": [
    {
     "data": {
      "text/html": [
       "<div>\n",
       "<style scoped>\n",
       "    .dataframe tbody tr th:only-of-type {\n",
       "        vertical-align: middle;\n",
       "    }\n",
       "\n",
       "    .dataframe tbody tr th {\n",
       "        vertical-align: top;\n",
       "    }\n",
       "\n",
       "    .dataframe thead th {\n",
       "        text-align: right;\n",
       "    }\n",
       "</style>\n",
       "<table border=\"1\" class=\"dataframe\">\n",
       "  <thead>\n",
       "    <tr style=\"text-align: right;\">\n",
       "      <th></th>\n",
       "      <th>weather_temperature</th>\n",
       "      <th>weather_temperatureRounded</th>\n",
       "      <th>weather_humidity</th>\n",
       "      <th>weather_wind_mph</th>\n",
       "      <th>score_home</th>\n",
       "      <th>score_away</th>\n",
       "      <th>scoreDiff</th>\n",
       "      <th>weather_humidityRounded</th>\n",
       "    </tr>\n",
       "  </thead>\n",
       "  <tbody>\n",
       "    <tr>\n",
       "      <td>weather_temperature</td>\n",
       "      <td>1</td>\n",
       "      <td>0.983</td>\n",
       "      <td>-0.0034</td>\n",
       "      <td>-0.1976</td>\n",
       "      <td>-0.0166</td>\n",
       "      <td>0.0386</td>\n",
       "      <td>-0.0379</td>\n",
       "      <td>-0.0005</td>\n",
       "    </tr>\n",
       "    <tr>\n",
       "      <td>weather_temperatureRounded</td>\n",
       "      <td>0.983</td>\n",
       "      <td>1</td>\n",
       "      <td>-0.0038</td>\n",
       "      <td>-0.1967</td>\n",
       "      <td>-0.0132</td>\n",
       "      <td>0.0396</td>\n",
       "      <td>-0.0362</td>\n",
       "      <td>0</td>\n",
       "    </tr>\n",
       "    <tr>\n",
       "      <td>weather_humidity</td>\n",
       "      <td>-0.0034</td>\n",
       "      <td>-0.0038</td>\n",
       "      <td>1</td>\n",
       "      <td>0.0174</td>\n",
       "      <td>-0.0153</td>\n",
       "      <td>-0.0226</td>\n",
       "      <td>0.0045</td>\n",
       "      <td>0.9839</td>\n",
       "    </tr>\n",
       "    <tr>\n",
       "      <td>weather_wind_mph</td>\n",
       "      <td>-0.1976</td>\n",
       "      <td>-0.1967</td>\n",
       "      <td>0.0174</td>\n",
       "      <td>1</td>\n",
       "      <td>-0.0537</td>\n",
       "      <td>-0.0838</td>\n",
       "      <td>0.0189</td>\n",
       "      <td>0.015</td>\n",
       "    </tr>\n",
       "    <tr>\n",
       "      <td>score_home</td>\n",
       "      <td>-0.0166</td>\n",
       "      <td>-0.0132</td>\n",
       "      <td>-0.0153</td>\n",
       "      <td>-0.0537</td>\n",
       "      <td>1</td>\n",
       "      <td>-0.0414</td>\n",
       "      <td>0.735</td>\n",
       "      <td>-0.0143</td>\n",
       "    </tr>\n",
       "    <tr>\n",
       "      <td>score_away</td>\n",
       "      <td>0.0386</td>\n",
       "      <td>0.0396</td>\n",
       "      <td>-0.0226</td>\n",
       "      <td>-0.0838</td>\n",
       "      <td>-0.0414</td>\n",
       "      <td>1</td>\n",
       "      <td>-0.7079</td>\n",
       "      <td>-0.0207</td>\n",
       "    </tr>\n",
       "    <tr>\n",
       "      <td>scoreDiff</td>\n",
       "      <td>-0.0379</td>\n",
       "      <td>-0.0362</td>\n",
       "      <td>0.0045</td>\n",
       "      <td>0.0189</td>\n",
       "      <td>0.735</td>\n",
       "      <td>-0.7079</td>\n",
       "      <td>1</td>\n",
       "      <td>0.004</td>\n",
       "    </tr>\n",
       "    <tr>\n",
       "      <td>weather_humidityRounded</td>\n",
       "      <td>-0.0005</td>\n",
       "      <td>0</td>\n",
       "      <td>0.9839</td>\n",
       "      <td>0.015</td>\n",
       "      <td>-0.0143</td>\n",
       "      <td>-0.0207</td>\n",
       "      <td>0.004</td>\n",
       "      <td>1</td>\n",
       "    </tr>\n",
       "  </tbody>\n",
       "</table>\n",
       "</div>"
      ],
      "text/plain": [
       "                           weather_temperature weather_temperatureRounded  \\\n",
       "weather_temperature                          1                      0.983   \n",
       "weather_temperatureRounded               0.983                          1   \n",
       "weather_humidity                       -0.0034                    -0.0038   \n",
       "weather_wind_mph                       -0.1976                    -0.1967   \n",
       "score_home                             -0.0166                    -0.0132   \n",
       "score_away                              0.0386                     0.0396   \n",
       "scoreDiff                              -0.0379                    -0.0362   \n",
       "weather_humidityRounded                -0.0005                          0   \n",
       "\n",
       "                           weather_humidity weather_wind_mph score_home  \\\n",
       "weather_temperature                 -0.0034          -0.1976    -0.0166   \n",
       "weather_temperatureRounded          -0.0038          -0.1967    -0.0132   \n",
       "weather_humidity                          1           0.0174    -0.0153   \n",
       "weather_wind_mph                     0.0174                1    -0.0537   \n",
       "score_home                          -0.0153          -0.0537          1   \n",
       "score_away                          -0.0226          -0.0838    -0.0414   \n",
       "scoreDiff                            0.0045           0.0189      0.735   \n",
       "weather_humidityRounded              0.9839            0.015    -0.0143   \n",
       "\n",
       "                           score_away scoreDiff weather_humidityRounded  \n",
       "weather_temperature            0.0386   -0.0379                 -0.0005  \n",
       "weather_temperatureRounded     0.0396   -0.0362                       0  \n",
       "weather_humidity              -0.0226    0.0045                  0.9839  \n",
       "weather_wind_mph              -0.0838    0.0189                   0.015  \n",
       "score_home                    -0.0414     0.735                 -0.0143  \n",
       "score_away                          1   -0.7079                 -0.0207  \n",
       "scoreDiff                     -0.7079         1                   0.004  \n",
       "weather_humidityRounded       -0.0207     0.004                       1  "
      ]
     },
     "execution_count": 210,
     "metadata": {},
     "output_type": "execute_result"
    }
   ],
   "source": [
    "corr_matrix"
   ]
  },
  {
   "cell_type": "code",
   "execution_count": 164,
   "metadata": {},
   "outputs": [
    {
     "data": {
      "text/html": [
       "<div>\n",
       "<style scoped>\n",
       "    .dataframe tbody tr th:only-of-type {\n",
       "        vertical-align: middle;\n",
       "    }\n",
       "\n",
       "    .dataframe tbody tr th {\n",
       "        vertical-align: top;\n",
       "    }\n",
       "\n",
       "    .dataframe thead th {\n",
       "        text-align: right;\n",
       "    }\n",
       "</style>\n",
       "<table border=\"1\" class=\"dataframe\">\n",
       "  <thead>\n",
       "    <tr style=\"text-align: right;\">\n",
       "      <th></th>\n",
       "      <th>weather_temperature</th>\n",
       "      <th>weather_temperatureRounded</th>\n",
       "      <th>weather_humidity</th>\n",
       "      <th>score_home</th>\n",
       "      <th>score_away</th>\n",
       "      <th>scoreDiff</th>\n",
       "      <th>weather_humidityRounded</th>\n",
       "    </tr>\n",
       "  </thead>\n",
       "  <tbody>\n",
       "    <tr>\n",
       "      <td>weather_temperature</td>\n",
       "      <td>0.0000</td>\n",
       "      <td>0.0000</td>\n",
       "      <td>0.7542</td>\n",
       "      <td>0.1317</td>\n",
       "      <td>0.0005</td>\n",
       "      <td>0.0006</td>\n",
       "      <td>0.9622</td>\n",
       "    </tr>\n",
       "    <tr>\n",
       "      <td>weather_temperatureRounded</td>\n",
       "      <td>0.0000</td>\n",
       "      <td>0.0000</td>\n",
       "      <td>0.7336</td>\n",
       "      <td>0.2294</td>\n",
       "      <td>0.0003</td>\n",
       "      <td>0.0010</td>\n",
       "      <td>0.9973</td>\n",
       "    </tr>\n",
       "    <tr>\n",
       "      <td>weather_humidity</td>\n",
       "      <td>0.7542</td>\n",
       "      <td>0.7336</td>\n",
       "      <td>0.0000</td>\n",
       "      <td>0.1652</td>\n",
       "      <td>0.0405</td>\n",
       "      <td>0.6827</td>\n",
       "      <td>0.0000</td>\n",
       "    </tr>\n",
       "    <tr>\n",
       "      <td>score_home</td>\n",
       "      <td>0.1317</td>\n",
       "      <td>0.2294</td>\n",
       "      <td>0.1652</td>\n",
       "      <td>0.0000</td>\n",
       "      <td>0.0002</td>\n",
       "      <td>0.0000</td>\n",
       "      <td>0.1937</td>\n",
       "    </tr>\n",
       "    <tr>\n",
       "      <td>score_away</td>\n",
       "      <td>0.0005</td>\n",
       "      <td>0.0003</td>\n",
       "      <td>0.0405</td>\n",
       "      <td>0.0002</td>\n",
       "      <td>0.0000</td>\n",
       "      <td>0.0000</td>\n",
       "      <td>0.0597</td>\n",
       "    </tr>\n",
       "    <tr>\n",
       "      <td>scoreDiff</td>\n",
       "      <td>0.0006</td>\n",
       "      <td>0.0010</td>\n",
       "      <td>0.6827</td>\n",
       "      <td>0.0000</td>\n",
       "      <td>0.0000</td>\n",
       "      <td>0.0000</td>\n",
       "      <td>0.7197</td>\n",
       "    </tr>\n",
       "    <tr>\n",
       "      <td>weather_humidityRounded</td>\n",
       "      <td>0.9622</td>\n",
       "      <td>0.9973</td>\n",
       "      <td>0.0000</td>\n",
       "      <td>0.1937</td>\n",
       "      <td>0.0597</td>\n",
       "      <td>0.7197</td>\n",
       "      <td>0.0000</td>\n",
       "    </tr>\n",
       "  </tbody>\n",
       "</table>\n",
       "</div>"
      ],
      "text/plain": [
       "                           weather_temperature weather_temperatureRounded  \\\n",
       "weather_temperature                     0.0000                     0.0000   \n",
       "weather_temperatureRounded              0.0000                     0.0000   \n",
       "weather_humidity                        0.7542                     0.7336   \n",
       "score_home                              0.1317                     0.2294   \n",
       "score_away                              0.0005                     0.0003   \n",
       "scoreDiff                               0.0006                     0.0010   \n",
       "weather_humidityRounded                 0.9622                     0.9973   \n",
       "\n",
       "                           weather_humidity score_home score_away scoreDiff  \\\n",
       "weather_temperature                  0.7542     0.1317     0.0005    0.0006   \n",
       "weather_temperatureRounded           0.7336     0.2294     0.0003    0.0010   \n",
       "weather_humidity                     0.0000     0.1652     0.0405    0.6827   \n",
       "score_home                           0.1652     0.0000     0.0002    0.0000   \n",
       "score_away                           0.0405     0.0002     0.0000    0.0000   \n",
       "scoreDiff                            0.6827     0.0000     0.0000    0.0000   \n",
       "weather_humidityRounded              0.0000     0.1937     0.0597    0.7197   \n",
       "\n",
       "                           weather_humidityRounded  \n",
       "weather_temperature                         0.9622  \n",
       "weather_temperatureRounded                  0.9973  \n",
       "weather_humidity                            0.0000  \n",
       "score_home                                  0.1937  \n",
       "score_away                                  0.0597  \n",
       "scoreDiff                                   0.7197  \n",
       "weather_humidityRounded                     0.0000  "
      ]
     },
     "execution_count": 164,
     "metadata": {},
     "output_type": "execute_result"
    }
   ],
   "source": [
    "corr_ps"
   ]
  },
  {
   "cell_type": "code",
   "execution_count": null,
   "metadata": {},
   "outputs": [],
   "source": []
  },
  {
   "cell_type": "code",
   "execution_count": null,
   "metadata": {},
   "outputs": [],
   "source": []
  },
  {
   "cell_type": "markdown",
   "metadata": {},
   "source": [
    "<h2> Normal Distribution"
   ]
  },
  {
   "cell_type": "code",
   "execution_count": 81,
   "metadata": {},
   "outputs": [],
   "source": [
    "def ecdf(data):\n",
    "    x = np.sort(data)\n",
    "    n = x.size\n",
    "    y = np.arange(1,n+1) / n\n",
    "    return(x,y)"
   ]
  },
  {
   "cell_type": "code",
   "execution_count": 82,
   "metadata": {},
   "outputs": [],
   "source": [
    "scoreSamples = np.random.normal(meanScore,stdScore,size=10000)"
   ]
  },
  {
   "cell_type": "code",
   "execution_count": 83,
   "metadata": {},
   "outputs": [
    {
     "data": {
      "text/plain": [
       "<matplotlib.axes._subplots.AxesSubplot at 0x1a230282d0>"
      ]
     },
     "execution_count": 83,
     "metadata": {},
     "output_type": "execute_result"
    },
    {
     "data": {
      "image/png": "[encoded data removed]",
      "text/plain": [
       "<Figure size 432x288 with 1 Axes>"
      ]
     },
     "metadata": {
      "needs_background": "light"
     },
     "output_type": "display_data"
    }
   ],
   "source": [
    "sns.distplot(scoreSamples)"
   ]
  },
  {
   "cell_type": "code",
   "execution_count": 84,
   "metadata": {},
   "outputs": [
    {
     "ename": "NameError",
     "evalue": "name 'gameOutdoors' is not defined",
     "output_type": "error",
     "traceback": [
      "\u001b[0;31m---------------------------------------------------------------------------\u001b[0m",
      "\u001b[0;31mNameError\u001b[0m                                 Traceback (most recent call last)",
      "\u001b[0;32m<ipython-input-84-bda3928c251a>\u001b[0m in \u001b[0;36m<module>\u001b[0;34m\u001b[0m\n\u001b[0;32m----> 1\u001b[0;31m \u001b[0mx\u001b[0m\u001b[0;34m,\u001b[0m \u001b[0my\u001b[0m \u001b[0;34m=\u001b[0m \u001b[0mecdf\u001b[0m\u001b[0;34m(\u001b[0m\u001b[0mgameOutdoors\u001b[0m\u001b[0;34m[\u001b[0m\u001b[0;34m'scoreDiff'\u001b[0m\u001b[0;34m]\u001b[0m\u001b[0;34m)\u001b[0m\u001b[0;34m\u001b[0m\u001b[0;34m\u001b[0m\u001b[0m\n\u001b[0m",
      "\u001b[0;31mNameError\u001b[0m: name 'gameOutdoors' is not defined"
     ]
    }
   ],
   "source": [
    "x, y = ecdf(gameOutdoors['scoreDiff'])"
   ]
  },
  {
   "cell_type": "code",
   "execution_count": null,
   "metadata": {},
   "outputs": [],
   "source": [
    "xtheory , ytheory = ecdf(scoreSamples)"
   ]
  },
  {
   "cell_type": "code",
   "execution_count": null,
   "metadata": {},
   "outputs": [],
   "source": [
    "sns.lineplot(xtheory, ytheory)\n",
    "sns.lineplot(x,y,marker='.',linestyle='none')"
   ]
  },
  {
   "cell_type": "code",
   "execution_count": null,
   "metadata": {},
   "outputs": [],
   "source": [
    "weatherSamples = np.random.normal(meanWeather,stdWeather,size=10000)"
   ]
  },
  {
   "cell_type": "code",
   "execution_count": null,
   "metadata": {},
   "outputs": [],
   "source": [
    "sns.distplot(weatherSamples)"
   ]
  },
  {
   "cell_type": "code",
   "execution_count": 85,
   "metadata": {},
   "outputs": [
    {
     "ename": "NameError",
     "evalue": "name 'gameOutdoors' is not defined",
     "output_type": "error",
     "traceback": [
      "\u001b[0;31m---------------------------------------------------------------------------\u001b[0m",
      "\u001b[0;31mNameError\u001b[0m                                 Traceback (most recent call last)",
      "\u001b[0;32m<ipython-input-85-99228d64d33f>\u001b[0m in \u001b[0;36m<module>\u001b[0;34m\u001b[0m\n\u001b[0;32m----> 1\u001b[0;31m \u001b[0mx\u001b[0m\u001b[0;34m,\u001b[0m \u001b[0my\u001b[0m \u001b[0;34m=\u001b[0m \u001b[0mecdf\u001b[0m\u001b[0;34m(\u001b[0m\u001b[0mgameOutdoors\u001b[0m\u001b[0;34m[\u001b[0m\u001b[0;34m'weather_temperature'\u001b[0m\u001b[0;34m]\u001b[0m\u001b[0;34m)\u001b[0m\u001b[0;34m\u001b[0m\u001b[0;34m\u001b[0m\u001b[0m\n\u001b[0m",
      "\u001b[0;31mNameError\u001b[0m: name 'gameOutdoors' is not defined"
     ]
    }
   ],
   "source": [
    "x, y = ecdf(gameOutdoors['weather_temperature'])"
   ]
  },
  {
   "cell_type": "code",
   "execution_count": 86,
   "metadata": {},
   "outputs": [
    {
     "ename": "NameError",
     "evalue": "name 'weatherSamples' is not defined",
     "output_type": "error",
     "traceback": [
      "\u001b[0;31m---------------------------------------------------------------------------\u001b[0m",
      "\u001b[0;31mNameError\u001b[0m                                 Traceback (most recent call last)",
      "\u001b[0;32m<ipython-input-86-613d17a4546e>\u001b[0m in \u001b[0;36m<module>\u001b[0;34m\u001b[0m\n\u001b[0;32m----> 1\u001b[0;31m \u001b[0mxtheory\u001b[0m \u001b[0;34m,\u001b[0m \u001b[0mytheory\u001b[0m \u001b[0;34m=\u001b[0m \u001b[0mecdf\u001b[0m\u001b[0;34m(\u001b[0m\u001b[0mweatherSamples\u001b[0m\u001b[0;34m)\u001b[0m\u001b[0;34m\u001b[0m\u001b[0;34m\u001b[0m\u001b[0m\n\u001b[0m",
      "\u001b[0;31mNameError\u001b[0m: name 'weatherSamples' is not defined"
     ]
    }
   ],
   "source": [
    "xtheory , ytheory = ecdf(weatherSamples)"
   ]
  },
  {
   "cell_type": "code",
   "execution_count": 87,
   "metadata": {},
   "outputs": [
    {
     "ename": "NameError",
     "evalue": "name 'xtheory' is not defined",
     "output_type": "error",
     "traceback": [
      "\u001b[0;31m---------------------------------------------------------------------------\u001b[0m",
      "\u001b[0;31mNameError\u001b[0m                                 Traceback (most recent call last)",
      "\u001b[0;32m<ipython-input-87-60b29e0429fc>\u001b[0m in \u001b[0;36m<module>\u001b[0;34m\u001b[0m\n\u001b[0;32m----> 1\u001b[0;31m \u001b[0msns\u001b[0m\u001b[0;34m.\u001b[0m\u001b[0mlineplot\u001b[0m\u001b[0;34m(\u001b[0m\u001b[0mxtheory\u001b[0m\u001b[0;34m,\u001b[0m \u001b[0mytheory\u001b[0m\u001b[0;34m)\u001b[0m\u001b[0;34m\u001b[0m\u001b[0;34m\u001b[0m\u001b[0m\n\u001b[0m\u001b[1;32m      2\u001b[0m \u001b[0msns\u001b[0m\u001b[0;34m.\u001b[0m\u001b[0mlineplot\u001b[0m\u001b[0;34m(\u001b[0m\u001b[0mx\u001b[0m\u001b[0;34m,\u001b[0m\u001b[0my\u001b[0m\u001b[0;34m,\u001b[0m\u001b[0mmarker\u001b[0m\u001b[0;34m=\u001b[0m\u001b[0;34m'.'\u001b[0m\u001b[0;34m,\u001b[0m\u001b[0mlinestyle\u001b[0m\u001b[0;34m=\u001b[0m\u001b[0;34m'none'\u001b[0m\u001b[0;34m)\u001b[0m\u001b[0;34m\u001b[0m\u001b[0;34m\u001b[0m\u001b[0m\n",
      "\u001b[0;31mNameError\u001b[0m: name 'xtheory' is not defined"
     ]
    }
   ],
   "source": [
    "sns.lineplot(xtheory, ytheory)\n",
    "sns.lineplot(x,y,marker='.',linestyle='none')"
   ]
  },
  {
   "cell_type": "markdown",
   "metadata": {},
   "source": [
    "Data is normal distributed"
   ]
  },
  {
   "cell_type": "code",
   "execution_count": null,
   "metadata": {},
   "outputs": [],
   "source": []
  },
  {
   "cell_type": "markdown",
   "metadata": {},
   "source": [
    "<h3> Conclusion"
   ]
  },
  {
   "cell_type": "markdown",
   "metadata": {},
   "source": [
    "After using statistical analysis to test correlations, only a very slight correlation was made between weather conditions and an advantage. There was a slight correlation that away teams perform worse in more extreme weather conditions, but the correlation value was too small to infer a strong connected between the two. "
   ]
  },
  {
   "cell_type": "code",
   "execution_count": null,
   "metadata": {},
   "outputs": [],
   "source": []
  }
 ],
 "metadata": {
  "kernelspec": {
   "display_name": "Python 3",
   "language": "python",
   "name": "python3"
  },
  "language_info": {
   "codemirror_mode": {
    "name": "ipython",
    "version": 3
   },
   "file_extension": ".py",
   "mimetype": "text/x-python",
   "name": "python",
   "nbconvert_exporter": "python",
   "pygments_lexer": "ipython3",
   "version": "3.7.4"
  }
 },
 "nbformat": 4,
 "nbformat_minor": 2
}

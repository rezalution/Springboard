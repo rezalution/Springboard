{
 "cells": [
  {
   "cell_type": "markdown",
   "metadata": {},
   "source": [
    "<h1> Statistical Data Analysis"
   ]
  },
  {
   "cell_type": "code",
   "execution_count": 14,
   "metadata": {},
   "outputs": [],
   "source": [
    "import numpy as np"
   ]
  },
  {
   "cell_type": "code",
   "execution_count": 15,
   "metadata": {},
   "outputs": [],
   "source": [
    "import pandas as pd"
   ]
  },
  {
   "cell_type": "code",
   "execution_count": 16,
   "metadata": {},
   "outputs": [],
   "source": [
    "import matplotlib.pyplot as plt"
   ]
  },
  {
   "cell_type": "code",
   "execution_count": 17,
   "metadata": {},
   "outputs": [],
   "source": [
    "import seaborn as sns"
   ]
  },
  {
   "cell_type": "code",
   "execution_count": 18,
   "metadata": {},
   "outputs": [],
   "source": [
    "from scipy.stats import linregress "
   ]
  },
  {
   "cell_type": "code",
   "execution_count": 19,
   "metadata": {},
   "outputs": [],
   "source": [
    "## Importing csv files into panda DataFrames"
   ]
  },
  {
   "cell_type": "code",
   "execution_count": 20,
   "metadata": {},
   "outputs": [],
   "source": [
    "filenameTeam = '/Users/Rezalution/Desktop/nfl-scores-and-betting-data/nfl_teams.csv'\n",
    "filenameStadiums = '/Users/Rezalution/Desktop/nfl-scores-and-betting-data/nfl_stadiums.csv'\n",
    "filenameGames = '/Users/Rezalution/Desktop/nfl-scores-and-betting-data/spreadspoke_scores.csv'"
   ]
  },
  {
   "cell_type": "code",
   "execution_count": 21,
   "metadata": {},
   "outputs": [],
   "source": [
    "nflTeams = pd.read_csv(filenameTeam,encoding ='latin1')\n",
    "nflStadiums = pd.read_csv(filenameStadiums,encoding ='latin1')\n",
    "nflGames = pd.read_csv(filenameGames,encoding ='latin1')"
   ]
  },
  {
   "cell_type": "code",
   "execution_count": 22,
   "metadata": {},
   "outputs": [
    {
     "data": {
      "text/html": [
       "<div>\n",
       "<style scoped>\n",
       "    .dataframe tbody tr th:only-of-type {\n",
       "        vertical-align: middle;\n",
       "    }\n",
       "\n",
       "    .dataframe tbody tr th {\n",
       "        vertical-align: top;\n",
       "    }\n",
       "\n",
       "    .dataframe thead th {\n",
       "        text-align: right;\n",
       "    }\n",
       "</style>\n",
       "<table border=\"1\" class=\"dataframe\">\n",
       "  <thead>\n",
       "    <tr style=\"text-align: right;\">\n",
       "      <th></th>\n",
       "      <th>team_name</th>\n",
       "      <th>team_name_short</th>\n",
       "      <th>team_id</th>\n",
       "      <th>team_id_pfr</th>\n",
       "      <th>team_conference</th>\n",
       "      <th>team_division</th>\n",
       "      <th>team_conference_pre2002</th>\n",
       "      <th>team_division_pre2002</th>\n",
       "    </tr>\n",
       "  </thead>\n",
       "  <tbody>\n",
       "    <tr>\n",
       "      <td>0</td>\n",
       "      <td>Arizona Cardinals</td>\n",
       "      <td>Cardinals</td>\n",
       "      <td>ARI</td>\n",
       "      <td>CRD</td>\n",
       "      <td>NFC</td>\n",
       "      <td>NFC West</td>\n",
       "      <td>NFC</td>\n",
       "      <td>NFC West</td>\n",
       "    </tr>\n",
       "    <tr>\n",
       "      <td>1</td>\n",
       "      <td>Phoenix Cardinals</td>\n",
       "      <td>Cardinals</td>\n",
       "      <td>ARI</td>\n",
       "      <td>CRD</td>\n",
       "      <td>NFC</td>\n",
       "      <td>NaN</td>\n",
       "      <td>NFC</td>\n",
       "      <td>NFC East</td>\n",
       "    </tr>\n",
       "    <tr>\n",
       "      <td>2</td>\n",
       "      <td>St. Louis Cardinals</td>\n",
       "      <td>Cardinals</td>\n",
       "      <td>ARI</td>\n",
       "      <td>ARI</td>\n",
       "      <td>NFC</td>\n",
       "      <td>NaN</td>\n",
       "      <td>NFC</td>\n",
       "      <td>NFC East</td>\n",
       "    </tr>\n",
       "    <tr>\n",
       "      <td>3</td>\n",
       "      <td>Atlanta Falcons</td>\n",
       "      <td>Falcons</td>\n",
       "      <td>ATL</td>\n",
       "      <td>ATL</td>\n",
       "      <td>NFC</td>\n",
       "      <td>NFC South</td>\n",
       "      <td>NFC</td>\n",
       "      <td>NFC West</td>\n",
       "    </tr>\n",
       "    <tr>\n",
       "      <td>4</td>\n",
       "      <td>Baltimore Ravens</td>\n",
       "      <td>Ravens</td>\n",
       "      <td>BAL</td>\n",
       "      <td>RAV</td>\n",
       "      <td>AFC</td>\n",
       "      <td>AFC North</td>\n",
       "      <td>AFC</td>\n",
       "      <td>AFC Central</td>\n",
       "    </tr>\n",
       "  </tbody>\n",
       "</table>\n",
       "</div>"
      ],
      "text/plain": [
       "             team_name team_name_short team_id team_id_pfr team_conference  \\\n",
       "0    Arizona Cardinals       Cardinals     ARI         CRD             NFC   \n",
       "1    Phoenix Cardinals       Cardinals     ARI         CRD             NFC   \n",
       "2  St. Louis Cardinals       Cardinals     ARI         ARI             NFC   \n",
       "3      Atlanta Falcons         Falcons     ATL         ATL             NFC   \n",
       "4     Baltimore Ravens          Ravens     BAL         RAV             AFC   \n",
       "\n",
       "  team_division team_conference_pre2002 team_division_pre2002  \n",
       "0      NFC West                     NFC              NFC West  \n",
       "1           NaN                     NFC              NFC East  \n",
       "2           NaN                     NFC              NFC East  \n",
       "3     NFC South                     NFC              NFC West  \n",
       "4     AFC North                     AFC           AFC Central  "
      ]
     },
     "execution_count": 22,
     "metadata": {},
     "output_type": "execute_result"
    }
   ],
   "source": [
    "nflTeams.head()"
   ]
  },
  {
   "cell_type": "code",
   "execution_count": 23,
   "metadata": {},
   "outputs": [],
   "source": [
    "nflStadiumsCleaned = nflStadiums.drop(columns=['stadium_open','stadium_close','stadium_address','stadium_weather_station_code','stadium_capacity','STATION','NAME','LATITUDE','LONGITUDE'])"
   ]
  },
  {
   "cell_type": "code",
   "execution_count": 26,
   "metadata": {},
   "outputs": [
    {
     "data": {
      "text/html": [
       "<div>\n",
       "<style scoped>\n",
       "    .dataframe tbody tr th:only-of-type {\n",
       "        vertical-align: middle;\n",
       "    }\n",
       "\n",
       "    .dataframe tbody tr th {\n",
       "        vertical-align: top;\n",
       "    }\n",
       "\n",
       "    .dataframe thead th {\n",
       "        text-align: right;\n",
       "    }\n",
       "</style>\n",
       "<table border=\"1\" class=\"dataframe\">\n",
       "  <thead>\n",
       "    <tr style=\"text-align: right;\">\n",
       "      <th></th>\n",
       "      <th>stadium_name</th>\n",
       "      <th>stadium_location</th>\n",
       "      <th>stadium_type</th>\n",
       "      <th>stadium_weather_type</th>\n",
       "      <th>stadium_surface</th>\n",
       "      <th>ELEVATION</th>\n",
       "    </tr>\n",
       "  </thead>\n",
       "  <tbody>\n",
       "    <tr>\n",
       "      <td>1</td>\n",
       "      <td>Alltel Stadium</td>\n",
       "      <td>Jacksonville, FL</td>\n",
       "      <td>NaN</td>\n",
       "      <td>NaN</td>\n",
       "      <td>NaN</td>\n",
       "      <td>NaN</td>\n",
       "    </tr>\n",
       "    <tr>\n",
       "      <td>16</td>\n",
       "      <td>Dolphin Stadium</td>\n",
       "      <td>Miami, FL</td>\n",
       "      <td>NaN</td>\n",
       "      <td>NaN</td>\n",
       "      <td>NaN</td>\n",
       "      <td>NaN</td>\n",
       "    </tr>\n",
       "    <tr>\n",
       "      <td>35</td>\n",
       "      <td>Jack Murphy Stadium</td>\n",
       "      <td>San Diego, CA</td>\n",
       "      <td>NaN</td>\n",
       "      <td>NaN</td>\n",
       "      <td>NaN</td>\n",
       "      <td>NaN</td>\n",
       "    </tr>\n",
       "    <tr>\n",
       "      <td>36</td>\n",
       "      <td>Joe Robbie Stadium</td>\n",
       "      <td>Miami, FL</td>\n",
       "      <td>NaN</td>\n",
       "      <td>NaN</td>\n",
       "      <td>NaN</td>\n",
       "      <td>NaN</td>\n",
       "    </tr>\n",
       "    <tr>\n",
       "      <td>65</td>\n",
       "      <td>Pro Player Stadium</td>\n",
       "      <td>Miami, FL</td>\n",
       "      <td>NaN</td>\n",
       "      <td>NaN</td>\n",
       "      <td>NaN</td>\n",
       "      <td>NaN</td>\n",
       "    </tr>\n",
       "    <tr>\n",
       "      <td>79</td>\n",
       "      <td>Stanford Stadium</td>\n",
       "      <td>Palo Alto, CA</td>\n",
       "      <td>NaN</td>\n",
       "      <td>NaN</td>\n",
       "      <td>NaN</td>\n",
       "      <td>NaN</td>\n",
       "    </tr>\n",
       "    <tr>\n",
       "      <td>83</td>\n",
       "      <td>Tampa Stadium</td>\n",
       "      <td>Tampa, FL</td>\n",
       "      <td>NaN</td>\n",
       "      <td>NaN</td>\n",
       "      <td>NaN</td>\n",
       "      <td>NaN</td>\n",
       "    </tr>\n",
       "  </tbody>\n",
       "</table>\n",
       "</div>"
      ],
      "text/plain": [
       "           stadium_name  stadium_location stadium_type stadium_weather_type  \\\n",
       "1        Alltel Stadium  Jacksonville, FL          NaN                  NaN   \n",
       "16      Dolphin Stadium         Miami, FL          NaN                  NaN   \n",
       "35  Jack Murphy Stadium     San Diego, CA          NaN                  NaN   \n",
       "36   Joe Robbie Stadium         Miami, FL          NaN                  NaN   \n",
       "65   Pro Player Stadium         Miami, FL          NaN                  NaN   \n",
       "79     Stanford Stadium     Palo Alto, CA          NaN                  NaN   \n",
       "83        Tampa Stadium         Tampa, FL          NaN                  NaN   \n",
       "\n",
       "   stadium_surface  ELEVATION  \n",
       "1              NaN        NaN  \n",
       "16             NaN        NaN  \n",
       "35             NaN        NaN  \n",
       "36             NaN        NaN  \n",
       "65             NaN        NaN  \n",
       "79             NaN        NaN  \n",
       "83             NaN        NaN  "
      ]
     },
     "execution_count": 26,
     "metadata": {},
     "output_type": "execute_result"
    }
   ],
   "source": [
    "nflStadiumsCleaned[pd.isnull(nflStadiumsCleaned['stadium_type'])]"
   ]
  },
  {
   "cell_type": "code",
   "execution_count": 27,
   "metadata": {},
   "outputs": [],
   "source": [
    "nflGamesCleaned = nflGames.drop(columns=['over_under_line','spread_favorite','weather_detail'])"
   ]
  },
  {
   "cell_type": "code",
   "execution_count": 29,
   "metadata": {},
   "outputs": [],
   "source": [
    "nflGamesCleaned = nflGamesCleaned.dropna(axis=0,subset=['weather_temperature'])"
   ]
  },
  {
   "cell_type": "code",
   "execution_count": 32,
   "metadata": {},
   "outputs": [],
   "source": [
    "nflGamesCleaned = nflGamesCleaned.dropna(axis=0,subset=['score_home'])"
   ]
  },
  {
   "cell_type": "code",
   "execution_count": 37,
   "metadata": {},
   "outputs": [],
   "source": [
    "stadiumTypes = nflStadiumsCleaned['stadium_type'].value_counts()"
   ]
  },
  {
   "cell_type": "code",
   "execution_count": 39,
   "metadata": {},
   "outputs": [],
   "source": [
    "stadiumWeatherTypes = nflStadiumsCleaned['stadium_weather_type'].value_counts()"
   ]
  },
  {
   "cell_type": "code",
   "execution_count": 44,
   "metadata": {},
   "outputs": [],
   "source": [
    "gamesStadiums = pd.merge(nflGamesCleaned,nflStadiumsCleaned,how='left',left_on='stadium',right_on='stadium_name')"
   ]
  },
  {
   "cell_type": "code",
   "execution_count": 45,
   "metadata": {},
   "outputs": [],
   "source": [
    "nullStadiums = gamesStadiums[pd.isnull(gamesStadiums['stadium_name'])]"
   ]
  },
  {
   "cell_type": "code",
   "execution_count": 47,
   "metadata": {},
   "outputs": [],
   "source": [
    "gamesStadiums['scoreDiff'] = gamesStadiums['score_home'] - gamesStadiums['score_away']"
   ]
  },
  {
   "cell_type": "code",
   "execution_count": 49,
   "metadata": {},
   "outputs": [],
   "source": [
    "gamesStadiums['homeWin'] = gamesStadiums['scoreDiff'].apply(lambda x: 1 if x > 0 else 0)"
   ]
  },
  {
   "cell_type": "code",
   "execution_count": 50,
   "metadata": {},
   "outputs": [],
   "source": [
    "gamesStadiums['AwayWin'] = gamesStadiums['scoreDiff'].apply(lambda x: 1 if x < 0 else 0)"
   ]
  },
  {
   "cell_type": "code",
   "execution_count": 51,
   "metadata": {},
   "outputs": [],
   "source": [
    "gamesStadiums['weather_temperatureRounded'] = gamesStadiums['weather_temperature'] // 10 * 10"
   ]
  },
  {
   "cell_type": "code",
   "execution_count": 52,
   "metadata": {},
   "outputs": [],
   "source": [
    "gamesStadiums['schedule_season'] = gamesStadiums['schedule_season'] // 10 * 10"
   ]
  },
  {
   "cell_type": "code",
   "execution_count": 53,
   "metadata": {},
   "outputs": [],
   "source": [
    "gamesStadiums['games'] = 1"
   ]
  },
  {
   "cell_type": "code",
   "execution_count": 55,
   "metadata": {},
   "outputs": [
    {
     "data": {
      "text/html": [
       "<div>\n",
       "<style scoped>\n",
       "    .dataframe tbody tr th:only-of-type {\n",
       "        vertical-align: middle;\n",
       "    }\n",
       "\n",
       "    .dataframe tbody tr th {\n",
       "        vertical-align: top;\n",
       "    }\n",
       "\n",
       "    .dataframe thead tr th {\n",
       "        text-align: left;\n",
       "    }\n",
       "\n",
       "    .dataframe thead tr:last-of-type th {\n",
       "        text-align: right;\n",
       "    }\n",
       "</style>\n",
       "<table border=\"1\" class=\"dataframe\">\n",
       "  <thead>\n",
       "    <tr>\n",
       "      <th></th>\n",
       "      <th colspan=\"8\" halign=\"left\">weather_temperature</th>\n",
       "    </tr>\n",
       "    <tr>\n",
       "      <th></th>\n",
       "      <th>count</th>\n",
       "      <th>mean</th>\n",
       "      <th>std</th>\n",
       "      <th>min</th>\n",
       "      <th>25%</th>\n",
       "      <th>50%</th>\n",
       "      <th>75%</th>\n",
       "      <th>max</th>\n",
       "    </tr>\n",
       "    <tr>\n",
       "      <th>stadium_type</th>\n",
       "      <th></th>\n",
       "      <th></th>\n",
       "      <th></th>\n",
       "      <th></th>\n",
       "      <th></th>\n",
       "      <th></th>\n",
       "      <th></th>\n",
       "      <th></th>\n",
       "    </tr>\n",
       "  </thead>\n",
       "  <tbody>\n",
       "    <tr>\n",
       "      <td>indoor</td>\n",
       "      <td>1986.0</td>\n",
       "      <td>72.000000</td>\n",
       "      <td>0.000000</td>\n",
       "      <td>72.0</td>\n",
       "      <td>72.0</td>\n",
       "      <td>72.0</td>\n",
       "      <td>72.0</td>\n",
       "      <td>72.0</td>\n",
       "    </tr>\n",
       "    <tr>\n",
       "      <td>outdoor</td>\n",
       "      <td>9164.0</td>\n",
       "      <td>54.985596</td>\n",
       "      <td>15.633036</td>\n",
       "      <td>-6.0</td>\n",
       "      <td>44.0</td>\n",
       "      <td>56.0</td>\n",
       "      <td>66.0</td>\n",
       "      <td>97.0</td>\n",
       "    </tr>\n",
       "    <tr>\n",
       "      <td>retractable</td>\n",
       "      <td>523.0</td>\n",
       "      <td>71.053537</td>\n",
       "      <td>7.861164</td>\n",
       "      <td>26.0</td>\n",
       "      <td>72.0</td>\n",
       "      <td>72.0</td>\n",
       "      <td>72.0</td>\n",
       "      <td>92.0</td>\n",
       "    </tr>\n",
       "  </tbody>\n",
       "</table>\n",
       "</div>"
      ],
      "text/plain": [
       "             weather_temperature                                          \\\n",
       "                           count       mean        std   min   25%   50%   \n",
       "stadium_type                                                               \n",
       "indoor                    1986.0  72.000000   0.000000  72.0  72.0  72.0   \n",
       "outdoor                   9164.0  54.985596  15.633036  -6.0  44.0  56.0   \n",
       "retractable                523.0  71.053537   7.861164  26.0  72.0  72.0   \n",
       "\n",
       "                          \n",
       "               75%   max  \n",
       "stadium_type              \n",
       "indoor        72.0  72.0  \n",
       "outdoor       66.0  97.0  \n",
       "retractable   72.0  92.0  "
      ]
     },
     "execution_count": 55,
     "metadata": {},
     "output_type": "execute_result"
    }
   ],
   "source": [
    "gamesStadiums[['stadium_type','weather_temperature']].groupby(['stadium_type']).describe()"
   ]
  },
  {
   "cell_type": "code",
   "execution_count": 58,
   "metadata": {},
   "outputs": [],
   "source": [
    "gamesStadiumsPivot = gamesStadiums[['weather_temperatureRounded','stadium_type','scoreDiff']]"
   ]
  },
  {
   "cell_type": "code",
   "execution_count": 60,
   "metadata": {},
   "outputs": [
    {
     "data": {
      "text/plain": [
       "[<matplotlib.lines.Line2D at 0x1a1ab03150>]"
      ]
     },
     "execution_count": 60,
     "metadata": {},
     "output_type": "execute_result"
    },
    {
     "data": {
      "image/png": "[encoded data removed]",
      "text/plain": [
       "<Figure size 432x288 with 1 Axes>"
      ]
     },
     "metadata": {
      "needs_background": "light"
     },
     "output_type": "display_data"
    }
   ],
   "source": [
    "sns.scatterplot(x='weather_temperatureRounded',y='scoreDiff',hue='stadium_type',style='stadium_type',data=gamesStadiumsPivot)\n",
    "plt.plot([100,-10],[0,0],'k-')"
   ]
  },
  {
   "cell_type": "code",
   "execution_count": 61,
   "metadata": {},
   "outputs": [
    {
     "data": {
      "text/html": [
       "<div>\n",
       "<style scoped>\n",
       "    .dataframe tbody tr th:only-of-type {\n",
       "        vertical-align: middle;\n",
       "    }\n",
       "\n",
       "    .dataframe tbody tr th {\n",
       "        vertical-align: top;\n",
       "    }\n",
       "\n",
       "    .dataframe thead th {\n",
       "        text-align: right;\n",
       "    }\n",
       "</style>\n",
       "<table border=\"1\" class=\"dataframe\">\n",
       "  <thead>\n",
       "    <tr style=\"text-align: right;\">\n",
       "      <th></th>\n",
       "      <th></th>\n",
       "      <th>scoreDiff</th>\n",
       "    </tr>\n",
       "    <tr>\n",
       "      <th>weather_temperatureRounded</th>\n",
       "      <th>stadium_type</th>\n",
       "      <th></th>\n",
       "    </tr>\n",
       "  </thead>\n",
       "  <tbody>\n",
       "    <tr>\n",
       "      <td>-10.0</td>\n",
       "      <td>outdoor</td>\n",
       "      <td>8.000000</td>\n",
       "    </tr>\n",
       "    <tr>\n",
       "      <td>0.0</td>\n",
       "      <td>outdoor</td>\n",
       "      <td>6.470588</td>\n",
       "    </tr>\n",
       "    <tr>\n",
       "      <td>10.0</td>\n",
       "      <td>outdoor</td>\n",
       "      <td>4.620000</td>\n",
       "    </tr>\n",
       "    <tr>\n",
       "      <td rowspan=\"2\" valign=\"top\">20.0</td>\n",
       "      <td>outdoor</td>\n",
       "      <td>4.163212</td>\n",
       "    </tr>\n",
       "    <tr>\n",
       "      <td>retractable</td>\n",
       "      <td>6.000000</td>\n",
       "    </tr>\n",
       "    <tr>\n",
       "      <td rowspan=\"2\" valign=\"top\">30.0</td>\n",
       "      <td>outdoor</td>\n",
       "      <td>3.643721</td>\n",
       "    </tr>\n",
       "    <tr>\n",
       "      <td>retractable</td>\n",
       "      <td>1.000000</td>\n",
       "    </tr>\n",
       "    <tr>\n",
       "      <td rowspan=\"2\" valign=\"top\">40.0</td>\n",
       "      <td>outdoor</td>\n",
       "      <td>3.314413</td>\n",
       "    </tr>\n",
       "    <tr>\n",
       "      <td>retractable</td>\n",
       "      <td>5.000000</td>\n",
       "    </tr>\n",
       "    <tr>\n",
       "      <td rowspan=\"2\" valign=\"top\">50.0</td>\n",
       "      <td>outdoor</td>\n",
       "      <td>3.210188</td>\n",
       "    </tr>\n",
       "    <tr>\n",
       "      <td>retractable</td>\n",
       "      <td>-1.461538</td>\n",
       "    </tr>\n",
       "    <tr>\n",
       "      <td rowspan=\"2\" valign=\"top\">60.0</td>\n",
       "      <td>outdoor</td>\n",
       "      <td>2.785781</td>\n",
       "    </tr>\n",
       "    <tr>\n",
       "      <td>retractable</td>\n",
       "      <td>-0.214286</td>\n",
       "    </tr>\n",
       "    <tr>\n",
       "      <td rowspan=\"3\" valign=\"top\">70.0</td>\n",
       "      <td>indoor</td>\n",
       "      <td>1.984391</td>\n",
       "    </tr>\n",
       "    <tr>\n",
       "      <td>outdoor</td>\n",
       "      <td>2.413257</td>\n",
       "    </tr>\n",
       "    <tr>\n",
       "      <td>retractable</td>\n",
       "      <td>1.696104</td>\n",
       "    </tr>\n",
       "    <tr>\n",
       "      <td rowspan=\"2\" valign=\"top\">80.0</td>\n",
       "      <td>outdoor</td>\n",
       "      <td>2.378378</td>\n",
       "    </tr>\n",
       "    <tr>\n",
       "      <td>retractable</td>\n",
       "      <td>0.400000</td>\n",
       "    </tr>\n",
       "    <tr>\n",
       "      <td rowspan=\"2\" valign=\"top\">90.0</td>\n",
       "      <td>outdoor</td>\n",
       "      <td>-3.692308</td>\n",
       "    </tr>\n",
       "    <tr>\n",
       "      <td>retractable</td>\n",
       "      <td>-5.777778</td>\n",
       "    </tr>\n",
       "  </tbody>\n",
       "</table>\n",
       "</div>"
      ],
      "text/plain": [
       "                                         scoreDiff\n",
       "weather_temperatureRounded stadium_type           \n",
       "-10.0                      outdoor        8.000000\n",
       " 0.0                       outdoor        6.470588\n",
       " 10.0                      outdoor        4.620000\n",
       " 20.0                      outdoor        4.163212\n",
       "                           retractable    6.000000\n",
       " 30.0                      outdoor        3.643721\n",
       "                           retractable    1.000000\n",
       " 40.0                      outdoor        3.314413\n",
       "                           retractable    5.000000\n",
       " 50.0                      outdoor        3.210188\n",
       "                           retractable   -1.461538\n",
       " 60.0                      outdoor        2.785781\n",
       "                           retractable   -0.214286\n",
       " 70.0                      indoor         1.984391\n",
       "                           outdoor        2.413257\n",
       "                           retractable    1.696104\n",
       " 80.0                      outdoor        2.378378\n",
       "                           retractable    0.400000\n",
       " 90.0                      outdoor       -3.692308\n",
       "                           retractable   -5.777778"
      ]
     },
     "execution_count": 61,
     "metadata": {},
     "output_type": "execute_result"
    }
   ],
   "source": [
    "gamesStadiumsPivot.groupby(['weather_temperatureRounded','stadium_type']).mean()"
   ]
  },
  {
   "cell_type": "code",
   "execution_count": 62,
   "metadata": {},
   "outputs": [
    {
     "data": {
      "text/html": [
       "<div>\n",
       "<style scoped>\n",
       "    .dataframe tbody tr th:only-of-type {\n",
       "        vertical-align: middle;\n",
       "    }\n",
       "\n",
       "    .dataframe tbody tr th {\n",
       "        vertical-align: top;\n",
       "    }\n",
       "\n",
       "    .dataframe thead th {\n",
       "        text-align: right;\n",
       "    }\n",
       "</style>\n",
       "<table border=\"1\" class=\"dataframe\">\n",
       "  <thead>\n",
       "    <tr style=\"text-align: right;\">\n",
       "      <th></th>\n",
       "      <th>weather_temperatureRounded</th>\n",
       "      <th>scoreDiff</th>\n",
       "    </tr>\n",
       "    <tr>\n",
       "      <th>stadium_type</th>\n",
       "      <th></th>\n",
       "      <th></th>\n",
       "    </tr>\n",
       "  </thead>\n",
       "  <tbody>\n",
       "    <tr>\n",
       "      <td>indoor</td>\n",
       "      <td>70.000000</td>\n",
       "      <td>1.984391</td>\n",
       "    </tr>\n",
       "    <tr>\n",
       "      <td>outdoor</td>\n",
       "      <td>50.534701</td>\n",
       "      <td>3.093736</td>\n",
       "    </tr>\n",
       "    <tr>\n",
       "      <td>retractable</td>\n",
       "      <td>68.298279</td>\n",
       "      <td>1.124283</td>\n",
       "    </tr>\n",
       "  </tbody>\n",
       "</table>\n",
       "</div>"
      ],
      "text/plain": [
       "              weather_temperatureRounded  scoreDiff\n",
       "stadium_type                                       \n",
       "indoor                         70.000000   1.984391\n",
       "outdoor                        50.534701   3.093736\n",
       "retractable                    68.298279   1.124283"
      ]
     },
     "execution_count": 62,
     "metadata": {},
     "output_type": "execute_result"
    }
   ],
   "source": [
    "gamesStadiumsPivot.groupby('stadium_type').mean()"
   ]
  },
  {
   "cell_type": "code",
   "execution_count": 139,
   "metadata": {},
   "outputs": [],
   "source": [
    "gamesStadiumsOutdoors = gamesStadiums[gamesStadiums['stadium_type'] == 'outdoor']"
   ]
  },
  {
   "cell_type": "code",
   "execution_count": 141,
   "metadata": {},
   "outputs": [
    {
     "data": {
      "text/plain": [
       " 50.0    2179\n",
       " 60.0    2138\n",
       " 40.0    1568\n",
       " 70.0    1222\n",
       " 30.0    1075\n",
       " 80.0     444\n",
       " 20.0     386\n",
       " 10.0     100\n",
       " 0.0       34\n",
       " 90.0      13\n",
       "-10.0       5\n",
       "Name: weather_temperatureRounded, dtype: int64"
      ]
     },
     "execution_count": 141,
     "metadata": {},
     "output_type": "execute_result"
    }
   ],
   "source": [
    "gamesStadiumsOutdoors['weather_temperatureRounded'].value_counts()"
   ]
  },
  {
   "cell_type": "code",
   "execution_count": 143,
   "metadata": {},
   "outputs": [],
   "source": [
    "gamesStadiumsOutdoors = gamesStadiumsOutdoors.pivot_table(index='weather_temperatureRounded',values='scoreDiff',aggfunc=np.mean)"
   ]
  },
  {
   "cell_type": "code",
   "execution_count": 144,
   "metadata": {},
   "outputs": [
    {
     "data": {
      "text/html": [
       "<div>\n",
       "<style scoped>\n",
       "    .dataframe tbody tr th:only-of-type {\n",
       "        vertical-align: middle;\n",
       "    }\n",
       "\n",
       "    .dataframe tbody tr th {\n",
       "        vertical-align: top;\n",
       "    }\n",
       "\n",
       "    .dataframe thead th {\n",
       "        text-align: right;\n",
       "    }\n",
       "</style>\n",
       "<table border=\"1\" class=\"dataframe\">\n",
       "  <thead>\n",
       "    <tr style=\"text-align: right;\">\n",
       "      <th></th>\n",
       "      <th>scoreDiff</th>\n",
       "    </tr>\n",
       "    <tr>\n",
       "      <th>weather_temperatureRounded</th>\n",
       "      <th></th>\n",
       "    </tr>\n",
       "  </thead>\n",
       "  <tbody>\n",
       "    <tr>\n",
       "      <td>-10.0</td>\n",
       "      <td>8.000000</td>\n",
       "    </tr>\n",
       "    <tr>\n",
       "      <td>0.0</td>\n",
       "      <td>6.470588</td>\n",
       "    </tr>\n",
       "    <tr>\n",
       "      <td>10.0</td>\n",
       "      <td>4.620000</td>\n",
       "    </tr>\n",
       "    <tr>\n",
       "      <td>20.0</td>\n",
       "      <td>4.163212</td>\n",
       "    </tr>\n",
       "    <tr>\n",
       "      <td>30.0</td>\n",
       "      <td>3.643721</td>\n",
       "    </tr>\n",
       "    <tr>\n",
       "      <td>40.0</td>\n",
       "      <td>3.314413</td>\n",
       "    </tr>\n",
       "    <tr>\n",
       "      <td>50.0</td>\n",
       "      <td>3.210188</td>\n",
       "    </tr>\n",
       "    <tr>\n",
       "      <td>60.0</td>\n",
       "      <td>2.785781</td>\n",
       "    </tr>\n",
       "    <tr>\n",
       "      <td>70.0</td>\n",
       "      <td>2.413257</td>\n",
       "    </tr>\n",
       "    <tr>\n",
       "      <td>80.0</td>\n",
       "      <td>2.378378</td>\n",
       "    </tr>\n",
       "    <tr>\n",
       "      <td>90.0</td>\n",
       "      <td>-3.692308</td>\n",
       "    </tr>\n",
       "  </tbody>\n",
       "</table>\n",
       "</div>"
      ],
      "text/plain": [
       "                            scoreDiff\n",
       "weather_temperatureRounded           \n",
       "-10.0                        8.000000\n",
       " 0.0                         6.470588\n",
       " 10.0                        4.620000\n",
       " 20.0                        4.163212\n",
       " 30.0                        3.643721\n",
       " 40.0                        3.314413\n",
       " 50.0                        3.210188\n",
       " 60.0                        2.785781\n",
       " 70.0                        2.413257\n",
       " 80.0                        2.378378\n",
       " 90.0                       -3.692308"
      ]
     },
     "execution_count": 144,
     "metadata": {},
     "output_type": "execute_result"
    }
   ],
   "source": [
    "gamesStadiumsOutdoors"
   ]
  },
  {
   "cell_type": "code",
   "execution_count": null,
   "metadata": {},
   "outputs": [],
   "source": []
  },
  {
   "cell_type": "code",
   "execution_count": 522,
   "metadata": {},
   "outputs": [],
   "source": [
    "homeWins = gamesStadiums[['homeWin','AwayWin','schedule_season','stadium_type','weather_temperature','weather_temperatureRounded','weather_humidity','score_home','score_away','scoreDiff']]"
   ]
  },
  {
   "cell_type": "code",
   "execution_count": 523,
   "metadata": {},
   "outputs": [
    {
     "data": {
      "text/html": [
       "<div>\n",
       "<style scoped>\n",
       "    .dataframe tbody tr th:only-of-type {\n",
       "        vertical-align: middle;\n",
       "    }\n",
       "\n",
       "    .dataframe tbody tr th {\n",
       "        vertical-align: top;\n",
       "    }\n",
       "\n",
       "    .dataframe thead th {\n",
       "        text-align: right;\n",
       "    }\n",
       "</style>\n",
       "<table border=\"1\" class=\"dataframe\">\n",
       "  <thead>\n",
       "    <tr style=\"text-align: right;\">\n",
       "      <th></th>\n",
       "      <th>homeWin</th>\n",
       "      <th>AwayWin</th>\n",
       "      <th>schedule_season</th>\n",
       "      <th>stadium_type</th>\n",
       "      <th>weather_temperature</th>\n",
       "      <th>weather_temperatureRounded</th>\n",
       "      <th>weather_humidity</th>\n",
       "      <th>score_home</th>\n",
       "      <th>score_away</th>\n",
       "      <th>scoreDiff</th>\n",
       "    </tr>\n",
       "  </thead>\n",
       "  <tbody>\n",
       "    <tr>\n",
       "      <td>0</td>\n",
       "      <td>0</td>\n",
       "      <td>1</td>\n",
       "      <td>1960</td>\n",
       "      <td>outdoor</td>\n",
       "      <td>83.0</td>\n",
       "      <td>80.0</td>\n",
       "      <td>71</td>\n",
       "      <td>14.0</td>\n",
       "      <td>23.0</td>\n",
       "      <td>-9.0</td>\n",
       "    </tr>\n",
       "    <tr>\n",
       "      <td>1</td>\n",
       "      <td>1</td>\n",
       "      <td>0</td>\n",
       "      <td>1960</td>\n",
       "      <td>outdoor</td>\n",
       "      <td>81.0</td>\n",
       "      <td>80.0</td>\n",
       "      <td>70</td>\n",
       "      <td>45.0</td>\n",
       "      <td>7.0</td>\n",
       "      <td>38.0</td>\n",
       "    </tr>\n",
       "    <tr>\n",
       "      <td>2</td>\n",
       "      <td>1</td>\n",
       "      <td>0</td>\n",
       "      <td>1960</td>\n",
       "      <td>outdoor</td>\n",
       "      <td>70.0</td>\n",
       "      <td>70.0</td>\n",
       "      <td>82</td>\n",
       "      <td>27.0</td>\n",
       "      <td>7.0</td>\n",
       "      <td>20.0</td>\n",
       "    </tr>\n",
       "    <tr>\n",
       "      <td>3</td>\n",
       "      <td>0</td>\n",
       "      <td>1</td>\n",
       "      <td>1960</td>\n",
       "      <td>outdoor</td>\n",
       "      <td>82.0</td>\n",
       "      <td>80.0</td>\n",
       "      <td>78</td>\n",
       "      <td>14.0</td>\n",
       "      <td>19.0</td>\n",
       "      <td>-5.0</td>\n",
       "    </tr>\n",
       "    <tr>\n",
       "      <td>4</td>\n",
       "      <td>1</td>\n",
       "      <td>0</td>\n",
       "      <td>1960</td>\n",
       "      <td>outdoor</td>\n",
       "      <td>64.0</td>\n",
       "      <td>60.0</td>\n",
       "      <td>62</td>\n",
       "      <td>24.0</td>\n",
       "      <td>3.0</td>\n",
       "      <td>21.0</td>\n",
       "    </tr>\n",
       "    <tr>\n",
       "      <td>...</td>\n",
       "      <td>...</td>\n",
       "      <td>...</td>\n",
       "      <td>...</td>\n",
       "      <td>...</td>\n",
       "      <td>...</td>\n",
       "      <td>...</td>\n",
       "      <td>...</td>\n",
       "      <td>...</td>\n",
       "      <td>...</td>\n",
       "      <td>...</td>\n",
       "    </tr>\n",
       "    <tr>\n",
       "      <td>11870</td>\n",
       "      <td>0</td>\n",
       "      <td>1</td>\n",
       "      <td>2010</td>\n",
       "      <td>outdoor</td>\n",
       "      <td>39.0</td>\n",
       "      <td>30.0</td>\n",
       "      <td>NaN</td>\n",
       "      <td>15.0</td>\n",
       "      <td>16.0</td>\n",
       "      <td>-1.0</td>\n",
       "    </tr>\n",
       "    <tr>\n",
       "      <td>11871</td>\n",
       "      <td>1</td>\n",
       "      <td>0</td>\n",
       "      <td>2010</td>\n",
       "      <td>outdoor</td>\n",
       "      <td>32.0</td>\n",
       "      <td>30.0</td>\n",
       "      <td>NaN</td>\n",
       "      <td>31.0</td>\n",
       "      <td>13.0</td>\n",
       "      <td>18.0</td>\n",
       "    </tr>\n",
       "    <tr>\n",
       "      <td>11872</td>\n",
       "      <td>1</td>\n",
       "      <td>0</td>\n",
       "      <td>2010</td>\n",
       "      <td>outdoor</td>\n",
       "      <td>57.0</td>\n",
       "      <td>50.0</td>\n",
       "      <td>NaN</td>\n",
       "      <td>30.0</td>\n",
       "      <td>22.0</td>\n",
       "      <td>8.0</td>\n",
       "    </tr>\n",
       "    <tr>\n",
       "      <td>11873</td>\n",
       "      <td>1</td>\n",
       "      <td>0</td>\n",
       "      <td>2010</td>\n",
       "      <td>outdoor</td>\n",
       "      <td>26.0</td>\n",
       "      <td>20.0</td>\n",
       "      <td>NaN</td>\n",
       "      <td>41.0</td>\n",
       "      <td>28.0</td>\n",
       "      <td>13.0</td>\n",
       "    </tr>\n",
       "    <tr>\n",
       "      <td>11875</td>\n",
       "      <td>0</td>\n",
       "      <td>1</td>\n",
       "      <td>2010</td>\n",
       "      <td>outdoor</td>\n",
       "      <td>19.0</td>\n",
       "      <td>10.0</td>\n",
       "      <td>NaN</td>\n",
       "      <td>31.0</td>\n",
       "      <td>37.0</td>\n",
       "      <td>-6.0</td>\n",
       "    </tr>\n",
       "  </tbody>\n",
       "</table>\n",
       "<p>9164 rows × 10 columns</p>\n",
       "</div>"
      ],
      "text/plain": [
       "       homeWin  AwayWin  schedule_season stadium_type  weather_temperature  \\\n",
       "0            0        1             1960      outdoor                 83.0   \n",
       "1            1        0             1960      outdoor                 81.0   \n",
       "2            1        0             1960      outdoor                 70.0   \n",
       "3            0        1             1960      outdoor                 82.0   \n",
       "4            1        0             1960      outdoor                 64.0   \n",
       "...        ...      ...              ...          ...                  ...   \n",
       "11870        0        1             2010      outdoor                 39.0   \n",
       "11871        1        0             2010      outdoor                 32.0   \n",
       "11872        1        0             2010      outdoor                 57.0   \n",
       "11873        1        0             2010      outdoor                 26.0   \n",
       "11875        0        1             2010      outdoor                 19.0   \n",
       "\n",
       "       weather_temperatureRounded weather_humidity  score_home  score_away  \\\n",
       "0                            80.0               71        14.0        23.0   \n",
       "1                            80.0               70        45.0         7.0   \n",
       "2                            70.0               82        27.0         7.0   \n",
       "3                            80.0               78        14.0        19.0   \n",
       "4                            60.0               62        24.0         3.0   \n",
       "...                           ...              ...         ...         ...   \n",
       "11870                        30.0              NaN        15.0        16.0   \n",
       "11871                        30.0              NaN        31.0        13.0   \n",
       "11872                        50.0              NaN        30.0        22.0   \n",
       "11873                        20.0              NaN        41.0        28.0   \n",
       "11875                        10.0              NaN        31.0        37.0   \n",
       "\n",
       "       scoreDiff  \n",
       "0           -9.0  \n",
       "1           38.0  \n",
       "2           20.0  \n",
       "3           -5.0  \n",
       "4           21.0  \n",
       "...          ...  \n",
       "11870       -1.0  \n",
       "11871       18.0  \n",
       "11872        8.0  \n",
       "11873       13.0  \n",
       "11875       -6.0  \n",
       "\n",
       "[9164 rows x 10 columns]"
      ]
     },
     "execution_count": 523,
     "metadata": {},
     "output_type": "execute_result"
    }
   ],
   "source": [
    "homeWins[homeWins['stadium_type'] == 'outdoor']"
   ]
  },
  {
   "cell_type": "code",
   "execution_count": 524,
   "metadata": {},
   "outputs": [
    {
     "name": "stdout",
     "output_type": "stream",
     "text": [
      "<class 'pandas.core.frame.DataFrame'>\n",
      "Int64Index: 11878 entries, 0 to 11877\n",
      "Data columns (total 10 columns):\n",
      "homeWin                       11878 non-null int64\n",
      "AwayWin                       11878 non-null int64\n",
      "schedule_season               11878 non-null int64\n",
      "stadium_type                  11673 non-null object\n",
      "weather_temperature           11878 non-null float64\n",
      "weather_temperatureRounded    11878 non-null float64\n",
      "weather_humidity              8388 non-null object\n",
      "score_home                    11878 non-null float64\n",
      "score_away                    11878 non-null float64\n",
      "scoreDiff                     11878 non-null float64\n",
      "dtypes: float64(5), int64(3), object(2)\n",
      "memory usage: 1020.8+ KB\n"
     ]
    }
   ],
   "source": [
    "homeWins.info()"
   ]
  },
  {
   "cell_type": "code",
   "execution_count": 525,
   "metadata": {},
   "outputs": [],
   "source": [
    "homeWinsHumidity = homeWins.dropna(axis=0,subset=['weather_humidity'])"
   ]
  },
  {
   "cell_type": "code",
   "execution_count": 526,
   "metadata": {},
   "outputs": [
    {
     "name": "stdout",
     "output_type": "stream",
     "text": [
      "<class 'pandas.core.frame.DataFrame'>\n",
      "Int64Index: 8388 entries, 0 to 10541\n",
      "Data columns (total 10 columns):\n",
      "homeWin                       8388 non-null int64\n",
      "AwayWin                       8388 non-null int64\n",
      "schedule_season               8388 non-null int64\n",
      "stadium_type                  8240 non-null object\n",
      "weather_temperature           8388 non-null float64\n",
      "weather_temperatureRounded    8388 non-null float64\n",
      "weather_humidity              8388 non-null object\n",
      "score_home                    8388 non-null float64\n",
      "score_away                    8388 non-null float64\n",
      "scoreDiff                     8388 non-null float64\n",
      "dtypes: float64(5), int64(3), object(2)\n",
      "memory usage: 720.8+ KB\n"
     ]
    }
   ],
   "source": [
    "homeWinsHumidity.info()"
   ]
  },
  {
   "cell_type": "code",
   "execution_count": 527,
   "metadata": {},
   "outputs": [
    {
     "name": "stderr",
     "output_type": "stream",
     "text": [
      "/Users/Rezalution/opt/anaconda3/lib/python3.7/site-packages/ipykernel_launcher.py:1: SettingWithCopyWarning: \n",
      "A value is trying to be set on a copy of a slice from a DataFrame.\n",
      "Try using .loc[row_indexer,col_indexer] = value instead\n",
      "\n",
      "See the caveats in the documentation: http://pandas.pydata.org/pandas-docs/stable/user_guide/indexing.html#returning-a-view-versus-a-copy\n",
      "  \"\"\"Entry point for launching an IPython kernel.\n"
     ]
    }
   ],
   "source": [
    "homeWinsHumidity['weather_humidity'] = homeWinsHumidity['weather_humidity'].astype(str).str.extract('(\\d+)').astype(float)"
   ]
  },
  {
   "cell_type": "code",
   "execution_count": 528,
   "metadata": {},
   "outputs": [],
   "source": [
    "homeWinsHumidity = homeWinsHumidity.dropna(axis=0,subset=['weather_humidity'])"
   ]
  },
  {
   "cell_type": "code",
   "execution_count": 529,
   "metadata": {},
   "outputs": [
    {
     "data": {
      "text/plain": [
       "<matplotlib.axes._subplots.AxesSubplot at 0x1a1ff80750>"
      ]
     },
     "execution_count": 529,
     "metadata": {},
     "output_type": "execute_result"
    },
    {
     "data": {
      "image/png": "[encoded data removed]",
      "text/plain": [
       "<Figure size 432x288 with 1 Axes>"
      ]
     },
     "metadata": {
      "needs_background": "light"
     },
     "output_type": "display_data"
    }
   ],
   "source": [
    "sns.distplot(homeWinsHumidity['weather_humidity'])"
   ]
  },
  {
   "cell_type": "code",
   "execution_count": 530,
   "metadata": {},
   "outputs": [
    {
     "data": {
      "text/html": [
       "<div>\n",
       "<style scoped>\n",
       "    .dataframe tbody tr th:only-of-type {\n",
       "        vertical-align: middle;\n",
       "    }\n",
       "\n",
       "    .dataframe tbody tr th {\n",
       "        vertical-align: top;\n",
       "    }\n",
       "\n",
       "    .dataframe thead th {\n",
       "        text-align: right;\n",
       "    }\n",
       "</style>\n",
       "<table border=\"1\" class=\"dataframe\">\n",
       "  <thead>\n",
       "    <tr style=\"text-align: right;\">\n",
       "      <th></th>\n",
       "      <th>homeWin</th>\n",
       "      <th>AwayWin</th>\n",
       "      <th>schedule_season</th>\n",
       "      <th>stadium_type</th>\n",
       "      <th>weather_temperature</th>\n",
       "      <th>weather_temperatureRounded</th>\n",
       "      <th>weather_humidity</th>\n",
       "      <th>score_home</th>\n",
       "      <th>score_away</th>\n",
       "      <th>scoreDiff</th>\n",
       "    </tr>\n",
       "  </thead>\n",
       "  <tbody>\n",
       "    <tr>\n",
       "      <td>7827</td>\n",
       "      <td>0</td>\n",
       "      <td>1</td>\n",
       "      <td>2000</td>\n",
       "      <td>outdoor</td>\n",
       "      <td>35.0</td>\n",
       "      <td>30.0</td>\n",
       "      <td>100.0</td>\n",
       "      <td>26.0</td>\n",
       "      <td>30.0</td>\n",
       "      <td>-4.0</td>\n",
       "    </tr>\n",
       "    <tr>\n",
       "      <td>7865</td>\n",
       "      <td>1</td>\n",
       "      <td>0</td>\n",
       "      <td>2000</td>\n",
       "      <td>outdoor</td>\n",
       "      <td>40.0</td>\n",
       "      <td>40.0</td>\n",
       "      <td>100.0</td>\n",
       "      <td>20.0</td>\n",
       "      <td>10.0</td>\n",
       "      <td>10.0</td>\n",
       "    </tr>\n",
       "    <tr>\n",
       "      <td>9526</td>\n",
       "      <td>0</td>\n",
       "      <td>1</td>\n",
       "      <td>2010</td>\n",
       "      <td>outdoor</td>\n",
       "      <td>73.0</td>\n",
       "      <td>70.0</td>\n",
       "      <td>100.0</td>\n",
       "      <td>9.0</td>\n",
       "      <td>10.0</td>\n",
       "      <td>-1.0</td>\n",
       "    </tr>\n",
       "    <tr>\n",
       "      <td>10245</td>\n",
       "      <td>0</td>\n",
       "      <td>1</td>\n",
       "      <td>2010</td>\n",
       "      <td>outdoor</td>\n",
       "      <td>37.0</td>\n",
       "      <td>30.0</td>\n",
       "      <td>100.0</td>\n",
       "      <td>34.0</td>\n",
       "      <td>41.0</td>\n",
       "      <td>-7.0</td>\n",
       "    </tr>\n",
       "    <tr>\n",
       "      <td>10308</td>\n",
       "      <td>1</td>\n",
       "      <td>0</td>\n",
       "      <td>2010</td>\n",
       "      <td>outdoor</td>\n",
       "      <td>62.0</td>\n",
       "      <td>60.0</td>\n",
       "      <td>100.0</td>\n",
       "      <td>38.0</td>\n",
       "      <td>20.0</td>\n",
       "      <td>18.0</td>\n",
       "    </tr>\n",
       "    <tr>\n",
       "      <td>10357</td>\n",
       "      <td>0</td>\n",
       "      <td>1</td>\n",
       "      <td>2010</td>\n",
       "      <td>outdoor</td>\n",
       "      <td>69.0</td>\n",
       "      <td>60.0</td>\n",
       "      <td>100.0</td>\n",
       "      <td>21.0</td>\n",
       "      <td>36.0</td>\n",
       "      <td>-15.0</td>\n",
       "    </tr>\n",
       "    <tr>\n",
       "      <td>10442</td>\n",
       "      <td>1</td>\n",
       "      <td>0</td>\n",
       "      <td>2010</td>\n",
       "      <td>outdoor</td>\n",
       "      <td>61.0</td>\n",
       "      <td>60.0</td>\n",
       "      <td>100.0</td>\n",
       "      <td>27.0</td>\n",
       "      <td>13.0</td>\n",
       "      <td>14.0</td>\n",
       "    </tr>\n",
       "    <tr>\n",
       "      <td>10534</td>\n",
       "      <td>1</td>\n",
       "      <td>0</td>\n",
       "      <td>2010</td>\n",
       "      <td>outdoor</td>\n",
       "      <td>41.0</td>\n",
       "      <td>40.0</td>\n",
       "      <td>100.0</td>\n",
       "      <td>34.0</td>\n",
       "      <td>20.0</td>\n",
       "      <td>14.0</td>\n",
       "    </tr>\n",
       "    <tr>\n",
       "      <td>10536</td>\n",
       "      <td>1</td>\n",
       "      <td>0</td>\n",
       "      <td>2010</td>\n",
       "      <td>outdoor</td>\n",
       "      <td>42.0</td>\n",
       "      <td>40.0</td>\n",
       "      <td>100.0</td>\n",
       "      <td>20.0</td>\n",
       "      <td>6.0</td>\n",
       "      <td>14.0</td>\n",
       "    </tr>\n",
       "  </tbody>\n",
       "</table>\n",
       "</div>"
      ],
      "text/plain": [
       "       homeWin  AwayWin  schedule_season stadium_type  weather_temperature  \\\n",
       "7827         0        1             2000      outdoor                 35.0   \n",
       "7865         1        0             2000      outdoor                 40.0   \n",
       "9526         0        1             2010      outdoor                 73.0   \n",
       "10245        0        1             2010      outdoor                 37.0   \n",
       "10308        1        0             2010      outdoor                 62.0   \n",
       "10357        0        1             2010      outdoor                 69.0   \n",
       "10442        1        0             2010      outdoor                 61.0   \n",
       "10534        1        0             2010      outdoor                 41.0   \n",
       "10536        1        0             2010      outdoor                 42.0   \n",
       "\n",
       "       weather_temperatureRounded  weather_humidity  score_home  score_away  \\\n",
       "7827                         30.0             100.0        26.0        30.0   \n",
       "7865                         40.0             100.0        20.0        10.0   \n",
       "9526                         70.0             100.0         9.0        10.0   \n",
       "10245                        30.0             100.0        34.0        41.0   \n",
       "10308                        60.0             100.0        38.0        20.0   \n",
       "10357                        60.0             100.0        21.0        36.0   \n",
       "10442                        60.0             100.0        27.0        13.0   \n",
       "10534                        40.0             100.0        34.0        20.0   \n",
       "10536                        40.0             100.0        20.0         6.0   \n",
       "\n",
       "       scoreDiff  \n",
       "7827        -4.0  \n",
       "7865        10.0  \n",
       "9526        -1.0  \n",
       "10245       -7.0  \n",
       "10308       18.0  \n",
       "10357      -15.0  \n",
       "10442       14.0  \n",
       "10534       14.0  \n",
       "10536       14.0  "
      ]
     },
     "execution_count": 530,
     "metadata": {},
     "output_type": "execute_result"
    }
   ],
   "source": [
    "homeWinsHumidity[homeWinsHumidity['weather_humidity'] == 100]"
   ]
  },
  {
   "cell_type": "code",
   "execution_count": 531,
   "metadata": {},
   "outputs": [
    {
     "data": {
      "text/plain": [
       "[<matplotlib.lines.Line2D at 0x1a207728d0>]"
      ]
     },
     "execution_count": 531,
     "metadata": {},
     "output_type": "execute_result"
    },
    {
     "data": {
      "image/png": "[encoded data removed]",
      "text/plain": [
       "<Figure size 432x288 with 1 Axes>"
      ]
     },
     "metadata": {
      "needs_background": "light"
     },
     "output_type": "display_data"
    }
   ],
   "source": [
    "sns.scatterplot(x='weather_humidity',y='scoreDiff',data=homeWinsHumidity)\n",
    "plt.plot([100,-10],[0,0],'k-')"
   ]
  },
  {
   "cell_type": "code",
   "execution_count": 532,
   "metadata": {},
   "outputs": [],
   "source": [
    "homeWinsHumidity['weather_humidityRounded'] = homeWinsHumidity['weather_humidity'] // 10 * 10"
   ]
  },
  {
   "cell_type": "code",
   "execution_count": 533,
   "metadata": {},
   "outputs": [
    {
     "data": {
      "text/plain": [
       "[<matplotlib.lines.Line2D at 0x1a2065e590>]"
      ]
     },
     "execution_count": 533,
     "metadata": {},
     "output_type": "execute_result"
    },
    {
     "data": {
      "image/png": "[encoded data removed]",
      "text/plain": [
       "<Figure size 432x288 with 1 Axes>"
      ]
     },
     "metadata": {
      "needs_background": "light"
     },
     "output_type": "display_data"
    }
   ],
   "source": [
    "sns.scatterplot(x='weather_humidityRounded',y='scoreDiff',data=homeWinsHumidity)\n",
    "plt.plot([100,-10],[0,0],'k-')"
   ]
  },
  {
   "cell_type": "code",
   "execution_count": 534,
   "metadata": {},
   "outputs": [
    {
     "data": {
      "text/plain": [
       "70.0     2183\n",
       "60.0     1824\n",
       "80.0     1498\n",
       "50.0     1303\n",
       "40.0      670\n",
       "90.0      453\n",
       "30.0      267\n",
       "20.0      129\n",
       "10.0       46\n",
       "100.0       9\n",
       "0.0         6\n",
       "Name: weather_humidityRounded, dtype: int64"
      ]
     },
     "execution_count": 534,
     "metadata": {},
     "output_type": "execute_result"
    }
   ],
   "source": [
    "homeWinsHumidity['weather_humidityRounded'].value_counts()"
   ]
  },
  {
   "cell_type": "code",
   "execution_count": 535,
   "metadata": {},
   "outputs": [
    {
     "data": {
      "text/plain": [
       "(0.0051559497920331265,\n",
       " 62.78363945803852,\n",
       " 0.004806812174890256,\n",
       " 0.659811267608515,\n",
       " 0.011713025282884416)"
      ]
     },
     "execution_count": 535,
     "metadata": {},
     "output_type": "execute_result"
    }
   ],
   "source": [
    "slope, intercept, r_value, p_value, std_err = linregress(homeWinsHumidity['scoreDiff'],homeWinsHumidity['weather_humidityRounded'])\n",
    "slope, intercept, r_value, p_value, std_err"
   ]
  },
  {
   "cell_type": "code",
   "execution_count": 536,
   "metadata": {},
   "outputs": [],
   "source": [
    "homeWinsHumidityPivot = homeWinsHumidity.pivot_table(index='weather_humidityRounded',values='scoreDiff',aggfunc=np.mean)"
   ]
  },
  {
   "cell_type": "code",
   "execution_count": 537,
   "metadata": {},
   "outputs": [
    {
     "data": {
      "text/html": [
       "<div>\n",
       "<style scoped>\n",
       "    .dataframe tbody tr th:only-of-type {\n",
       "        vertical-align: middle;\n",
       "    }\n",
       "\n",
       "    .dataframe tbody tr th {\n",
       "        vertical-align: top;\n",
       "    }\n",
       "\n",
       "    .dataframe thead th {\n",
       "        text-align: right;\n",
       "    }\n",
       "</style>\n",
       "<table border=\"1\" class=\"dataframe\">\n",
       "  <thead>\n",
       "    <tr style=\"text-align: right;\">\n",
       "      <th></th>\n",
       "      <th>scoreDiff</th>\n",
       "    </tr>\n",
       "    <tr>\n",
       "      <th>weather_humidityRounded</th>\n",
       "      <th></th>\n",
       "    </tr>\n",
       "  </thead>\n",
       "  <tbody>\n",
       "    <tr>\n",
       "      <td>0.0</td>\n",
       "      <td>11.500000</td>\n",
       "    </tr>\n",
       "    <tr>\n",
       "      <td>10.0</td>\n",
       "      <td>-3.565217</td>\n",
       "    </tr>\n",
       "    <tr>\n",
       "      <td>20.0</td>\n",
       "      <td>4.403101</td>\n",
       "    </tr>\n",
       "    <tr>\n",
       "      <td>30.0</td>\n",
       "      <td>1.775281</td>\n",
       "    </tr>\n",
       "    <tr>\n",
       "      <td>40.0</td>\n",
       "      <td>3.562687</td>\n",
       "    </tr>\n",
       "    <tr>\n",
       "      <td>50.0</td>\n",
       "      <td>2.705295</td>\n",
       "    </tr>\n",
       "    <tr>\n",
       "      <td>60.0</td>\n",
       "      <td>3.678728</td>\n",
       "    </tr>\n",
       "    <tr>\n",
       "      <td>70.0</td>\n",
       "      <td>2.449840</td>\n",
       "    </tr>\n",
       "    <tr>\n",
       "      <td>80.0</td>\n",
       "      <td>3.410547</td>\n",
       "    </tr>\n",
       "    <tr>\n",
       "      <td>90.0</td>\n",
       "      <td>2.883002</td>\n",
       "    </tr>\n",
       "    <tr>\n",
       "      <td>100.0</td>\n",
       "      <td>4.777778</td>\n",
       "    </tr>\n",
       "  </tbody>\n",
       "</table>\n",
       "</div>"
      ],
      "text/plain": [
       "                         scoreDiff\n",
       "weather_humidityRounded           \n",
       "0.0                      11.500000\n",
       "10.0                     -3.565217\n",
       "20.0                      4.403101\n",
       "30.0                      1.775281\n",
       "40.0                      3.562687\n",
       "50.0                      2.705295\n",
       "60.0                      3.678728\n",
       "70.0                      2.449840\n",
       "80.0                      3.410547\n",
       "90.0                      2.883002\n",
       "100.0                     4.777778"
      ]
     },
     "execution_count": 537,
     "metadata": {},
     "output_type": "execute_result"
    }
   ],
   "source": [
    "homeWinsHumidityPivot"
   ]
  },
  {
   "cell_type": "code",
   "execution_count": 538,
   "metadata": {},
   "outputs": [
    {
     "data": {
      "text/plain": [
       "<matplotlib.axes._subplots.AxesSubplot at 0x1a23a7fbd0>"
      ]
     },
     "execution_count": 538,
     "metadata": {},
     "output_type": "execute_result"
    },
    {
     "data": {
      "image/png": "[encoded data removed]",
      "text/plain": [
       "<Figure size 432x288 with 1 Axes>"
      ]
     },
     "metadata": {
      "needs_background": "light"
     },
     "output_type": "display_data"
    }
   ],
   "source": [
    "sns.scatterplot(x=homeWinsHumidityPivot.index,y='scoreDiff',data=homeWinsHumidityPivot)"
   ]
  },
  {
   "cell_type": "markdown",
   "metadata": {},
   "source": [
    "The graph for humidity vs score difference means show no trend in any particular way to imply any correlation between the two. "
   ]
  },
  {
   "cell_type": "code",
   "execution_count": null,
   "metadata": {},
   "outputs": [],
   "source": []
  },
  {
   "cell_type": "code",
   "execution_count": 539,
   "metadata": {},
   "outputs": [],
   "source": [
    "homeWinsHumidityTemp = homeWinsHumidity[['weather_humidityRounded','weather_temperatureRounded','scoreDiff']]"
   ]
  },
  {
   "cell_type": "code",
   "execution_count": 540,
   "metadata": {},
   "outputs": [
    {
     "data": {
      "text/html": [
       "<div>\n",
       "<style scoped>\n",
       "    .dataframe tbody tr th:only-of-type {\n",
       "        vertical-align: middle;\n",
       "    }\n",
       "\n",
       "    .dataframe tbody tr th {\n",
       "        vertical-align: top;\n",
       "    }\n",
       "\n",
       "    .dataframe thead th {\n",
       "        text-align: right;\n",
       "    }\n",
       "</style>\n",
       "<table border=\"1\" class=\"dataframe\">\n",
       "  <thead>\n",
       "    <tr style=\"text-align: right;\">\n",
       "      <th></th>\n",
       "      <th>weather_humidityRounded</th>\n",
       "      <th>weather_temperatureRounded</th>\n",
       "      <th>scoreDiff</th>\n",
       "    </tr>\n",
       "  </thead>\n",
       "  <tbody>\n",
       "    <tr>\n",
       "      <td>0</td>\n",
       "      <td>70.0</td>\n",
       "      <td>80.0</td>\n",
       "      <td>-9.0</td>\n",
       "    </tr>\n",
       "    <tr>\n",
       "      <td>1</td>\n",
       "      <td>70.0</td>\n",
       "      <td>80.0</td>\n",
       "      <td>38.0</td>\n",
       "    </tr>\n",
       "    <tr>\n",
       "      <td>2</td>\n",
       "      <td>80.0</td>\n",
       "      <td>70.0</td>\n",
       "      <td>20.0</td>\n",
       "    </tr>\n",
       "    <tr>\n",
       "      <td>3</td>\n",
       "      <td>70.0</td>\n",
       "      <td>80.0</td>\n",
       "      <td>-5.0</td>\n",
       "    </tr>\n",
       "    <tr>\n",
       "      <td>4</td>\n",
       "      <td>60.0</td>\n",
       "      <td>60.0</td>\n",
       "      <td>21.0</td>\n",
       "    </tr>\n",
       "    <tr>\n",
       "      <td>...</td>\n",
       "      <td>...</td>\n",
       "      <td>...</td>\n",
       "      <td>...</td>\n",
       "    </tr>\n",
       "    <tr>\n",
       "      <td>10537</td>\n",
       "      <td>10.0</td>\n",
       "      <td>70.0</td>\n",
       "      <td>-20.0</td>\n",
       "    </tr>\n",
       "    <tr>\n",
       "      <td>10538</td>\n",
       "      <td>90.0</td>\n",
       "      <td>40.0</td>\n",
       "      <td>13.0</td>\n",
       "    </tr>\n",
       "    <tr>\n",
       "      <td>10539</td>\n",
       "      <td>10.0</td>\n",
       "      <td>70.0</td>\n",
       "      <td>3.0</td>\n",
       "    </tr>\n",
       "    <tr>\n",
       "      <td>10540</td>\n",
       "      <td>90.0</td>\n",
       "      <td>40.0</td>\n",
       "      <td>18.0</td>\n",
       "    </tr>\n",
       "    <tr>\n",
       "      <td>10541</td>\n",
       "      <td>60.0</td>\n",
       "      <td>50.0</td>\n",
       "      <td>6.0</td>\n",
       "    </tr>\n",
       "  </tbody>\n",
       "</table>\n",
       "<p>8388 rows × 3 columns</p>\n",
       "</div>"
      ],
      "text/plain": [
       "       weather_humidityRounded  weather_temperatureRounded  scoreDiff\n",
       "0                         70.0                        80.0       -9.0\n",
       "1                         70.0                        80.0       38.0\n",
       "2                         80.0                        70.0       20.0\n",
       "3                         70.0                        80.0       -5.0\n",
       "4                         60.0                        60.0       21.0\n",
       "...                        ...                         ...        ...\n",
       "10537                     10.0                        70.0      -20.0\n",
       "10538                     90.0                        40.0       13.0\n",
       "10539                     10.0                        70.0        3.0\n",
       "10540                     90.0                        40.0       18.0\n",
       "10541                     60.0                        50.0        6.0\n",
       "\n",
       "[8388 rows x 3 columns]"
      ]
     },
     "execution_count": 540,
     "metadata": {},
     "output_type": "execute_result"
    }
   ],
   "source": [
    "homeWinsHumidityTemp"
   ]
  },
  {
   "cell_type": "code",
   "execution_count": 562,
   "metadata": {},
   "outputs": [],
   "source": [
    "homeWinsHumidityTempPivot = homeWinsHumidityTemp.pivot_table(index='weather_temperatureRounded',columns='weather_humidityRounded',values='scoreDiff',aggfunc=np.mean)"
   ]
  },
  {
   "cell_type": "code",
   "execution_count": 563,
   "metadata": {},
   "outputs": [
    {
     "data": {
      "text/html": [
       "<div>\n",
       "<style scoped>\n",
       "    .dataframe tbody tr th:only-of-type {\n",
       "        vertical-align: middle;\n",
       "    }\n",
       "\n",
       "    .dataframe tbody tr th {\n",
       "        vertical-align: top;\n",
       "    }\n",
       "\n",
       "    .dataframe thead th {\n",
       "        text-align: right;\n",
       "    }\n",
       "</style>\n",
       "<table border=\"1\" class=\"dataframe\">\n",
       "  <thead>\n",
       "    <tr style=\"text-align: right;\">\n",
       "      <th>weather_humidityRounded</th>\n",
       "      <th>0.0</th>\n",
       "      <th>10.0</th>\n",
       "      <th>20.0</th>\n",
       "      <th>30.0</th>\n",
       "      <th>40.0</th>\n",
       "      <th>50.0</th>\n",
       "      <th>60.0</th>\n",
       "      <th>70.0</th>\n",
       "      <th>80.0</th>\n",
       "      <th>90.0</th>\n",
       "      <th>100.0</th>\n",
       "    </tr>\n",
       "    <tr>\n",
       "      <th>weather_temperatureRounded</th>\n",
       "      <th></th>\n",
       "      <th></th>\n",
       "      <th></th>\n",
       "      <th></th>\n",
       "      <th></th>\n",
       "      <th></th>\n",
       "      <th></th>\n",
       "      <th></th>\n",
       "      <th></th>\n",
       "      <th></th>\n",
       "      <th></th>\n",
       "    </tr>\n",
       "  </thead>\n",
       "  <tbody>\n",
       "    <tr>\n",
       "      <td>-10.0</td>\n",
       "      <td>NaN</td>\n",
       "      <td>NaN</td>\n",
       "      <td>NaN</td>\n",
       "      <td>NaN</td>\n",
       "      <td>NaN</td>\n",
       "      <td>10.250000</td>\n",
       "      <td>NaN</td>\n",
       "      <td>NaN</td>\n",
       "      <td>NaN</td>\n",
       "      <td>NaN</td>\n",
       "      <td>NaN</td>\n",
       "    </tr>\n",
       "    <tr>\n",
       "      <td>0.0</td>\n",
       "      <td>15.0</td>\n",
       "      <td>NaN</td>\n",
       "      <td>NaN</td>\n",
       "      <td>NaN</td>\n",
       "      <td>-3.000000</td>\n",
       "      <td>2.833333</td>\n",
       "      <td>11.545455</td>\n",
       "      <td>4.375000</td>\n",
       "      <td>1.333333</td>\n",
       "      <td>NaN</td>\n",
       "      <td>NaN</td>\n",
       "    </tr>\n",
       "    <tr>\n",
       "      <td>10.0</td>\n",
       "      <td>NaN</td>\n",
       "      <td>NaN</td>\n",
       "      <td>NaN</td>\n",
       "      <td>NaN</td>\n",
       "      <td>1.000000</td>\n",
       "      <td>-2.600000</td>\n",
       "      <td>4.321429</td>\n",
       "      <td>6.578947</td>\n",
       "      <td>6.500000</td>\n",
       "      <td>17.000000</td>\n",
       "      <td>NaN</td>\n",
       "    </tr>\n",
       "    <tr>\n",
       "      <td>20.0</td>\n",
       "      <td>NaN</td>\n",
       "      <td>NaN</td>\n",
       "      <td>3.000000</td>\n",
       "      <td>-4.800000</td>\n",
       "      <td>4.470588</td>\n",
       "      <td>5.828571</td>\n",
       "      <td>4.688312</td>\n",
       "      <td>4.371134</td>\n",
       "      <td>3.614035</td>\n",
       "      <td>-5.000000</td>\n",
       "      <td>NaN</td>\n",
       "    </tr>\n",
       "    <tr>\n",
       "      <td>30.0</td>\n",
       "      <td>NaN</td>\n",
       "      <td>-4.000000</td>\n",
       "      <td>4.000000</td>\n",
       "      <td>2.086957</td>\n",
       "      <td>3.635417</td>\n",
       "      <td>2.770115</td>\n",
       "      <td>5.880658</td>\n",
       "      <td>0.288889</td>\n",
       "      <td>5.438272</td>\n",
       "      <td>3.686275</td>\n",
       "      <td>-5.500000</td>\n",
       "    </tr>\n",
       "    <tr>\n",
       "      <td>40.0</td>\n",
       "      <td>NaN</td>\n",
       "      <td>-8.333333</td>\n",
       "      <td>3.615385</td>\n",
       "      <td>2.957447</td>\n",
       "      <td>3.480769</td>\n",
       "      <td>3.064748</td>\n",
       "      <td>2.478261</td>\n",
       "      <td>3.300000</td>\n",
       "      <td>3.434978</td>\n",
       "      <td>4.609524</td>\n",
       "      <td>12.666667</td>\n",
       "    </tr>\n",
       "    <tr>\n",
       "      <td>50.0</td>\n",
       "      <td>4.0</td>\n",
       "      <td>-3.000000</td>\n",
       "      <td>5.187500</td>\n",
       "      <td>2.396825</td>\n",
       "      <td>3.115607</td>\n",
       "      <td>2.531532</td>\n",
       "      <td>3.903371</td>\n",
       "      <td>2.565126</td>\n",
       "      <td>3.107817</td>\n",
       "      <td>4.086667</td>\n",
       "      <td>NaN</td>\n",
       "    </tr>\n",
       "    <tr>\n",
       "      <td>60.0</td>\n",
       "      <td>NaN</td>\n",
       "      <td>-1.166667</td>\n",
       "      <td>2.846154</td>\n",
       "      <td>2.689189</td>\n",
       "      <td>4.890909</td>\n",
       "      <td>2.101215</td>\n",
       "      <td>3.037647</td>\n",
       "      <td>2.095238</td>\n",
       "      <td>3.383292</td>\n",
       "      <td>1.663158</td>\n",
       "      <td>5.666667</td>\n",
       "    </tr>\n",
       "    <tr>\n",
       "      <td>70.0</td>\n",
       "      <td>3.0</td>\n",
       "      <td>-2.250000</td>\n",
       "      <td>8.095238</td>\n",
       "      <td>-0.029412</td>\n",
       "      <td>2.687500</td>\n",
       "      <td>3.773050</td>\n",
       "      <td>3.589520</td>\n",
       "      <td>1.777778</td>\n",
       "      <td>2.532110</td>\n",
       "      <td>-4.828571</td>\n",
       "      <td>-1.000000</td>\n",
       "    </tr>\n",
       "    <tr>\n",
       "      <td>80.0</td>\n",
       "      <td>NaN</td>\n",
       "      <td>-0.444444</td>\n",
       "      <td>2.368421</td>\n",
       "      <td>1.941176</td>\n",
       "      <td>3.206897</td>\n",
       "      <td>-4.181818</td>\n",
       "      <td>1.937500</td>\n",
       "      <td>4.562044</td>\n",
       "      <td>1.837209</td>\n",
       "      <td>4.666667</td>\n",
       "      <td>NaN</td>\n",
       "    </tr>\n",
       "    <tr>\n",
       "      <td>90.0</td>\n",
       "      <td>17.0</td>\n",
       "      <td>-18.000000</td>\n",
       "      <td>14.000000</td>\n",
       "      <td>-17.750000</td>\n",
       "      <td>-2.000000</td>\n",
       "      <td>4.000000</td>\n",
       "      <td>-14.333333</td>\n",
       "      <td>NaN</td>\n",
       "      <td>NaN</td>\n",
       "      <td>NaN</td>\n",
       "      <td>NaN</td>\n",
       "    </tr>\n",
       "  </tbody>\n",
       "</table>\n",
       "</div>"
      ],
      "text/plain": [
       "weather_humidityRounded     0.0        10.0       20.0       30.0      40.0   \\\n",
       "weather_temperatureRounded                                                     \n",
       "-10.0                         NaN        NaN        NaN        NaN       NaN   \n",
       " 0.0                         15.0        NaN        NaN        NaN -3.000000   \n",
       " 10.0                         NaN        NaN        NaN        NaN  1.000000   \n",
       " 20.0                         NaN        NaN   3.000000  -4.800000  4.470588   \n",
       " 30.0                         NaN  -4.000000   4.000000   2.086957  3.635417   \n",
       " 40.0                         NaN  -8.333333   3.615385   2.957447  3.480769   \n",
       " 50.0                         4.0  -3.000000   5.187500   2.396825  3.115607   \n",
       " 60.0                         NaN  -1.166667   2.846154   2.689189  4.890909   \n",
       " 70.0                         3.0  -2.250000   8.095238  -0.029412  2.687500   \n",
       " 80.0                         NaN  -0.444444   2.368421   1.941176  3.206897   \n",
       " 90.0                        17.0 -18.000000  14.000000 -17.750000 -2.000000   \n",
       "\n",
       "weather_humidityRounded         50.0       60.0      70.0      80.0   \\\n",
       "weather_temperatureRounded                                             \n",
       "-10.0                       10.250000        NaN       NaN       NaN   \n",
       " 0.0                         2.833333  11.545455  4.375000  1.333333   \n",
       " 10.0                       -2.600000   4.321429  6.578947  6.500000   \n",
       " 20.0                        5.828571   4.688312  4.371134  3.614035   \n",
       " 30.0                        2.770115   5.880658  0.288889  5.438272   \n",
       " 40.0                        3.064748   2.478261  3.300000  3.434978   \n",
       " 50.0                        2.531532   3.903371  2.565126  3.107817   \n",
       " 60.0                        2.101215   3.037647  2.095238  3.383292   \n",
       " 70.0                        3.773050   3.589520  1.777778  2.532110   \n",
       " 80.0                       -4.181818   1.937500  4.562044  1.837209   \n",
       " 90.0                        4.000000 -14.333333       NaN       NaN   \n",
       "\n",
       "weather_humidityRounded         90.0       100.0  \n",
       "weather_temperatureRounded                        \n",
       "-10.0                             NaN        NaN  \n",
       " 0.0                              NaN        NaN  \n",
       " 10.0                       17.000000        NaN  \n",
       " 20.0                       -5.000000        NaN  \n",
       " 30.0                        3.686275  -5.500000  \n",
       " 40.0                        4.609524  12.666667  \n",
       " 50.0                        4.086667        NaN  \n",
       " 60.0                        1.663158   5.666667  \n",
       " 70.0                       -4.828571  -1.000000  \n",
       " 80.0                        4.666667        NaN  \n",
       " 90.0                             NaN        NaN  "
      ]
     },
     "execution_count": 563,
     "metadata": {},
     "output_type": "execute_result"
    }
   ],
   "source": [
    "homeWinsHumidityTempPivot"
   ]
  },
  {
   "cell_type": "code",
   "execution_count": 567,
   "metadata": {},
   "outputs": [
    {
     "data": {
      "text/plain": [
       "[<matplotlib.lines.Line2D at 0x1a2444b3d0>]"
      ]
     },
     "execution_count": 567,
     "metadata": {},
     "output_type": "execute_result"
    },
    {
     "data": {
      "image/png": "[encoded data removed]",
      "text/plain": [
       "<Figure size 1440x720 with 1 Axes>"
      ]
     },
     "metadata": {
      "needs_background": "light"
     },
     "output_type": "display_data"
    }
   ],
   "source": [
    "homeWinsHumidityTempPivot.plot(figsize=(20, 10));\n",
    "plt.plot([100,-10],[0,0],'k-')"
   ]
  },
  {
   "cell_type": "markdown",
   "metadata": {},
   "source": [
    "A majority of the lines are above the 0 score difference line. This implies that the home team score more than the away team resulting in a win for the home team. One outlier is when humidty was in the 10s, the away team scored more in all temperatures. Also the away team scored more than the home team at temperatures greater than 80 when the humidity was in the 30s, 60s, and 10s like stated above. A majority of the differences are at the two polar ends of the temperature range. When temperatures are around 0 degress and greater than 80 degress, the score difference diverts greatly from the middle. "
   ]
  },
  {
   "cell_type": "code",
   "execution_count": null,
   "metadata": {},
   "outputs": [],
   "source": []
  },
  {
   "cell_type": "code",
   "execution_count": null,
   "metadata": {},
   "outputs": [],
   "source": []
  },
  {
   "cell_type": "markdown",
   "metadata": {},
   "source": [
    "<h3> Temperature vs Score"
   ]
  },
  {
   "cell_type": "code",
   "execution_count": 353,
   "metadata": {},
   "outputs": [
    {
     "data": {
      "text/plain": [
       "(0.0040273979243054675,\n",
       " 58.46616203222529,\n",
       " 0.0027290123342187823,\n",
       " 0.7661656940640897,\n",
       " 0.013541985102146176)"
      ]
     },
     "execution_count": 353,
     "metadata": {},
     "output_type": "execute_result"
    }
   ],
   "source": [
    "slope, intercept, r_value, p_value, std_err = linregress(homeWins['score_home'],homeWins['weather_temperature'])\n",
    "slope, intercept, r_value, p_value, std_err"
   ]
  },
  {
   "cell_type": "code",
   "execution_count": 354,
   "metadata": {},
   "outputs": [
    {
     "data": {
      "text/plain": [
       "[<matplotlib.lines.Line2D at 0x1a20c94d50>]"
      ]
     },
     "execution_count": 354,
     "metadata": {},
     "output_type": "execute_result"
    },
    {
     "data": {
      "image/png": "[encoded data removed]",
      "text/plain": [
       "<Figure size 432x288 with 1 Axes>"
      ]
     },
     "metadata": {
      "needs_background": "light"
     },
     "output_type": "display_data"
    }
   ],
   "source": [
    "plt.plot(homeWins['score_home'], homeWins['weather_temperature'], 'o', label='original data')\n",
    "plt.plot(homeWins['score_home'], intercept + slope*homeWins['score_home'], 'r', label='fitted line')"
   ]
  },
  {
   "cell_type": "code",
   "execution_count": 356,
   "metadata": {},
   "outputs": [
    {
     "data": {
      "text/plain": [
       "(0.10194282250049275,\n",
       " 56.5643175747698,\n",
       " 0.06638427739992205,\n",
       " 4.414628366617826e-13,\n",
       " 0.01406038692476114)"
      ]
     },
     "execution_count": 356,
     "metadata": {},
     "output_type": "execute_result"
    }
   ],
   "source": [
    "slope, intercept, r_value, p_value, std_err = linregress(homeWins['score_away'],homeWins['weather_temperature'])\n",
    "slope, intercept, r_value, p_value, std_err"
   ]
  },
  {
   "cell_type": "code",
   "execution_count": 357,
   "metadata": {},
   "outputs": [
    {
     "data": {
      "text/plain": [
       "[<matplotlib.lines.Line2D at 0x1a20e0a890>]"
      ]
     },
     "execution_count": 357,
     "metadata": {},
     "output_type": "execute_result"
    },
    {
     "data": {
      "image/png": "[encoded data removed]",
      "text/plain": [
       "<Figure size 432x288 with 1 Axes>"
      ]
     },
     "metadata": {
      "needs_background": "light"
     },
     "output_type": "display_data"
    }
   ],
   "source": [
    "plt.plot(homeWins['score_away'], homeWins['weather_temperature'], 'o', label='original data')\n",
    "plt.plot(homeWins['score_away'], intercept + slope*homeWins['score_away'], 'r', label='fitted line')"
   ]
  },
  {
   "cell_type": "markdown",
   "metadata": {},
   "source": [
    "There is a greater correlation with away team scores (0.066) and weather temperature than home team scores (0.003), though the correlation is still a weak one since the r value is less than 0.2. This implies that when temperatures increase there is a slight correlation that the away team score will also increase, and when temperatures decrease the away team score will decrease. Therefore away teams may have a harder time playing in colder temperatures, though the correlation is very small."
   ]
  },
  {
   "cell_type": "code",
   "execution_count": null,
   "metadata": {},
   "outputs": [],
   "source": []
  },
  {
   "cell_type": "markdown",
   "metadata": {},
   "source": [
    "<h3> Humidity vs Score"
   ]
  },
  {
   "cell_type": "code",
   "execution_count": 473,
   "metadata": {},
   "outputs": [
    {
     "data": {
      "text/plain": [
       "(-0.02377389427232223,\n",
       " 67.7400701716278,\n",
       " -0.015918868689775375,\n",
       " 0.14488989084131948,\n",
       " 0.01630630882696542)"
      ]
     },
     "execution_count": 473,
     "metadata": {},
     "output_type": "execute_result"
    }
   ],
   "source": [
    "slope, intercept, r_value, p_value, std_err = linregress(homeWinsHumidity['score_home'],homeWinsHumidity['weather_humidity'])\n",
    "slope, intercept, r_value, p_value, std_err"
   ]
  },
  {
   "cell_type": "code",
   "execution_count": 474,
   "metadata": {},
   "outputs": [
    {
     "data": {
      "text/plain": [
       "[<matplotlib.lines.Line2D at 0x1a20fdcf50>]"
      ]
     },
     "execution_count": 474,
     "metadata": {},
     "output_type": "execute_result"
    },
    {
     "data": {
      "image/png": "[encoded data removed]",
      "text/plain": [
       "<Figure size 432x288 with 1 Axes>"
      ]
     },
     "metadata": {
      "needs_background": "light"
     },
     "output_type": "display_data"
    }
   ],
   "source": [
    "plt.plot(homeWinsHumidity['score_home'],homeWinsHumidity['weather_humidity'], 'o', label='original data')\n",
    "plt.plot(homeWinsHumidity['score_home'], intercept + slope*homeWinsHumidity['score_home'], 'r', label='fitted line')"
   ]
  },
  {
   "cell_type": "code",
   "execution_count": 475,
   "metadata": {},
   "outputs": [
    {
     "data": {
      "text/plain": [
       "(-0.03741147122835866,\n",
       " 67.92593447891527,\n",
       " -0.024142586160029164,\n",
       " 0.027027789560829005,\n",
       " 0.016916751279446193)"
      ]
     },
     "execution_count": 475,
     "metadata": {},
     "output_type": "execute_result"
    }
   ],
   "source": [
    "slope, intercept, r_value, p_value, std_err = linregress(homeWinsHumidity['score_away'],homeWinsHumidity['weather_humidity'])\n",
    "slope, intercept, r_value, p_value, std_err"
   ]
  },
  {
   "cell_type": "code",
   "execution_count": 477,
   "metadata": {},
   "outputs": [
    {
     "data": {
      "text/plain": [
       "[<matplotlib.lines.Line2D at 0x1a22159fd0>]"
      ]
     },
     "execution_count": 477,
     "metadata": {},
     "output_type": "execute_result"
    },
    {
     "data": {
      "image/png": "[encoded data removed]",
      "text/plain": [
       "<Figure size 432x288 with 1 Axes>"
      ]
     },
     "metadata": {
      "needs_background": "light"
     },
     "output_type": "display_data"
    }
   ],
   "source": [
    "plt.plot(homeWinsHumidity['score_away'],homeWinsHumidity['weather_humidity'], 'o', label='original data')\n",
    "plt.plot(homeWinsHumidity['score_away'], intercept + slope*homeWinsHumidity['score_away'], 'r', label='fitted line')"
   ]
  },
  {
   "cell_type": "markdown",
   "metadata": {},
   "source": [
    "As with temperature vs score shere is a greater correlation with away team scores (-0.024) and humidity than home team scores (-0.016). Also the correlation is still a weak one since the r value is less than -0.2. \n",
    "\n",
    "The difference with humidity is that the corelations are negative. This implies that when humidity increases there is a slight correlation that the away team score will decrease, and when humidity decreases the away team score will increase. Therefore away teams may have a harder time playing in higher humidity, though the correlation is very small."
   ]
  },
  {
   "cell_type": "code",
   "execution_count": null,
   "metadata": {},
   "outputs": [],
   "source": []
  },
  {
   "cell_type": "code",
   "execution_count": 318,
   "metadata": {},
   "outputs": [
    {
     "data": {
      "text/html": [
       "<div>\n",
       "<style scoped>\n",
       "    .dataframe tbody tr th:only-of-type {\n",
       "        vertical-align: middle;\n",
       "    }\n",
       "\n",
       "    .dataframe tbody tr th {\n",
       "        vertical-align: top;\n",
       "    }\n",
       "\n",
       "    .dataframe thead th {\n",
       "        text-align: right;\n",
       "    }\n",
       "</style>\n",
       "<table border=\"1\" class=\"dataframe\">\n",
       "  <thead>\n",
       "    <tr style=\"text-align: right;\">\n",
       "      <th></th>\n",
       "      <th>scoreDiff</th>\n",
       "    </tr>\n",
       "    <tr>\n",
       "      <th>weather_temperatureRounded</th>\n",
       "      <th></th>\n",
       "    </tr>\n",
       "  </thead>\n",
       "  <tbody>\n",
       "    <tr>\n",
       "      <td>-10.0</td>\n",
       "      <td>8.000000</td>\n",
       "    </tr>\n",
       "    <tr>\n",
       "      <td>0.0</td>\n",
       "      <td>6.470588</td>\n",
       "    </tr>\n",
       "    <tr>\n",
       "      <td>10.0</td>\n",
       "      <td>4.620000</td>\n",
       "    </tr>\n",
       "    <tr>\n",
       "      <td>20.0</td>\n",
       "      <td>4.163212</td>\n",
       "    </tr>\n",
       "    <tr>\n",
       "      <td>30.0</td>\n",
       "      <td>3.643721</td>\n",
       "    </tr>\n",
       "    <tr>\n",
       "      <td>40.0</td>\n",
       "      <td>3.314413</td>\n",
       "    </tr>\n",
       "    <tr>\n",
       "      <td>50.0</td>\n",
       "      <td>3.210188</td>\n",
       "    </tr>\n",
       "    <tr>\n",
       "      <td>60.0</td>\n",
       "      <td>2.785781</td>\n",
       "    </tr>\n",
       "    <tr>\n",
       "      <td>70.0</td>\n",
       "      <td>2.413257</td>\n",
       "    </tr>\n",
       "    <tr>\n",
       "      <td>80.0</td>\n",
       "      <td>2.378378</td>\n",
       "    </tr>\n",
       "    <tr>\n",
       "      <td>90.0</td>\n",
       "      <td>-3.692308</td>\n",
       "    </tr>\n",
       "  </tbody>\n",
       "</table>\n",
       "</div>"
      ],
      "text/plain": [
       "                            scoreDiff\n",
       "weather_temperatureRounded           \n",
       "-10.0                        8.000000\n",
       " 0.0                         6.470588\n",
       " 10.0                        4.620000\n",
       " 20.0                        4.163212\n",
       " 30.0                        3.643721\n",
       " 40.0                        3.314413\n",
       " 50.0                        3.210188\n",
       " 60.0                        2.785781\n",
       " 70.0                        2.413257\n",
       " 80.0                        2.378378\n",
       " 90.0                       -3.692308"
      ]
     },
     "execution_count": 318,
     "metadata": {},
     "output_type": "execute_result"
    }
   ],
   "source": [
    "gamesStadiumsOutdoors"
   ]
  },
  {
   "cell_type": "code",
   "execution_count": 280,
   "metadata": {},
   "outputs": [
    {
     "data": {
      "text/plain": [
       "LinregressResult(slope=-0.07694454768644805, intercept=6.469348432138689, rvalue=-0.8729729220617474, pvalue=0.0004508462366186406, stderr=0.014330776625941991)"
      ]
     },
     "execution_count": 280,
     "metadata": {},
     "output_type": "execute_result"
    }
   ],
   "source": [
    "linregress(gamesStadiumsOutdoors.index,gamesStadiumsOutdoors['scoreDiff'])"
   ]
  },
  {
   "cell_type": "code",
   "execution_count": 281,
   "metadata": {},
   "outputs": [],
   "source": [
    "gameOutdoorsAll = gamesStadiums[gamesStadiums['stadium_type'] == 'outdoor']"
   ]
  },
  {
   "cell_type": "code",
   "execution_count": 300,
   "metadata": {},
   "outputs": [
    {
     "data": {
      "text/plain": [
       "LinregressResult(slope=-0.03628070103071584, intercept=5.088652322235415, rvalue=-0.0380269952131704, pvalue=0.00027147746194348737, stderr=0.009960342736445959)"
      ]
     },
     "execution_count": 300,
     "metadata": {},
     "output_type": "execute_result"
    }
   ],
   "source": [
    "linregress(gameOutdoorsAll['weather_temperature'],gameOutdoorsAll['scoreDiff'])"
   ]
  },
  {
   "cell_type": "code",
   "execution_count": 310,
   "metadata": {},
   "outputs": [
    {
     "data": {
      "text/plain": [
       "<matplotlib.axes._subplots.AxesSubplot at 0x1a1fb8e950>"
      ]
     },
     "execution_count": 310,
     "metadata": {},
     "output_type": "execute_result"
    },
    {
     "data": {
      "image/png": "[encoded data removed]",
      "text/plain": [
       "<Figure size 432x288 with 2 Axes>"
      ]
     },
     "metadata": {
      "needs_background": "light"
     },
     "output_type": "display_data"
    }
   ],
   "source": [
    "plt.subplot(1, 2, 1)\n",
    "sns.scatterplot(x=gamesStadiumsOutdoors.index,y='scoreDiff',data=gamesStadiumsOutdoors)\n",
    "plt.subplot(1, 2, 2)\n",
    "sns.scatterplot(x='weather_temperature',y='scoreDiff',data=gameOutdoorsAll)"
   ]
  },
  {
   "cell_type": "markdown",
   "metadata": {},
   "source": [
    "There is a negative correlation between outdoor stadium temperatures and the score difference when taking the mean difference for each binned weather temperature. The r value for these two is -0.87. This is a indicts a strong correlation that as temperature decreases the score difference increases. \n",
    "\n",
    "Though when you test the correlation for all the games seperately without binning the correlation drops to -0.04. This shows a big shift towards no correlation. \n",
    "\n",
    "A factor for this shift is with binning and taking the mean of each there is a larger impact of outliers and one off differences. A majority of the points for all games is in clustered in the middle with a few outliers at the ends. when just taking the mean of each binned temperature the number of points in each gets negated. This allows the outliers to have a greater effect on the results. "
   ]
  },
  {
   "cell_type": "code",
   "execution_count": null,
   "metadata": {},
   "outputs": [],
   "source": []
  },
  {
   "cell_type": "code",
   "execution_count": 299,
   "metadata": {},
   "outputs": [
    {
     "data": {
      "text/plain": [
       "0        -9.0\n",
       "1        38.0\n",
       "2        20.0\n",
       "3        -5.0\n",
       "4        21.0\n",
       "         ... \n",
       "11870    -1.0\n",
       "11871    18.0\n",
       "11872     8.0\n",
       "11873    13.0\n",
       "11875    -6.0\n",
       "Name: scoreDiff, Length: 9164, dtype: float64"
      ]
     },
     "execution_count": 299,
     "metadata": {},
     "output_type": "execute_result"
    }
   ],
   "source": [
    "gameOutdoorsAll['scoreDiff']"
   ]
  },
  {
   "cell_type": "code",
   "execution_count": null,
   "metadata": {},
   "outputs": [],
   "source": []
  },
  {
   "cell_type": "code",
   "execution_count": 284,
   "metadata": {},
   "outputs": [
    {
     "data": {
      "text/plain": [
       "3.093736359668267"
      ]
     },
     "execution_count": 284,
     "metadata": {},
     "output_type": "execute_result"
    }
   ],
   "source": [
    "meanScore = gameOutdoorsAll['scoreDiff'].mean()\n",
    "meanScore"
   ]
  },
  {
   "cell_type": "code",
   "execution_count": 285,
   "metadata": {},
   "outputs": [
    {
     "data": {
      "text/plain": [
       "14.915127784545444"
      ]
     },
     "execution_count": 285,
     "metadata": {},
     "output_type": "execute_result"
    }
   ],
   "source": [
    "stdScore = gameOutdoorsAll['scoreDiff'].std()\n",
    "stdScore"
   ]
  },
  {
   "cell_type": "code",
   "execution_count": 286,
   "metadata": {},
   "outputs": [
    {
     "data": {
      "text/plain": [
       "54.98559580969009"
      ]
     },
     "execution_count": 286,
     "metadata": {},
     "output_type": "execute_result"
    }
   ],
   "source": [
    "meanWeather = gameOutdoorsAll['weather_temperature'].mean()\n",
    "meanWeather"
   ]
  },
  {
   "cell_type": "code",
   "execution_count": 287,
   "metadata": {},
   "outputs": [
    {
     "data": {
      "text/plain": [
       "15.633035656795911"
      ]
     },
     "execution_count": 287,
     "metadata": {},
     "output_type": "execute_result"
    }
   ],
   "source": [
    "stdWeather = gameOutdoorsAll['weather_temperature'].std()\n",
    "stdWeather"
   ]
  },
  {
   "cell_type": "code",
   "execution_count": null,
   "metadata": {},
   "outputs": [],
   "source": []
  },
  {
   "cell_type": "markdown",
   "metadata": {},
   "source": [
    "<h2> Normal Distribution"
   ]
  },
  {
   "cell_type": "code",
   "execution_count": 288,
   "metadata": {},
   "outputs": [],
   "source": [
    "def ecdf(data):\n",
    "    x = np.sort(data)\n",
    "    n = x.size\n",
    "    y = np.arange(1,n+1) / n\n",
    "    return(x,y)"
   ]
  },
  {
   "cell_type": "code",
   "execution_count": 289,
   "metadata": {},
   "outputs": [],
   "source": [
    "scoreSamples = np.random.normal(meanScore,stdScore,size=10000)"
   ]
  },
  {
   "cell_type": "code",
   "execution_count": 290,
   "metadata": {},
   "outputs": [
    {
     "data": {
      "text/plain": [
       "<matplotlib.axes._subplots.AxesSubplot at 0x1a1ed3a6d0>"
      ]
     },
     "execution_count": 290,
     "metadata": {},
     "output_type": "execute_result"
    },
    {
     "data": {
      "image/png": "[encoded data removed]",
      "text/plain": [
       "<Figure size 432x288 with 1 Axes>"
      ]
     },
     "metadata": {
      "needs_background": "light"
     },
     "output_type": "display_data"
    }
   ],
   "source": [
    "sns.distplot(scoreSamples)"
   ]
  },
  {
   "cell_type": "code",
   "execution_count": 291,
   "metadata": {},
   "outputs": [],
   "source": [
    "x, y = ecdf(gameOutdoors['scoreDiff'])"
   ]
  },
  {
   "cell_type": "code",
   "execution_count": 292,
   "metadata": {},
   "outputs": [],
   "source": [
    "xtheory , ytheory = ecdf(scoreSamples)"
   ]
  },
  {
   "cell_type": "code",
   "execution_count": 293,
   "metadata": {},
   "outputs": [
    {
     "data": {
      "text/plain": [
       "<matplotlib.axes._subplots.AxesSubplot at 0x1a1efd8490>"
      ]
     },
     "execution_count": 293,
     "metadata": {},
     "output_type": "execute_result"
    },
    {
     "data": {
      "image/png": "[encoded data removed]",
      "text/plain": [
       "<Figure size 432x288 with 1 Axes>"
      ]
     },
     "metadata": {
      "needs_background": "light"
     },
     "output_type": "display_data"
    }
   ],
   "source": [
    "sns.lineplot(xtheory, ytheory)\n",
    "sns.lineplot(x,y,marker='.',linestyle='none')"
   ]
  },
  {
   "cell_type": "code",
   "execution_count": 294,
   "metadata": {},
   "outputs": [],
   "source": [
    "weatherSamples = np.random.normal(meanWeather,stdWeather,size=10000)"
   ]
  },
  {
   "cell_type": "code",
   "execution_count": 295,
   "metadata": {},
   "outputs": [
    {
     "data": {
      "text/plain": [
       "<matplotlib.axes._subplots.AxesSubplot at 0x1a1f1c4ed0>"
      ]
     },
     "execution_count": 295,
     "metadata": {},
     "output_type": "execute_result"
    },
    {
     "data": {
      "image/png": "[encoded data removed]",
      "text/plain": [
       "<Figure size 432x288 with 1 Axes>"
      ]
     },
     "metadata": {
      "needs_background": "light"
     },
     "output_type": "display_data"
    }
   ],
   "source": [
    "sns.distplot(weatherSamples)"
   ]
  },
  {
   "cell_type": "code",
   "execution_count": 296,
   "metadata": {},
   "outputs": [],
   "source": [
    "x, y = ecdf(gameOutdoors['weather_temperature'])"
   ]
  },
  {
   "cell_type": "code",
   "execution_count": 297,
   "metadata": {},
   "outputs": [],
   "source": [
    "xtheory , ytheory = ecdf(weatherSamples)"
   ]
  },
  {
   "cell_type": "code",
   "execution_count": 298,
   "metadata": {},
   "outputs": [
    {
     "data": {
      "text/plain": [
       "<matplotlib.axes._subplots.AxesSubplot at 0x1a1f3c1190>"
      ]
     },
     "execution_count": 298,
     "metadata": {},
     "output_type": "execute_result"
    },
    {
     "data": {
      "image/png": "[encoded data removed]",
      "text/plain": [
       "<Figure size 432x288 with 1 Axes>"
      ]
     },
     "metadata": {
      "needs_background": "light"
     },
     "output_type": "display_data"
    }
   ],
   "source": [
    "sns.lineplot(xtheory, ytheory)\n",
    "sns.lineplot(x,y,marker='.',linestyle='none')"
   ]
  },
  {
   "cell_type": "markdown",
   "metadata": {},
   "source": [
    "Data is normal distributed"
   ]
  },
  {
   "cell_type": "code",
   "execution_count": null,
   "metadata": {},
   "outputs": [],
   "source": []
  },
  {
   "cell_type": "code",
   "execution_count": null,
   "metadata": {},
   "outputs": [],
   "source": []
  }
 ],
 "metadata": {
  "kernelspec": {
   "display_name": "Python 3",
   "language": "python",
   "name": "python3"
  },
  "language_info": {
   "codemirror_mode": {
    "name": "ipython",
    "version": 3
   },
   "file_extension": ".py",
   "mimetype": "text/x-python",
   "name": "python",
   "nbconvert_exporter": "python",
   "pygments_lexer": "ipython3",
   "version": "3.7.4"
  }
 },
 "nbformat": 4,
 "nbformat_minor": 2
}

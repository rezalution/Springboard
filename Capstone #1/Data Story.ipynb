{
 "cells": [
  {
   "cell_type": "markdown",
   "metadata": {},
   "source": [
    "<h1>Data Story"
   ]
  },
  {
   "cell_type": "code",
   "execution_count": 1,
   "metadata": {},
   "outputs": [],
   "source": [
    "import numpy as np"
   ]
  },
  {
   "cell_type": "code",
   "execution_count": 2,
   "metadata": {},
   "outputs": [],
   "source": [
    "import pandas as pd"
   ]
  },
  {
   "cell_type": "code",
   "execution_count": 3,
   "metadata": {},
   "outputs": [],
   "source": [
    "import matplotlib.pyplot as plt"
   ]
  },
  {
   "cell_type": "code",
   "execution_count": 4,
   "metadata": {},
   "outputs": [],
   "source": [
    "import seaborn as sns"
   ]
  },
  {
   "cell_type": "code",
   "execution_count": 5,
   "metadata": {},
   "outputs": [],
   "source": [
    "## Importing csv files into panda DataFrames"
   ]
  },
  {
   "cell_type": "code",
   "execution_count": 6,
   "metadata": {},
   "outputs": [],
   "source": [
    "filenameTeam = '/Users/Rezalution/Desktop/nfl-scores-and-betting-data/nfl_teams.csv'\n",
    "filenameStadiums = '/Users/Rezalution/Desktop/nfl-scores-and-betting-data/nfl_stadiums.csv'\n",
    "filenameGames = '/Users/Rezalution/Desktop/nfl-scores-and-betting-data/spreadspoke_scores.csv'"
   ]
  },
  {
   "cell_type": "code",
   "execution_count": 7,
   "metadata": {},
   "outputs": [],
   "source": [
    "nflTeams = pd.read_csv(filenameTeam,encoding ='latin1')\n",
    "nflStadiums = pd.read_csv(filenameStadiums,encoding ='latin1')\n",
    "nflGames = pd.read_csv(filenameGames,encoding ='latin1')"
   ]
  },
  {
   "cell_type": "code",
   "execution_count": 8,
   "metadata": {},
   "outputs": [
    {
     "data": {
      "text/html": [
       "<div>\n",
       "<style scoped>\n",
       "    .dataframe tbody tr th:only-of-type {\n",
       "        vertical-align: middle;\n",
       "    }\n",
       "\n",
       "    .dataframe tbody tr th {\n",
       "        vertical-align: top;\n",
       "    }\n",
       "\n",
       "    .dataframe thead th {\n",
       "        text-align: right;\n",
       "    }\n",
       "</style>\n",
       "<table border=\"1\" class=\"dataframe\">\n",
       "  <thead>\n",
       "    <tr style=\"text-align: right;\">\n",
       "      <th></th>\n",
       "      <th>team_name</th>\n",
       "      <th>team_name_short</th>\n",
       "      <th>team_id</th>\n",
       "      <th>team_id_pfr</th>\n",
       "      <th>team_conference</th>\n",
       "      <th>team_division</th>\n",
       "      <th>team_conference_pre2002</th>\n",
       "      <th>team_division_pre2002</th>\n",
       "    </tr>\n",
       "  </thead>\n",
       "  <tbody>\n",
       "    <tr>\n",
       "      <td>0</td>\n",
       "      <td>Arizona Cardinals</td>\n",
       "      <td>Cardinals</td>\n",
       "      <td>ARI</td>\n",
       "      <td>CRD</td>\n",
       "      <td>NFC</td>\n",
       "      <td>NFC West</td>\n",
       "      <td>NFC</td>\n",
       "      <td>NFC West</td>\n",
       "    </tr>\n",
       "    <tr>\n",
       "      <td>1</td>\n",
       "      <td>Phoenix Cardinals</td>\n",
       "      <td>Cardinals</td>\n",
       "      <td>ARI</td>\n",
       "      <td>CRD</td>\n",
       "      <td>NFC</td>\n",
       "      <td>NaN</td>\n",
       "      <td>NFC</td>\n",
       "      <td>NFC East</td>\n",
       "    </tr>\n",
       "    <tr>\n",
       "      <td>2</td>\n",
       "      <td>St. Louis Cardinals</td>\n",
       "      <td>Cardinals</td>\n",
       "      <td>ARI</td>\n",
       "      <td>ARI</td>\n",
       "      <td>NFC</td>\n",
       "      <td>NaN</td>\n",
       "      <td>NFC</td>\n",
       "      <td>NFC East</td>\n",
       "    </tr>\n",
       "    <tr>\n",
       "      <td>3</td>\n",
       "      <td>Atlanta Falcons</td>\n",
       "      <td>Falcons</td>\n",
       "      <td>ATL</td>\n",
       "      <td>ATL</td>\n",
       "      <td>NFC</td>\n",
       "      <td>NFC South</td>\n",
       "      <td>NFC</td>\n",
       "      <td>NFC West</td>\n",
       "    </tr>\n",
       "    <tr>\n",
       "      <td>4</td>\n",
       "      <td>Baltimore Ravens</td>\n",
       "      <td>Ravens</td>\n",
       "      <td>BAL</td>\n",
       "      <td>RAV</td>\n",
       "      <td>AFC</td>\n",
       "      <td>AFC North</td>\n",
       "      <td>AFC</td>\n",
       "      <td>AFC Central</td>\n",
       "    </tr>\n",
       "  </tbody>\n",
       "</table>\n",
       "</div>"
      ],
      "text/plain": [
       "             team_name team_name_short team_id team_id_pfr team_conference  \\\n",
       "0    Arizona Cardinals       Cardinals     ARI         CRD             NFC   \n",
       "1    Phoenix Cardinals       Cardinals     ARI         CRD             NFC   \n",
       "2  St. Louis Cardinals       Cardinals     ARI         ARI             NFC   \n",
       "3      Atlanta Falcons         Falcons     ATL         ATL             NFC   \n",
       "4     Baltimore Ravens          Ravens     BAL         RAV             AFC   \n",
       "\n",
       "  team_division team_conference_pre2002 team_division_pre2002  \n",
       "0      NFC West                     NFC              NFC West  \n",
       "1           NaN                     NFC              NFC East  \n",
       "2           NaN                     NFC              NFC East  \n",
       "3     NFC South                     NFC              NFC West  \n",
       "4     AFC North                     AFC           AFC Central  "
      ]
     },
     "execution_count": 8,
     "metadata": {},
     "output_type": "execute_result"
    }
   ],
   "source": [
    "nflTeams.head()"
   ]
  },
  {
   "cell_type": "code",
   "execution_count": 9,
   "metadata": {},
   "outputs": [],
   "source": [
    "nflStadiumsCleaned = nflStadiums.drop(columns=['stadium_open','stadium_close','stadium_address','stadium_weather_station_code','stadium_capacity','STATION','NAME','LATITUDE','LONGITUDE'])"
   ]
  },
  {
   "cell_type": "code",
   "execution_count": 10,
   "metadata": {},
   "outputs": [
    {
     "data": {
      "text/html": [
       "<div>\n",
       "<style scoped>\n",
       "    .dataframe tbody tr th:only-of-type {\n",
       "        vertical-align: middle;\n",
       "    }\n",
       "\n",
       "    .dataframe tbody tr th {\n",
       "        vertical-align: top;\n",
       "    }\n",
       "\n",
       "    .dataframe thead th {\n",
       "        text-align: right;\n",
       "    }\n",
       "</style>\n",
       "<table border=\"1\" class=\"dataframe\">\n",
       "  <thead>\n",
       "    <tr style=\"text-align: right;\">\n",
       "      <th></th>\n",
       "      <th>stadium_name</th>\n",
       "      <th>stadium_location</th>\n",
       "      <th>stadium_type</th>\n",
       "      <th>stadium_weather_type</th>\n",
       "      <th>stadium_surface</th>\n",
       "      <th>ELEVATION</th>\n",
       "    </tr>\n",
       "  </thead>\n",
       "  <tbody>\n",
       "    <tr>\n",
       "      <td>0</td>\n",
       "      <td>Alamo Dome</td>\n",
       "      <td>San Antonio, TX</td>\n",
       "      <td>indoor</td>\n",
       "      <td>dome</td>\n",
       "      <td>FieldTurf</td>\n",
       "      <td>NaN</td>\n",
       "    </tr>\n",
       "    <tr>\n",
       "      <td>1</td>\n",
       "      <td>Alltel Stadium</td>\n",
       "      <td>Jacksonville, FL</td>\n",
       "      <td>NaN</td>\n",
       "      <td>NaN</td>\n",
       "      <td>NaN</td>\n",
       "      <td>NaN</td>\n",
       "    </tr>\n",
       "    <tr>\n",
       "      <td>2</td>\n",
       "      <td>Alumni Stadium</td>\n",
       "      <td>Chestnut Hill, MA</td>\n",
       "      <td>outdoor</td>\n",
       "      <td>cold</td>\n",
       "      <td>Grass</td>\n",
       "      <td>NaN</td>\n",
       "    </tr>\n",
       "    <tr>\n",
       "      <td>3</td>\n",
       "      <td>Anaheim Stadium</td>\n",
       "      <td>Anaheim, CA</td>\n",
       "      <td>outdoor</td>\n",
       "      <td>warm</td>\n",
       "      <td>NaN</td>\n",
       "      <td>NaN</td>\n",
       "    </tr>\n",
       "    <tr>\n",
       "      <td>4</td>\n",
       "      <td>Arrowhead Stadium</td>\n",
       "      <td>Kansas City, MO</td>\n",
       "      <td>outdoor</td>\n",
       "      <td>cold</td>\n",
       "      <td>Grass</td>\n",
       "      <td>264.9</td>\n",
       "    </tr>\n",
       "  </tbody>\n",
       "</table>\n",
       "</div>"
      ],
      "text/plain": [
       "        stadium_name   stadium_location stadium_type stadium_weather_type  \\\n",
       "0         Alamo Dome    San Antonio, TX       indoor                 dome   \n",
       "1     Alltel Stadium   Jacksonville, FL          NaN                  NaN   \n",
       "2     Alumni Stadium  Chestnut Hill, MA      outdoor                 cold   \n",
       "3    Anaheim Stadium        Anaheim, CA      outdoor                 warm   \n",
       "4  Arrowhead Stadium    Kansas City, MO      outdoor                 cold   \n",
       "\n",
       "  stadium_surface  ELEVATION  \n",
       "0       FieldTurf        NaN  \n",
       "1             NaN        NaN  \n",
       "2           Grass        NaN  \n",
       "3             NaN        NaN  \n",
       "4           Grass      264.9  "
      ]
     },
     "execution_count": 10,
     "metadata": {},
     "output_type": "execute_result"
    }
   ],
   "source": [
    "nflStadiumsCleaned.head()"
   ]
  },
  {
   "cell_type": "code",
   "execution_count": 11,
   "metadata": {},
   "outputs": [
    {
     "name": "stdout",
     "output_type": "stream",
     "text": [
      "<class 'pandas.core.frame.DataFrame'>\n",
      "RangeIndex: 100 entries, 0 to 99\n",
      "Data columns (total 6 columns):\n",
      "stadium_name            100 non-null object\n",
      "stadium_location        100 non-null object\n",
      "stadium_type            93 non-null object\n",
      "stadium_weather_type    93 non-null object\n",
      "stadium_surface         53 non-null object\n",
      "ELEVATION               52 non-null float64\n",
      "dtypes: float64(1), object(5)\n",
      "memory usage: 4.8+ KB\n"
     ]
    }
   ],
   "source": [
    "nflStadiumsCleaned.info()"
   ]
  },
  {
   "cell_type": "code",
   "execution_count": 12,
   "metadata": {},
   "outputs": [
    {
     "data": {
      "text/html": [
       "<div>\n",
       "<style scoped>\n",
       "    .dataframe tbody tr th:only-of-type {\n",
       "        vertical-align: middle;\n",
       "    }\n",
       "\n",
       "    .dataframe tbody tr th {\n",
       "        vertical-align: top;\n",
       "    }\n",
       "\n",
       "    .dataframe thead th {\n",
       "        text-align: right;\n",
       "    }\n",
       "</style>\n",
       "<table border=\"1\" class=\"dataframe\">\n",
       "  <thead>\n",
       "    <tr style=\"text-align: right;\">\n",
       "      <th></th>\n",
       "      <th>stadium_name</th>\n",
       "      <th>stadium_location</th>\n",
       "      <th>stadium_type</th>\n",
       "      <th>stadium_weather_type</th>\n",
       "      <th>stadium_surface</th>\n",
       "      <th>ELEVATION</th>\n",
       "    </tr>\n",
       "  </thead>\n",
       "  <tbody>\n",
       "    <tr>\n",
       "      <td>1</td>\n",
       "      <td>Alltel Stadium</td>\n",
       "      <td>Jacksonville, FL</td>\n",
       "      <td>NaN</td>\n",
       "      <td>NaN</td>\n",
       "      <td>NaN</td>\n",
       "      <td>NaN</td>\n",
       "    </tr>\n",
       "    <tr>\n",
       "      <td>16</td>\n",
       "      <td>Dolphin Stadium</td>\n",
       "      <td>Miami, FL</td>\n",
       "      <td>NaN</td>\n",
       "      <td>NaN</td>\n",
       "      <td>NaN</td>\n",
       "      <td>NaN</td>\n",
       "    </tr>\n",
       "    <tr>\n",
       "      <td>35</td>\n",
       "      <td>Jack Murphy Stadium</td>\n",
       "      <td>San Diego, CA</td>\n",
       "      <td>NaN</td>\n",
       "      <td>NaN</td>\n",
       "      <td>NaN</td>\n",
       "      <td>NaN</td>\n",
       "    </tr>\n",
       "    <tr>\n",
       "      <td>36</td>\n",
       "      <td>Joe Robbie Stadium</td>\n",
       "      <td>Miami, FL</td>\n",
       "      <td>NaN</td>\n",
       "      <td>NaN</td>\n",
       "      <td>NaN</td>\n",
       "      <td>NaN</td>\n",
       "    </tr>\n",
       "    <tr>\n",
       "      <td>65</td>\n",
       "      <td>Pro Player Stadium</td>\n",
       "      <td>Miami, FL</td>\n",
       "      <td>NaN</td>\n",
       "      <td>NaN</td>\n",
       "      <td>NaN</td>\n",
       "      <td>NaN</td>\n",
       "    </tr>\n",
       "    <tr>\n",
       "      <td>79</td>\n",
       "      <td>Stanford Stadium</td>\n",
       "      <td>Palo Alto, CA</td>\n",
       "      <td>NaN</td>\n",
       "      <td>NaN</td>\n",
       "      <td>NaN</td>\n",
       "      <td>NaN</td>\n",
       "    </tr>\n",
       "    <tr>\n",
       "      <td>83</td>\n",
       "      <td>Tampa Stadium</td>\n",
       "      <td>Tampa, FL</td>\n",
       "      <td>NaN</td>\n",
       "      <td>NaN</td>\n",
       "      <td>NaN</td>\n",
       "      <td>NaN</td>\n",
       "    </tr>\n",
       "  </tbody>\n",
       "</table>\n",
       "</div>"
      ],
      "text/plain": [
       "           stadium_name  stadium_location stadium_type stadium_weather_type  \\\n",
       "1        Alltel Stadium  Jacksonville, FL          NaN                  NaN   \n",
       "16      Dolphin Stadium         Miami, FL          NaN                  NaN   \n",
       "35  Jack Murphy Stadium     San Diego, CA          NaN                  NaN   \n",
       "36   Joe Robbie Stadium         Miami, FL          NaN                  NaN   \n",
       "65   Pro Player Stadium         Miami, FL          NaN                  NaN   \n",
       "79     Stanford Stadium     Palo Alto, CA          NaN                  NaN   \n",
       "83        Tampa Stadium         Tampa, FL          NaN                  NaN   \n",
       "\n",
       "   stadium_surface  ELEVATION  \n",
       "1              NaN        NaN  \n",
       "16             NaN        NaN  \n",
       "35             NaN        NaN  \n",
       "36             NaN        NaN  \n",
       "65             NaN        NaN  \n",
       "79             NaN        NaN  \n",
       "83             NaN        NaN  "
      ]
     },
     "execution_count": 12,
     "metadata": {},
     "output_type": "execute_result"
    }
   ],
   "source": [
    "nflStadiumsCleaned[pd.isnull(nflStadiumsCleaned['stadium_type'])]"
   ]
  },
  {
   "cell_type": "code",
   "execution_count": 13,
   "metadata": {},
   "outputs": [],
   "source": [
    "nflGamesCleaned = nflGames.drop(columns=['over_under_line','spread_favorite','weather_detail'])"
   ]
  },
  {
   "cell_type": "code",
   "execution_count": 14,
   "metadata": {},
   "outputs": [
    {
     "data": {
      "text/html": [
       "<div>\n",
       "<style scoped>\n",
       "    .dataframe tbody tr th:only-of-type {\n",
       "        vertical-align: middle;\n",
       "    }\n",
       "\n",
       "    .dataframe tbody tr th {\n",
       "        vertical-align: top;\n",
       "    }\n",
       "\n",
       "    .dataframe thead th {\n",
       "        text-align: right;\n",
       "    }\n",
       "</style>\n",
       "<table border=\"1\" class=\"dataframe\">\n",
       "  <thead>\n",
       "    <tr style=\"text-align: right;\">\n",
       "      <th></th>\n",
       "      <th>schedule_date</th>\n",
       "      <th>schedule_season</th>\n",
       "      <th>schedule_week</th>\n",
       "      <th>schedule_playoff</th>\n",
       "      <th>team_home</th>\n",
       "      <th>score_home</th>\n",
       "      <th>score_away</th>\n",
       "      <th>team_away</th>\n",
       "      <th>team_favorite_id</th>\n",
       "      <th>stadium</th>\n",
       "      <th>stadium_neutral</th>\n",
       "      <th>weather_temperature</th>\n",
       "      <th>weather_wind_mph</th>\n",
       "      <th>weather_humidity</th>\n",
       "    </tr>\n",
       "  </thead>\n",
       "  <tbody>\n",
       "    <tr>\n",
       "      <td>0</td>\n",
       "      <td>09/02/1966</td>\n",
       "      <td>1966</td>\n",
       "      <td>1</td>\n",
       "      <td>False</td>\n",
       "      <td>Miami Dolphins</td>\n",
       "      <td>14.0</td>\n",
       "      <td>23.0</td>\n",
       "      <td>Oakland Raiders</td>\n",
       "      <td>NaN</td>\n",
       "      <td>Orange Bowl</td>\n",
       "      <td>False</td>\n",
       "      <td>83.0</td>\n",
       "      <td>6.0</td>\n",
       "      <td>71</td>\n",
       "    </tr>\n",
       "    <tr>\n",
       "      <td>1</td>\n",
       "      <td>09/03/1966</td>\n",
       "      <td>1966</td>\n",
       "      <td>1</td>\n",
       "      <td>False</td>\n",
       "      <td>Houston Oilers</td>\n",
       "      <td>45.0</td>\n",
       "      <td>7.0</td>\n",
       "      <td>Denver Broncos</td>\n",
       "      <td>NaN</td>\n",
       "      <td>Rice Stadium</td>\n",
       "      <td>False</td>\n",
       "      <td>81.0</td>\n",
       "      <td>7.0</td>\n",
       "      <td>70</td>\n",
       "    </tr>\n",
       "    <tr>\n",
       "      <td>2</td>\n",
       "      <td>09/04/1966</td>\n",
       "      <td>1966</td>\n",
       "      <td>1</td>\n",
       "      <td>False</td>\n",
       "      <td>San Diego Chargers</td>\n",
       "      <td>27.0</td>\n",
       "      <td>7.0</td>\n",
       "      <td>Buffalo Bills</td>\n",
       "      <td>NaN</td>\n",
       "      <td>Balboa Stadium</td>\n",
       "      <td>False</td>\n",
       "      <td>70.0</td>\n",
       "      <td>7.0</td>\n",
       "      <td>82</td>\n",
       "    </tr>\n",
       "    <tr>\n",
       "      <td>3</td>\n",
       "      <td>09/09/1966</td>\n",
       "      <td>1966</td>\n",
       "      <td>2</td>\n",
       "      <td>False</td>\n",
       "      <td>Miami Dolphins</td>\n",
       "      <td>14.0</td>\n",
       "      <td>19.0</td>\n",
       "      <td>New York Jets</td>\n",
       "      <td>NaN</td>\n",
       "      <td>Orange Bowl</td>\n",
       "      <td>False</td>\n",
       "      <td>82.0</td>\n",
       "      <td>11.0</td>\n",
       "      <td>78</td>\n",
       "    </tr>\n",
       "    <tr>\n",
       "      <td>4</td>\n",
       "      <td>09/10/1966</td>\n",
       "      <td>1966</td>\n",
       "      <td>1</td>\n",
       "      <td>False</td>\n",
       "      <td>Green Bay Packers</td>\n",
       "      <td>24.0</td>\n",
       "      <td>3.0</td>\n",
       "      <td>Baltimore Colts</td>\n",
       "      <td>NaN</td>\n",
       "      <td>Lambeau Field</td>\n",
       "      <td>False</td>\n",
       "      <td>64.0</td>\n",
       "      <td>8.0</td>\n",
       "      <td>62</td>\n",
       "    </tr>\n",
       "  </tbody>\n",
       "</table>\n",
       "</div>"
      ],
      "text/plain": [
       "  schedule_date  schedule_season schedule_week  schedule_playoff  \\\n",
       "0    09/02/1966             1966             1             False   \n",
       "1    09/03/1966             1966             1             False   \n",
       "2    09/04/1966             1966             1             False   \n",
       "3    09/09/1966             1966             2             False   \n",
       "4    09/10/1966             1966             1             False   \n",
       "\n",
       "            team_home  score_home  score_away        team_away  \\\n",
       "0      Miami Dolphins        14.0        23.0  Oakland Raiders   \n",
       "1      Houston Oilers        45.0         7.0   Denver Broncos   \n",
       "2  San Diego Chargers        27.0         7.0    Buffalo Bills   \n",
       "3      Miami Dolphins        14.0        19.0    New York Jets   \n",
       "4   Green Bay Packers        24.0         3.0  Baltimore Colts   \n",
       "\n",
       "  team_favorite_id         stadium  stadium_neutral  weather_temperature  \\\n",
       "0              NaN     Orange Bowl            False                 83.0   \n",
       "1              NaN    Rice Stadium            False                 81.0   \n",
       "2              NaN  Balboa Stadium            False                 70.0   \n",
       "3              NaN     Orange Bowl            False                 82.0   \n",
       "4              NaN   Lambeau Field            False                 64.0   \n",
       "\n",
       "   weather_wind_mph weather_humidity  \n",
       "0               6.0               71  \n",
       "1               7.0               70  \n",
       "2               7.0               82  \n",
       "3              11.0               78  \n",
       "4               8.0               62  "
      ]
     },
     "execution_count": 14,
     "metadata": {},
     "output_type": "execute_result"
    }
   ],
   "source": [
    "nflGamesCleaned.head()"
   ]
  },
  {
   "cell_type": "code",
   "execution_count": 15,
   "metadata": {},
   "outputs": [],
   "source": [
    "nflGamesCleaned = nflGamesCleaned.dropna(axis=0,subset=['weather_temperature'])"
   ]
  },
  {
   "cell_type": "code",
   "execution_count": 16,
   "metadata": {
    "scrolled": true
   },
   "outputs": [
    {
     "data": {
      "text/html": [
       "<div>\n",
       "<style scoped>\n",
       "    .dataframe tbody tr th:only-of-type {\n",
       "        vertical-align: middle;\n",
       "    }\n",
       "\n",
       "    .dataframe tbody tr th {\n",
       "        vertical-align: top;\n",
       "    }\n",
       "\n",
       "    .dataframe thead th {\n",
       "        text-align: right;\n",
       "    }\n",
       "</style>\n",
       "<table border=\"1\" class=\"dataframe\">\n",
       "  <thead>\n",
       "    <tr style=\"text-align: right;\">\n",
       "      <th></th>\n",
       "      <th>schedule_date</th>\n",
       "      <th>schedule_season</th>\n",
       "      <th>schedule_week</th>\n",
       "      <th>schedule_playoff</th>\n",
       "      <th>team_home</th>\n",
       "      <th>score_home</th>\n",
       "      <th>score_away</th>\n",
       "      <th>team_away</th>\n",
       "      <th>team_favorite_id</th>\n",
       "      <th>stadium</th>\n",
       "      <th>stadium_neutral</th>\n",
       "      <th>weather_temperature</th>\n",
       "      <th>weather_wind_mph</th>\n",
       "      <th>weather_humidity</th>\n",
       "    </tr>\n",
       "  </thead>\n",
       "  <tbody>\n",
       "    <tr>\n",
       "      <td>0</td>\n",
       "      <td>09/02/1966</td>\n",
       "      <td>1966</td>\n",
       "      <td>1</td>\n",
       "      <td>False</td>\n",
       "      <td>Miami Dolphins</td>\n",
       "      <td>14.0</td>\n",
       "      <td>23.0</td>\n",
       "      <td>Oakland Raiders</td>\n",
       "      <td>NaN</td>\n",
       "      <td>Orange Bowl</td>\n",
       "      <td>False</td>\n",
       "      <td>83.0</td>\n",
       "      <td>6.0</td>\n",
       "      <td>71</td>\n",
       "    </tr>\n",
       "    <tr>\n",
       "      <td>1</td>\n",
       "      <td>09/03/1966</td>\n",
       "      <td>1966</td>\n",
       "      <td>1</td>\n",
       "      <td>False</td>\n",
       "      <td>Houston Oilers</td>\n",
       "      <td>45.0</td>\n",
       "      <td>7.0</td>\n",
       "      <td>Denver Broncos</td>\n",
       "      <td>NaN</td>\n",
       "      <td>Rice Stadium</td>\n",
       "      <td>False</td>\n",
       "      <td>81.0</td>\n",
       "      <td>7.0</td>\n",
       "      <td>70</td>\n",
       "    </tr>\n",
       "    <tr>\n",
       "      <td>2</td>\n",
       "      <td>09/04/1966</td>\n",
       "      <td>1966</td>\n",
       "      <td>1</td>\n",
       "      <td>False</td>\n",
       "      <td>San Diego Chargers</td>\n",
       "      <td>27.0</td>\n",
       "      <td>7.0</td>\n",
       "      <td>Buffalo Bills</td>\n",
       "      <td>NaN</td>\n",
       "      <td>Balboa Stadium</td>\n",
       "      <td>False</td>\n",
       "      <td>70.0</td>\n",
       "      <td>7.0</td>\n",
       "      <td>82</td>\n",
       "    </tr>\n",
       "    <tr>\n",
       "      <td>3</td>\n",
       "      <td>09/09/1966</td>\n",
       "      <td>1966</td>\n",
       "      <td>2</td>\n",
       "      <td>False</td>\n",
       "      <td>Miami Dolphins</td>\n",
       "      <td>14.0</td>\n",
       "      <td>19.0</td>\n",
       "      <td>New York Jets</td>\n",
       "      <td>NaN</td>\n",
       "      <td>Orange Bowl</td>\n",
       "      <td>False</td>\n",
       "      <td>82.0</td>\n",
       "      <td>11.0</td>\n",
       "      <td>78</td>\n",
       "    </tr>\n",
       "    <tr>\n",
       "      <td>4</td>\n",
       "      <td>09/10/1966</td>\n",
       "      <td>1966</td>\n",
       "      <td>1</td>\n",
       "      <td>False</td>\n",
       "      <td>Green Bay Packers</td>\n",
       "      <td>24.0</td>\n",
       "      <td>3.0</td>\n",
       "      <td>Baltimore Colts</td>\n",
       "      <td>NaN</td>\n",
       "      <td>Lambeau Field</td>\n",
       "      <td>False</td>\n",
       "      <td>64.0</td>\n",
       "      <td>8.0</td>\n",
       "      <td>62</td>\n",
       "    </tr>\n",
       "  </tbody>\n",
       "</table>\n",
       "</div>"
      ],
      "text/plain": [
       "  schedule_date  schedule_season schedule_week  schedule_playoff  \\\n",
       "0    09/02/1966             1966             1             False   \n",
       "1    09/03/1966             1966             1             False   \n",
       "2    09/04/1966             1966             1             False   \n",
       "3    09/09/1966             1966             2             False   \n",
       "4    09/10/1966             1966             1             False   \n",
       "\n",
       "            team_home  score_home  score_away        team_away  \\\n",
       "0      Miami Dolphins        14.0        23.0  Oakland Raiders   \n",
       "1      Houston Oilers        45.0         7.0   Denver Broncos   \n",
       "2  San Diego Chargers        27.0         7.0    Buffalo Bills   \n",
       "3      Miami Dolphins        14.0        19.0    New York Jets   \n",
       "4   Green Bay Packers        24.0         3.0  Baltimore Colts   \n",
       "\n",
       "  team_favorite_id         stadium  stadium_neutral  weather_temperature  \\\n",
       "0              NaN     Orange Bowl            False                 83.0   \n",
       "1              NaN    Rice Stadium            False                 81.0   \n",
       "2              NaN  Balboa Stadium            False                 70.0   \n",
       "3              NaN     Orange Bowl            False                 82.0   \n",
       "4              NaN   Lambeau Field            False                 64.0   \n",
       "\n",
       "   weather_wind_mph weather_humidity  \n",
       "0               6.0               71  \n",
       "1               7.0               70  \n",
       "2               7.0               82  \n",
       "3              11.0               78  \n",
       "4               8.0               62  "
      ]
     },
     "execution_count": 16,
     "metadata": {},
     "output_type": "execute_result"
    }
   ],
   "source": [
    "nflGamesCleaned.head()"
   ]
  },
  {
   "cell_type": "code",
   "execution_count": 17,
   "metadata": {},
   "outputs": [
    {
     "name": "stdout",
     "output_type": "stream",
     "text": [
      "<class 'pandas.core.frame.DataFrame'>\n",
      "Int64Index: 11934 entries, 0 to 12658\n",
      "Data columns (total 14 columns):\n",
      "schedule_date          11934 non-null object\n",
      "schedule_season        11934 non-null int64\n",
      "schedule_week          11934 non-null object\n",
      "schedule_playoff       11934 non-null bool\n",
      "team_home              11934 non-null object\n",
      "score_home             11878 non-null float64\n",
      "score_away             11878 non-null float64\n",
      "team_away              11934 non-null object\n",
      "team_favorite_id       9629 non-null object\n",
      "stadium                11934 non-null object\n",
      "stadium_neutral        11934 non-null bool\n",
      "weather_temperature    11934 non-null float64\n",
      "weather_wind_mph       11934 non-null float64\n",
      "weather_humidity       8388 non-null object\n",
      "dtypes: bool(2), float64(4), int64(1), object(7)\n",
      "memory usage: 1.2+ MB\n"
     ]
    }
   ],
   "source": [
    "nflGamesCleaned.info()"
   ]
  },
  {
   "cell_type": "code",
   "execution_count": 18,
   "metadata": {},
   "outputs": [],
   "source": [
    "nflGamesCleaned = nflGamesCleaned.dropna(axis=0,subset=['score_home'])"
   ]
  },
  {
   "cell_type": "code",
   "execution_count": 19,
   "metadata": {},
   "outputs": [
    {
     "name": "stdout",
     "output_type": "stream",
     "text": [
      "<class 'pandas.core.frame.DataFrame'>\n",
      "Int64Index: 11878 entries, 0 to 12410\n",
      "Data columns (total 14 columns):\n",
      "schedule_date          11878 non-null object\n",
      "schedule_season        11878 non-null int64\n",
      "schedule_week          11878 non-null object\n",
      "schedule_playoff       11878 non-null bool\n",
      "team_home              11878 non-null object\n",
      "score_home             11878 non-null float64\n",
      "score_away             11878 non-null float64\n",
      "team_away              11878 non-null object\n",
      "team_favorite_id       9629 non-null object\n",
      "stadium                11878 non-null object\n",
      "stadium_neutral        11878 non-null bool\n",
      "weather_temperature    11878 non-null float64\n",
      "weather_wind_mph       11878 non-null float64\n",
      "weather_humidity       8388 non-null object\n",
      "dtypes: bool(2), float64(4), int64(1), object(7)\n",
      "memory usage: 1.2+ MB\n"
     ]
    }
   ],
   "source": [
    "nflGamesCleaned.info()"
   ]
  },
  {
   "cell_type": "code",
   "execution_count": 20,
   "metadata": {},
   "outputs": [],
   "source": [
    "seasonGames = nflGamesCleaned['schedule_season'].value_counts().sort_index()"
   ]
  },
  {
   "cell_type": "code",
   "execution_count": 119,
   "metadata": {},
   "outputs": [
    {
     "data": {
      "text/plain": [
       "1966    130\n",
       "1967    122\n",
       "1968    123\n",
       "1969    123\n",
       "1970    189\n",
       "1971    189\n",
       "1972    189\n",
       "1973    189\n",
       "1974    189\n",
       "1975    189\n",
       "1976    203\n",
       "1977    203\n",
       "1978    233\n",
       "1979    225\n",
       "1980    225\n",
       "1981    225\n",
       "1982    127\n",
       "1983    225\n",
       "1984    225\n",
       "1985    225\n",
       "1986    224\n",
       "1987    170\n",
       "1988    225\n",
       "1989    226\n",
       "1990    224\n",
       "1991    228\n",
       "1992    226\n",
       "1993    227\n",
       "1994    225\n",
       "1995    240\n",
       "1996    241\n",
       "1997    240\n",
       "1998    243\n",
       "1999    254\n",
       "2000    250\n",
       "2001    251\n",
       "2002    256\n",
       "2003    259\n",
       "2004    258\n",
       "2005    258\n",
       "2006    259\n",
       "2007    258\n",
       "2008    259\n",
       "2009    262\n",
       "2010    258\n",
       "2011    258\n",
       "2012    259\n",
       "2013    257\n",
       "2014    267\n",
       "2015    267\n",
       "2016    267\n",
       "2017    267\n",
       "2018    267\n",
       "Name: schedule_season, dtype: int64"
      ]
     },
     "execution_count": 119,
     "metadata": {},
     "output_type": "execute_result"
    }
   ],
   "source": [
    "seasonGames"
   ]
  },
  {
   "cell_type": "code",
   "execution_count": 123,
   "metadata": {},
   "outputs": [
    {
     "data": {
      "text/plain": [
       "<matplotlib.axes._subplots.AxesSubplot at 0x1a22572b90>"
      ]
     },
     "execution_count": 123,
     "metadata": {},
     "output_type": "execute_result"
    },
    {
     "data": {
      "image/png": "[encoded data removed]",
      "text/plain": [
       "<Figure size 432x288 with 1 Axes>"
      ]
     },
     "metadata": {
      "needs_background": "light"
     },
     "output_type": "display_data"
    }
   ],
   "source": [
    "seasonGames.plot.bar()"
   ]
  },
  {
   "cell_type": "markdown",
   "metadata": {},
   "source": [
    "NFL data that will be used is from the 1996 season to 2018. There was 2019 data in the dataset but it did not include the necessary information needed for the analysis. There still is enough data from the pervious seasons to proceed."
   ]
  },
  {
   "cell_type": "code",
   "execution_count": 122,
   "metadata": {},
   "outputs": [],
   "source": [
    "stadiumTypes = nflStadiumsCleaned['stadium_type'].value_counts()"
   ]
  },
  {
   "cell_type": "code",
   "execution_count": 125,
   "metadata": {},
   "outputs": [
    {
     "data": {
      "text/plain": [
       "<matplotlib.axes._subplots.AxesSubplot at 0x1a2257b8d0>"
      ]
     },
     "execution_count": 125,
     "metadata": {},
     "output_type": "execute_result"
    },
    {
     "data": {
      "image/png": "[encoded data removed]",
      "text/plain": [
       "<Figure size 432x288 with 1 Axes>"
      ]
     },
     "metadata": {
      "needs_background": "light"
     },
     "output_type": "display_data"
    }
   ],
   "source": [
    "stadiumTypes.plot.bar()"
   ]
  },
  {
   "cell_type": "markdown",
   "metadata": {},
   "source": [
    "A majority of NFL stadiums are outdoors, meaning there is no roof covering to pervent outside weather conditions from effecting the game. This will be helpful for the analysis since I will be testing how much weather effects the outcome of games. Retractable games will be ignored since the dataset does not include clarification if the roof was closed or open during the game. Including it may skew the results. Indoor games will be used as a control since weatehr conditions do not effect the outcome."
   ]
  },
  {
   "cell_type": "code",
   "execution_count": 25,
   "metadata": {},
   "outputs": [],
   "source": [
    "stadiumWeatherTypes = nflStadiumsCleaned['stadium_weather_type'].value_counts()"
   ]
  },
  {
   "cell_type": "code",
   "execution_count": 26,
   "metadata": {},
   "outputs": [
    {
     "data": {
      "text/plain": [
       "<matplotlib.axes._subplots.AxesSubplot at 0x1a20915310>"
      ]
     },
     "execution_count": 26,
     "metadata": {},
     "output_type": "execute_result"
    },
    {
     "data": {
      "image/png": "[encoded data removed]",
      "text/plain": [
       "<Figure size 432x288 with 1 Axes>"
      ]
     },
     "metadata": {
      "needs_background": "light"
     },
     "output_type": "display_data"
    }
   ],
   "source": [
    "stadiumWeatherTypes.plot.bar()"
   ]
  },
  {
   "cell_type": "code",
   "execution_count": 27,
   "metadata": {},
   "outputs": [],
   "source": [
    "stadiumSurface = nflStadiumsCleaned['stadium_surface'].value_counts()"
   ]
  },
  {
   "cell_type": "code",
   "execution_count": 28,
   "metadata": {},
   "outputs": [
    {
     "data": {
      "text/plain": [
       "<matplotlib.axes._subplots.AxesSubplot at 0x1a20ab0510>"
      ]
     },
     "execution_count": 28,
     "metadata": {},
     "output_type": "execute_result"
    },
    {
     "data": {
      "image/png": "[encoded data removed]",
      "text/plain": [
       "<Figure size 432x288 with 1 Axes>"
      ]
     },
     "metadata": {
      "needs_background": "light"
     },
     "output_type": "display_data"
    }
   ],
   "source": [
    "stadiumSurface.plot.bar()"
   ]
  },
  {
   "cell_type": "code",
   "execution_count": 126,
   "metadata": {},
   "outputs": [
    {
     "data": {
      "text/plain": [
       "stadium_type  stadium_surface        \n",
       "indoor        FieldTurf                   6\n",
       "outdoor       Grass                      31\n",
       "              FieldTurf                   7\n",
       "              Grass, Turf (1969-1970)     1\n",
       "              Grass, Turf (1970-1971)     1\n",
       "              Grass, Turf (1971-1974)     1\n",
       "retractable   FieldTurf                   3\n",
       "              Grass                       3\n",
       "Name: stadium_surface, dtype: int64"
      ]
     },
     "execution_count": 126,
     "metadata": {},
     "output_type": "execute_result"
    }
   ],
   "source": [
    "nflStadiumsCleaned.groupby('stadium_type')['stadium_surface'].value_counts()"
   ]
  },
  {
   "cell_type": "markdown",
   "metadata": {},
   "source": [
    "A majoity of stadiums have grass fields. This will be vital to the anaylsis since weather conditions like rain or snow may effect the field conditions which in turn may change the outcome. The stadium type along with field surface will be tested on their effects on the game."
   ]
  },
  {
   "cell_type": "code",
   "execution_count": 30,
   "metadata": {},
   "outputs": [],
   "source": [
    "gamesStadiums = pd.merge(nflGamesCleaned,nflStadiumsCleaned,how='left',left_on='stadium',right_on='stadium_name')"
   ]
  },
  {
   "cell_type": "code",
   "execution_count": 31,
   "metadata": {},
   "outputs": [],
   "source": [
    "nullStadiums = gamesStadiums[pd.isnull(gamesStadiums['stadium_name'])]"
   ]
  },
  {
   "cell_type": "code",
   "execution_count": 32,
   "metadata": {},
   "outputs": [
    {
     "data": {
      "text/plain": [
       "FedEx Field              177\n",
       "Fenway Park               12\n",
       "Mercedes-Benz Stadium      9\n",
       "TIAA Bank Field            6\n",
       "Tottenham Stadium          1\n",
       "Name: stadium, dtype: int64"
      ]
     },
     "execution_count": 32,
     "metadata": {},
     "output_type": "execute_result"
    }
   ],
   "source": [
    "nullStadiums['stadium'].value_counts()"
   ]
  },
  {
   "cell_type": "code",
   "execution_count": 33,
   "metadata": {},
   "outputs": [],
   "source": [
    "gamesStadiums['scoreDiff'] = gamesStadiums['score_home'] - gamesStadiums['score_away']"
   ]
  },
  {
   "cell_type": "code",
   "execution_count": 77,
   "metadata": {},
   "outputs": [
    {
     "data": {
      "text/html": [
       "<div>\n",
       "<style scoped>\n",
       "    .dataframe tbody tr th:only-of-type {\n",
       "        vertical-align: middle;\n",
       "    }\n",
       "\n",
       "    .dataframe tbody tr th {\n",
       "        vertical-align: top;\n",
       "    }\n",
       "\n",
       "    .dataframe thead th {\n",
       "        text-align: right;\n",
       "    }\n",
       "</style>\n",
       "<table border=\"1\" class=\"dataframe\">\n",
       "  <thead>\n",
       "    <tr style=\"text-align: right;\">\n",
       "      <th></th>\n",
       "      <th>schedule_date</th>\n",
       "      <th>schedule_season</th>\n",
       "      <th>schedule_week</th>\n",
       "      <th>schedule_playoff</th>\n",
       "      <th>team_home</th>\n",
       "      <th>score_home</th>\n",
       "      <th>score_away</th>\n",
       "      <th>team_away</th>\n",
       "      <th>team_favorite_id</th>\n",
       "      <th>stadium</th>\n",
       "      <th>...</th>\n",
       "      <th>stadium_name</th>\n",
       "      <th>stadium_location</th>\n",
       "      <th>stadium_type</th>\n",
       "      <th>stadium_weather_type</th>\n",
       "      <th>stadium_surface</th>\n",
       "      <th>ELEVATION</th>\n",
       "      <th>scoreDiff</th>\n",
       "      <th>homeWin</th>\n",
       "      <th>AwayWin</th>\n",
       "      <th>weather_temperatureRounded</th>\n",
       "    </tr>\n",
       "  </thead>\n",
       "  <tbody>\n",
       "    <tr>\n",
       "      <td>0</td>\n",
       "      <td>09/02/1966</td>\n",
       "      <td>1960</td>\n",
       "      <td>1</td>\n",
       "      <td>False</td>\n",
       "      <td>Miami Dolphins</td>\n",
       "      <td>14.0</td>\n",
       "      <td>23.0</td>\n",
       "      <td>Oakland Raiders</td>\n",
       "      <td>NaN</td>\n",
       "      <td>Orange Bowl</td>\n",
       "      <td>...</td>\n",
       "      <td>Orange Bowl</td>\n",
       "      <td>Miami, FL</td>\n",
       "      <td>outdoor</td>\n",
       "      <td>warm</td>\n",
       "      <td>NaN</td>\n",
       "      <td>8.8</td>\n",
       "      <td>-9.0</td>\n",
       "      <td>0</td>\n",
       "      <td>1</td>\n",
       "      <td>80.0</td>\n",
       "    </tr>\n",
       "    <tr>\n",
       "      <td>1</td>\n",
       "      <td>09/03/1966</td>\n",
       "      <td>1960</td>\n",
       "      <td>1</td>\n",
       "      <td>False</td>\n",
       "      <td>Houston Oilers</td>\n",
       "      <td>45.0</td>\n",
       "      <td>7.0</td>\n",
       "      <td>Denver Broncos</td>\n",
       "      <td>NaN</td>\n",
       "      <td>Rice Stadium</td>\n",
       "      <td>...</td>\n",
       "      <td>Rice Stadium</td>\n",
       "      <td>Houston, TX</td>\n",
       "      <td>outdoor</td>\n",
       "      <td>warm</td>\n",
       "      <td>Grass</td>\n",
       "      <td>NaN</td>\n",
       "      <td>38.0</td>\n",
       "      <td>1</td>\n",
       "      <td>0</td>\n",
       "      <td>80.0</td>\n",
       "    </tr>\n",
       "    <tr>\n",
       "      <td>2</td>\n",
       "      <td>09/04/1966</td>\n",
       "      <td>1960</td>\n",
       "      <td>1</td>\n",
       "      <td>False</td>\n",
       "      <td>San Diego Chargers</td>\n",
       "      <td>27.0</td>\n",
       "      <td>7.0</td>\n",
       "      <td>Buffalo Bills</td>\n",
       "      <td>NaN</td>\n",
       "      <td>Balboa Stadium</td>\n",
       "      <td>...</td>\n",
       "      <td>Balboa Stadium</td>\n",
       "      <td>San Diego, CA</td>\n",
       "      <td>outdoor</td>\n",
       "      <td>warm</td>\n",
       "      <td>Grass</td>\n",
       "      <td>NaN</td>\n",
       "      <td>20.0</td>\n",
       "      <td>1</td>\n",
       "      <td>0</td>\n",
       "      <td>70.0</td>\n",
       "    </tr>\n",
       "    <tr>\n",
       "      <td>3</td>\n",
       "      <td>09/09/1966</td>\n",
       "      <td>1960</td>\n",
       "      <td>2</td>\n",
       "      <td>False</td>\n",
       "      <td>Miami Dolphins</td>\n",
       "      <td>14.0</td>\n",
       "      <td>19.0</td>\n",
       "      <td>New York Jets</td>\n",
       "      <td>NaN</td>\n",
       "      <td>Orange Bowl</td>\n",
       "      <td>...</td>\n",
       "      <td>Orange Bowl</td>\n",
       "      <td>Miami, FL</td>\n",
       "      <td>outdoor</td>\n",
       "      <td>warm</td>\n",
       "      <td>NaN</td>\n",
       "      <td>8.8</td>\n",
       "      <td>-5.0</td>\n",
       "      <td>0</td>\n",
       "      <td>1</td>\n",
       "      <td>80.0</td>\n",
       "    </tr>\n",
       "    <tr>\n",
       "      <td>4</td>\n",
       "      <td>09/10/1966</td>\n",
       "      <td>1960</td>\n",
       "      <td>1</td>\n",
       "      <td>False</td>\n",
       "      <td>Green Bay Packers</td>\n",
       "      <td>24.0</td>\n",
       "      <td>3.0</td>\n",
       "      <td>Baltimore Colts</td>\n",
       "      <td>NaN</td>\n",
       "      <td>Lambeau Field</td>\n",
       "      <td>...</td>\n",
       "      <td>Lambeau Field</td>\n",
       "      <td>Green Bay, WI</td>\n",
       "      <td>outdoor</td>\n",
       "      <td>cold</td>\n",
       "      <td>Grass</td>\n",
       "      <td>209.4</td>\n",
       "      <td>21.0</td>\n",
       "      <td>1</td>\n",
       "      <td>0</td>\n",
       "      <td>60.0</td>\n",
       "    </tr>\n",
       "  </tbody>\n",
       "</table>\n",
       "<p>5 rows × 24 columns</p>\n",
       "</div>"
      ],
      "text/plain": [
       "  schedule_date  schedule_season schedule_week  schedule_playoff  \\\n",
       "0    09/02/1966             1960             1             False   \n",
       "1    09/03/1966             1960             1             False   \n",
       "2    09/04/1966             1960             1             False   \n",
       "3    09/09/1966             1960             2             False   \n",
       "4    09/10/1966             1960             1             False   \n",
       "\n",
       "            team_home  score_home  score_away        team_away  \\\n",
       "0      Miami Dolphins        14.0        23.0  Oakland Raiders   \n",
       "1      Houston Oilers        45.0         7.0   Denver Broncos   \n",
       "2  San Diego Chargers        27.0         7.0    Buffalo Bills   \n",
       "3      Miami Dolphins        14.0        19.0    New York Jets   \n",
       "4   Green Bay Packers        24.0         3.0  Baltimore Colts   \n",
       "\n",
       "  team_favorite_id         stadium  ...    stadium_name  stadium_location  \\\n",
       "0              NaN     Orange Bowl  ...     Orange Bowl         Miami, FL   \n",
       "1              NaN    Rice Stadium  ...    Rice Stadium       Houston, TX   \n",
       "2              NaN  Balboa Stadium  ...  Balboa Stadium     San Diego, CA   \n",
       "3              NaN     Orange Bowl  ...     Orange Bowl         Miami, FL   \n",
       "4              NaN   Lambeau Field  ...   Lambeau Field     Green Bay, WI   \n",
       "\n",
       "   stadium_type stadium_weather_type stadium_surface ELEVATION scoreDiff  \\\n",
       "0       outdoor                 warm             NaN       8.8      -9.0   \n",
       "1       outdoor                 warm           Grass       NaN      38.0   \n",
       "2       outdoor                 warm           Grass       NaN      20.0   \n",
       "3       outdoor                 warm             NaN       8.8      -5.0   \n",
       "4       outdoor                 cold           Grass     209.4      21.0   \n",
       "\n",
       "  homeWin AwayWin  weather_temperatureRounded  \n",
       "0       0       1                        80.0  \n",
       "1       1       0                        80.0  \n",
       "2       1       0                        70.0  \n",
       "3       0       1                        80.0  \n",
       "4       1       0                        60.0  \n",
       "\n",
       "[5 rows x 24 columns]"
      ]
     },
     "execution_count": 77,
     "metadata": {},
     "output_type": "execute_result"
    }
   ],
   "source": [
    "gamesStadiums.head()"
   ]
  },
  {
   "cell_type": "code",
   "execution_count": 35,
   "metadata": {},
   "outputs": [],
   "source": [
    "gamesStadiums['homeWin'] = gamesStadiums['scoreDiff'].apply(lambda x: 1 if x > 0 else 0)"
   ]
  },
  {
   "cell_type": "code",
   "execution_count": 36,
   "metadata": {},
   "outputs": [],
   "source": [
    "gamesStadiums['AwayWin'] = gamesStadiums['scoreDiff'].apply(lambda x: 1 if x < 0 else 0)"
   ]
  },
  {
   "cell_type": "code",
   "execution_count": 37,
   "metadata": {},
   "outputs": [],
   "source": [
    "gamesStadiums['weather_temperatureRounded'] = gamesStadiums['weather_temperature'] // 10 * 10"
   ]
  },
  {
   "cell_type": "code",
   "execution_count": 95,
   "metadata": {},
   "outputs": [],
   "source": [
    "gamesStadiums['schedule_season'] = gamesStadiums['schedule_season'] // 10 * 10"
   ]
  },
  {
   "cell_type": "code",
   "execution_count": 96,
   "metadata": {},
   "outputs": [],
   "source": [
    "gamesStadiums['games'] = 1"
   ]
  },
  {
   "cell_type": "code",
   "execution_count": 97,
   "metadata": {},
   "outputs": [
    {
     "data": {
      "text/html": [
       "<div>\n",
       "<style scoped>\n",
       "    .dataframe tbody tr th:only-of-type {\n",
       "        vertical-align: middle;\n",
       "    }\n",
       "\n",
       "    .dataframe tbody tr th {\n",
       "        vertical-align: top;\n",
       "    }\n",
       "\n",
       "    .dataframe thead th {\n",
       "        text-align: right;\n",
       "    }\n",
       "</style>\n",
       "<table border=\"1\" class=\"dataframe\">\n",
       "  <thead>\n",
       "    <tr style=\"text-align: right;\">\n",
       "      <th></th>\n",
       "      <th>schedule_date</th>\n",
       "      <th>schedule_season</th>\n",
       "      <th>schedule_week</th>\n",
       "      <th>schedule_playoff</th>\n",
       "      <th>team_home</th>\n",
       "      <th>score_home</th>\n",
       "      <th>score_away</th>\n",
       "      <th>team_away</th>\n",
       "      <th>team_favorite_id</th>\n",
       "      <th>stadium</th>\n",
       "      <th>...</th>\n",
       "      <th>stadium_location</th>\n",
       "      <th>stadium_type</th>\n",
       "      <th>stadium_weather_type</th>\n",
       "      <th>stadium_surface</th>\n",
       "      <th>ELEVATION</th>\n",
       "      <th>scoreDiff</th>\n",
       "      <th>homeWin</th>\n",
       "      <th>AwayWin</th>\n",
       "      <th>weather_temperatureRounded</th>\n",
       "      <th>games</th>\n",
       "    </tr>\n",
       "  </thead>\n",
       "  <tbody>\n",
       "    <tr>\n",
       "      <td>0</td>\n",
       "      <td>09/02/1966</td>\n",
       "      <td>1960</td>\n",
       "      <td>1</td>\n",
       "      <td>False</td>\n",
       "      <td>Miami Dolphins</td>\n",
       "      <td>14.0</td>\n",
       "      <td>23.0</td>\n",
       "      <td>Oakland Raiders</td>\n",
       "      <td>NaN</td>\n",
       "      <td>Orange Bowl</td>\n",
       "      <td>...</td>\n",
       "      <td>Miami, FL</td>\n",
       "      <td>outdoor</td>\n",
       "      <td>warm</td>\n",
       "      <td>NaN</td>\n",
       "      <td>8.8</td>\n",
       "      <td>-9.0</td>\n",
       "      <td>0</td>\n",
       "      <td>1</td>\n",
       "      <td>80.0</td>\n",
       "      <td>1</td>\n",
       "    </tr>\n",
       "    <tr>\n",
       "      <td>1</td>\n",
       "      <td>09/03/1966</td>\n",
       "      <td>1960</td>\n",
       "      <td>1</td>\n",
       "      <td>False</td>\n",
       "      <td>Houston Oilers</td>\n",
       "      <td>45.0</td>\n",
       "      <td>7.0</td>\n",
       "      <td>Denver Broncos</td>\n",
       "      <td>NaN</td>\n",
       "      <td>Rice Stadium</td>\n",
       "      <td>...</td>\n",
       "      <td>Houston, TX</td>\n",
       "      <td>outdoor</td>\n",
       "      <td>warm</td>\n",
       "      <td>Grass</td>\n",
       "      <td>NaN</td>\n",
       "      <td>38.0</td>\n",
       "      <td>1</td>\n",
       "      <td>0</td>\n",
       "      <td>80.0</td>\n",
       "      <td>1</td>\n",
       "    </tr>\n",
       "    <tr>\n",
       "      <td>2</td>\n",
       "      <td>09/04/1966</td>\n",
       "      <td>1960</td>\n",
       "      <td>1</td>\n",
       "      <td>False</td>\n",
       "      <td>San Diego Chargers</td>\n",
       "      <td>27.0</td>\n",
       "      <td>7.0</td>\n",
       "      <td>Buffalo Bills</td>\n",
       "      <td>NaN</td>\n",
       "      <td>Balboa Stadium</td>\n",
       "      <td>...</td>\n",
       "      <td>San Diego, CA</td>\n",
       "      <td>outdoor</td>\n",
       "      <td>warm</td>\n",
       "      <td>Grass</td>\n",
       "      <td>NaN</td>\n",
       "      <td>20.0</td>\n",
       "      <td>1</td>\n",
       "      <td>0</td>\n",
       "      <td>70.0</td>\n",
       "      <td>1</td>\n",
       "    </tr>\n",
       "    <tr>\n",
       "      <td>3</td>\n",
       "      <td>09/09/1966</td>\n",
       "      <td>1960</td>\n",
       "      <td>2</td>\n",
       "      <td>False</td>\n",
       "      <td>Miami Dolphins</td>\n",
       "      <td>14.0</td>\n",
       "      <td>19.0</td>\n",
       "      <td>New York Jets</td>\n",
       "      <td>NaN</td>\n",
       "      <td>Orange Bowl</td>\n",
       "      <td>...</td>\n",
       "      <td>Miami, FL</td>\n",
       "      <td>outdoor</td>\n",
       "      <td>warm</td>\n",
       "      <td>NaN</td>\n",
       "      <td>8.8</td>\n",
       "      <td>-5.0</td>\n",
       "      <td>0</td>\n",
       "      <td>1</td>\n",
       "      <td>80.0</td>\n",
       "      <td>1</td>\n",
       "    </tr>\n",
       "    <tr>\n",
       "      <td>4</td>\n",
       "      <td>09/10/1966</td>\n",
       "      <td>1960</td>\n",
       "      <td>1</td>\n",
       "      <td>False</td>\n",
       "      <td>Green Bay Packers</td>\n",
       "      <td>24.0</td>\n",
       "      <td>3.0</td>\n",
       "      <td>Baltimore Colts</td>\n",
       "      <td>NaN</td>\n",
       "      <td>Lambeau Field</td>\n",
       "      <td>...</td>\n",
       "      <td>Green Bay, WI</td>\n",
       "      <td>outdoor</td>\n",
       "      <td>cold</td>\n",
       "      <td>Grass</td>\n",
       "      <td>209.4</td>\n",
       "      <td>21.0</td>\n",
       "      <td>1</td>\n",
       "      <td>0</td>\n",
       "      <td>60.0</td>\n",
       "      <td>1</td>\n",
       "    </tr>\n",
       "  </tbody>\n",
       "</table>\n",
       "<p>5 rows × 25 columns</p>\n",
       "</div>"
      ],
      "text/plain": [
       "  schedule_date  schedule_season schedule_week  schedule_playoff  \\\n",
       "0    09/02/1966             1960             1             False   \n",
       "1    09/03/1966             1960             1             False   \n",
       "2    09/04/1966             1960             1             False   \n",
       "3    09/09/1966             1960             2             False   \n",
       "4    09/10/1966             1960             1             False   \n",
       "\n",
       "            team_home  score_home  score_away        team_away  \\\n",
       "0      Miami Dolphins        14.0        23.0  Oakland Raiders   \n",
       "1      Houston Oilers        45.0         7.0   Denver Broncos   \n",
       "2  San Diego Chargers        27.0         7.0    Buffalo Bills   \n",
       "3      Miami Dolphins        14.0        19.0    New York Jets   \n",
       "4   Green Bay Packers        24.0         3.0  Baltimore Colts   \n",
       "\n",
       "  team_favorite_id         stadium  ...  stadium_location  stadium_type  \\\n",
       "0              NaN     Orange Bowl  ...         Miami, FL       outdoor   \n",
       "1              NaN    Rice Stadium  ...       Houston, TX       outdoor   \n",
       "2              NaN  Balboa Stadium  ...     San Diego, CA       outdoor   \n",
       "3              NaN     Orange Bowl  ...         Miami, FL       outdoor   \n",
       "4              NaN   Lambeau Field  ...     Green Bay, WI       outdoor   \n",
       "\n",
       "   stadium_weather_type stadium_surface ELEVATION scoreDiff homeWin AwayWin  \\\n",
       "0                  warm             NaN       8.8      -9.0       0       1   \n",
       "1                  warm           Grass       NaN      38.0       1       0   \n",
       "2                  warm           Grass       NaN      20.0       1       0   \n",
       "3                  warm             NaN       8.8      -5.0       0       1   \n",
       "4                  cold           Grass     209.4      21.0       1       0   \n",
       "\n",
       "  weather_temperatureRounded  games  \n",
       "0                       80.0      1  \n",
       "1                       80.0      1  \n",
       "2                       70.0      1  \n",
       "3                       80.0      1  \n",
       "4                       60.0      1  \n",
       "\n",
       "[5 rows x 25 columns]"
      ]
     },
     "execution_count": 97,
     "metadata": {},
     "output_type": "execute_result"
    }
   ],
   "source": [
    "gamesStadiums.head()"
   ]
  },
  {
   "cell_type": "code",
   "execution_count": 132,
   "metadata": {},
   "outputs": [
    {
     "data": {
      "text/html": [
       "<div>\n",
       "<style scoped>\n",
       "    .dataframe tbody tr th:only-of-type {\n",
       "        vertical-align: middle;\n",
       "    }\n",
       "\n",
       "    .dataframe tbody tr th {\n",
       "        vertical-align: top;\n",
       "    }\n",
       "\n",
       "    .dataframe thead tr th {\n",
       "        text-align: left;\n",
       "    }\n",
       "\n",
       "    .dataframe thead tr:last-of-type th {\n",
       "        text-align: right;\n",
       "    }\n",
       "</style>\n",
       "<table border=\"1\" class=\"dataframe\">\n",
       "  <thead>\n",
       "    <tr>\n",
       "      <th></th>\n",
       "      <th colspan=\"8\" halign=\"left\">weather_temperature</th>\n",
       "    </tr>\n",
       "    <tr>\n",
       "      <th></th>\n",
       "      <th>count</th>\n",
       "      <th>mean</th>\n",
       "      <th>std</th>\n",
       "      <th>min</th>\n",
       "      <th>25%</th>\n",
       "      <th>50%</th>\n",
       "      <th>75%</th>\n",
       "      <th>max</th>\n",
       "    </tr>\n",
       "    <tr>\n",
       "      <th>stadium_type</th>\n",
       "      <th></th>\n",
       "      <th></th>\n",
       "      <th></th>\n",
       "      <th></th>\n",
       "      <th></th>\n",
       "      <th></th>\n",
       "      <th></th>\n",
       "      <th></th>\n",
       "    </tr>\n",
       "  </thead>\n",
       "  <tbody>\n",
       "    <tr>\n",
       "      <td>indoor</td>\n",
       "      <td>1986.0</td>\n",
       "      <td>72.000000</td>\n",
       "      <td>0.000000</td>\n",
       "      <td>72.0</td>\n",
       "      <td>72.0</td>\n",
       "      <td>72.0</td>\n",
       "      <td>72.0</td>\n",
       "      <td>72.0</td>\n",
       "    </tr>\n",
       "    <tr>\n",
       "      <td>outdoor</td>\n",
       "      <td>9164.0</td>\n",
       "      <td>54.985596</td>\n",
       "      <td>15.633036</td>\n",
       "      <td>-6.0</td>\n",
       "      <td>44.0</td>\n",
       "      <td>56.0</td>\n",
       "      <td>66.0</td>\n",
       "      <td>97.0</td>\n",
       "    </tr>\n",
       "    <tr>\n",
       "      <td>retractable</td>\n",
       "      <td>523.0</td>\n",
       "      <td>71.053537</td>\n",
       "      <td>7.861164</td>\n",
       "      <td>26.0</td>\n",
       "      <td>72.0</td>\n",
       "      <td>72.0</td>\n",
       "      <td>72.0</td>\n",
       "      <td>92.0</td>\n",
       "    </tr>\n",
       "  </tbody>\n",
       "</table>\n",
       "</div>"
      ],
      "text/plain": [
       "             weather_temperature                                          \\\n",
       "                           count       mean        std   min   25%   50%   \n",
       "stadium_type                                                               \n",
       "indoor                    1986.0  72.000000   0.000000  72.0  72.0  72.0   \n",
       "outdoor                   9164.0  54.985596  15.633036  -6.0  44.0  56.0   \n",
       "retractable                523.0  71.053537   7.861164  26.0  72.0  72.0   \n",
       "\n",
       "                          \n",
       "               75%   max  \n",
       "stadium_type              \n",
       "indoor        72.0  72.0  \n",
       "outdoor       66.0  97.0  \n",
       "retractable   72.0  92.0  "
      ]
     },
     "execution_count": 132,
     "metadata": {},
     "output_type": "execute_result"
    }
   ],
   "source": [
    "gamesStadiums[['stadium_type','weather_temperature']].groupby(['stadium_type']).describe()"
   ]
  },
  {
   "cell_type": "markdown",
   "metadata": {},
   "source": [
    "The average temperature for indoor and retractable games is around 71-72 degrees. This makes sense because the temeperature is controlled within the stadiums. Even the max and min are the same 72 degrees for indoor stadiums because of the temperature control. Retractable stadiums however have a min of 26 and max of 92 degrees, these must be when the roof was opened. Outdoor stadiums have an average temperature of 55 degrees, with a min of -6 and a max of 97 degrees. This shows a wide range of temperatures which will help in the analysis to see how much the cold and heat effects the outcome. A question being does cold temperatures aid teams that play in the cold and hot temperatures aid teams that usually play in warmer climates? This will be a major test for this analysis. "
   ]
  },
  {
   "cell_type": "code",
   "execution_count": 133,
   "metadata": {},
   "outputs": [
    {
     "data": {
      "text/html": [
       "<div>\n",
       "<style scoped>\n",
       "    .dataframe tbody tr th:only-of-type {\n",
       "        vertical-align: middle;\n",
       "    }\n",
       "\n",
       "    .dataframe tbody tr th {\n",
       "        vertical-align: top;\n",
       "    }\n",
       "\n",
       "    .dataframe thead th {\n",
       "        text-align: right;\n",
       "    }\n",
       "</style>\n",
       "<table border=\"1\" class=\"dataframe\">\n",
       "  <thead>\n",
       "    <tr style=\"text-align: right;\">\n",
       "      <th></th>\n",
       "      <th></th>\n",
       "      <th>games</th>\n",
       "    </tr>\n",
       "    <tr>\n",
       "      <th>schedule_season</th>\n",
       "      <th>stadium_type</th>\n",
       "      <th></th>\n",
       "    </tr>\n",
       "  </thead>\n",
       "  <tbody>\n",
       "    <tr>\n",
       "      <td rowspan=\"2\" valign=\"top\">1960</td>\n",
       "      <td>indoor</td>\n",
       "      <td>14</td>\n",
       "    </tr>\n",
       "    <tr>\n",
       "      <td>outdoor</td>\n",
       "      <td>472</td>\n",
       "    </tr>\n",
       "    <tr>\n",
       "      <td rowspan=\"2\" valign=\"top\">1970</td>\n",
       "      <td>indoor</td>\n",
       "      <td>178</td>\n",
       "    </tr>\n",
       "    <tr>\n",
       "      <td>outdoor</td>\n",
       "      <td>1820</td>\n",
       "    </tr>\n",
       "    <tr>\n",
       "      <td rowspan=\"2\" valign=\"top\">1980</td>\n",
       "      <td>indoor</td>\n",
       "      <td>417</td>\n",
       "    </tr>\n",
       "    <tr>\n",
       "      <td>outdoor</td>\n",
       "      <td>1680</td>\n",
       "    </tr>\n",
       "    <tr>\n",
       "      <td rowspan=\"3\" valign=\"top\">1990</td>\n",
       "      <td>indoor</td>\n",
       "      <td>573</td>\n",
       "    </tr>\n",
       "    <tr>\n",
       "      <td>outdoor</td>\n",
       "      <td>1703</td>\n",
       "    </tr>\n",
       "    <tr>\n",
       "      <td>retractable</td>\n",
       "      <td>48</td>\n",
       "    </tr>\n",
       "    <tr>\n",
       "      <td rowspan=\"3\" valign=\"top\">2000</td>\n",
       "      <td>indoor</td>\n",
       "      <td>479</td>\n",
       "    </tr>\n",
       "    <tr>\n",
       "      <td>outdoor</td>\n",
       "      <td>1837</td>\n",
       "    </tr>\n",
       "    <tr>\n",
       "      <td>retractable</td>\n",
       "      <td>174</td>\n",
       "    </tr>\n",
       "    <tr>\n",
       "      <td rowspan=\"3\" valign=\"top\">2010</td>\n",
       "      <td>indoor</td>\n",
       "      <td>325</td>\n",
       "    </tr>\n",
       "    <tr>\n",
       "      <td>outdoor</td>\n",
       "      <td>1652</td>\n",
       "    </tr>\n",
       "    <tr>\n",
       "      <td>retractable</td>\n",
       "      <td>301</td>\n",
       "    </tr>\n",
       "  </tbody>\n",
       "</table>\n",
       "</div>"
      ],
      "text/plain": [
       "                              games\n",
       "schedule_season stadium_type       \n",
       "1960            indoor           14\n",
       "                outdoor         472\n",
       "1970            indoor          178\n",
       "                outdoor        1820\n",
       "1980            indoor          417\n",
       "                outdoor        1680\n",
       "1990            indoor          573\n",
       "                outdoor        1703\n",
       "                retractable      48\n",
       "2000            indoor          479\n",
       "                outdoor        1837\n",
       "                retractable     174\n",
       "2010            indoor          325\n",
       "                outdoor        1652\n",
       "                retractable     301"
      ]
     },
     "execution_count": 133,
     "metadata": {},
     "output_type": "execute_result"
    }
   ],
   "source": [
    "gamesStadiums[['stadium_type','schedule_season','games']].groupby(['schedule_season','stadium_type']).count()"
   ]
  },
  {
   "cell_type": "code",
   "execution_count": 41,
   "metadata": {},
   "outputs": [
    {
     "data": {
      "text/plain": [
       " 70.0    3630\n",
       " 50.0    2262\n",
       " 60.0    2222\n",
       " 40.0    1627\n",
       " 30.0    1093\n",
       " 80.0     492\n",
       " 20.0     391\n",
       " 10.0     100\n",
       " 0.0       34\n",
       " 90.0      22\n",
       "-10.0       5\n",
       "Name: weather_temperatureRounded, dtype: int64"
      ]
     },
     "execution_count": 41,
     "metadata": {},
     "output_type": "execute_result"
    }
   ],
   "source": [
    "gamesStadiums['weather_temperatureRounded'].value_counts()"
   ]
  },
  {
   "cell_type": "code",
   "execution_count": 42,
   "metadata": {},
   "outputs": [],
   "source": [
    "gamesStadiumsPivot = gamesStadiums[['weather_temperatureRounded','stadium_type','scoreDiff']]"
   ]
  },
  {
   "cell_type": "code",
   "execution_count": 151,
   "metadata": {},
   "outputs": [
    {
     "data": {
      "text/html": [
       "<div>\n",
       "<style scoped>\n",
       "    .dataframe tbody tr th:only-of-type {\n",
       "        vertical-align: middle;\n",
       "    }\n",
       "\n",
       "    .dataframe tbody tr th {\n",
       "        vertical-align: top;\n",
       "    }\n",
       "\n",
       "    .dataframe thead th {\n",
       "        text-align: right;\n",
       "    }\n",
       "</style>\n",
       "<table border=\"1\" class=\"dataframe\">\n",
       "  <thead>\n",
       "    <tr style=\"text-align: right;\">\n",
       "      <th></th>\n",
       "      <th>weather_temperatureRounded</th>\n",
       "      <th>stadium_type</th>\n",
       "      <th>scoreDiff</th>\n",
       "    </tr>\n",
       "  </thead>\n",
       "  <tbody>\n",
       "    <tr>\n",
       "      <td>0</td>\n",
       "      <td>80.0</td>\n",
       "      <td>outdoor</td>\n",
       "      <td>-9.0</td>\n",
       "    </tr>\n",
       "    <tr>\n",
       "      <td>1</td>\n",
       "      <td>80.0</td>\n",
       "      <td>outdoor</td>\n",
       "      <td>38.0</td>\n",
       "    </tr>\n",
       "    <tr>\n",
       "      <td>2</td>\n",
       "      <td>70.0</td>\n",
       "      <td>outdoor</td>\n",
       "      <td>20.0</td>\n",
       "    </tr>\n",
       "    <tr>\n",
       "      <td>3</td>\n",
       "      <td>80.0</td>\n",
       "      <td>outdoor</td>\n",
       "      <td>-5.0</td>\n",
       "    </tr>\n",
       "    <tr>\n",
       "      <td>4</td>\n",
       "      <td>60.0</td>\n",
       "      <td>outdoor</td>\n",
       "      <td>21.0</td>\n",
       "    </tr>\n",
       "  </tbody>\n",
       "</table>\n",
       "</div>"
      ],
      "text/plain": [
       "   weather_temperatureRounded stadium_type  scoreDiff\n",
       "0                        80.0      outdoor       -9.0\n",
       "1                        80.0      outdoor       38.0\n",
       "2                        70.0      outdoor       20.0\n",
       "3                        80.0      outdoor       -5.0\n",
       "4                        60.0      outdoor       21.0"
      ]
     },
     "execution_count": 151,
     "metadata": {},
     "output_type": "execute_result"
    }
   ],
   "source": [
    "gamesStadiumsPivot.head()"
   ]
  },
  {
   "cell_type": "code",
   "execution_count": 148,
   "metadata": {},
   "outputs": [
    {
     "data": {
      "text/plain": [
       "[<matplotlib.lines.Line2D at 0x1a244af3d0>]"
      ]
     },
     "execution_count": 148,
     "metadata": {},
     "output_type": "execute_result"
    },
    {
     "data": {
      "image/png": "[encoded data removed]",
      "text/plain": [
       "<Figure size 432x288 with 1 Axes>"
      ]
     },
     "metadata": {
      "needs_background": "light"
     },
     "output_type": "display_data"
    }
   ],
   "source": [
    "sns.scatterplot(x='weather_temperatureRounded',y='scoreDiff',hue='stadium_type',style='stadium_type',data=gamesStadiumsPivot)\n",
    "plt.plot([100,-10],[0,0],'k-')"
   ]
  },
  {
   "cell_type": "markdown",
   "metadata": {},
   "source": [
    "I took the home team score and subtracted it by the away team score. This provide me with a score difference with positive numbers meaning the home team won and by how much, and negative numbers meaning the away team won and by how much. I also binned the weather temperatures by tens to help visually plot since there will be less categories to fill up the graph. \n",
    "\n",
    "When using a scatter plot to see the relationship between weather temperatures and score difference, it is too close to determine visually if there is any trend between the two. There seems to be an equal amount of positive score differences to negative score differences. Further anaylsis will need to be done to test. "
   ]
  },
  {
   "cell_type": "code",
   "execution_count": 45,
   "metadata": {},
   "outputs": [
    {
     "data": {
      "text/html": [
       "<div>\n",
       "<style scoped>\n",
       "    .dataframe tbody tr th:only-of-type {\n",
       "        vertical-align: middle;\n",
       "    }\n",
       "\n",
       "    .dataframe tbody tr th {\n",
       "        vertical-align: top;\n",
       "    }\n",
       "\n",
       "    .dataframe thead th {\n",
       "        text-align: right;\n",
       "    }\n",
       "</style>\n",
       "<table border=\"1\" class=\"dataframe\">\n",
       "  <thead>\n",
       "    <tr style=\"text-align: right;\">\n",
       "      <th></th>\n",
       "      <th></th>\n",
       "      <th>scoreDiff</th>\n",
       "    </tr>\n",
       "    <tr>\n",
       "      <th>weather_temperatureRounded</th>\n",
       "      <th>stadium_type</th>\n",
       "      <th></th>\n",
       "    </tr>\n",
       "  </thead>\n",
       "  <tbody>\n",
       "    <tr>\n",
       "      <td>-10.0</td>\n",
       "      <td>outdoor</td>\n",
       "      <td>8.000000</td>\n",
       "    </tr>\n",
       "    <tr>\n",
       "      <td>0.0</td>\n",
       "      <td>outdoor</td>\n",
       "      <td>6.470588</td>\n",
       "    </tr>\n",
       "    <tr>\n",
       "      <td>10.0</td>\n",
       "      <td>outdoor</td>\n",
       "      <td>4.620000</td>\n",
       "    </tr>\n",
       "    <tr>\n",
       "      <td rowspan=\"2\" valign=\"top\">20.0</td>\n",
       "      <td>outdoor</td>\n",
       "      <td>4.163212</td>\n",
       "    </tr>\n",
       "    <tr>\n",
       "      <td>retractable</td>\n",
       "      <td>6.000000</td>\n",
       "    </tr>\n",
       "    <tr>\n",
       "      <td rowspan=\"2\" valign=\"top\">30.0</td>\n",
       "      <td>outdoor</td>\n",
       "      <td>3.643721</td>\n",
       "    </tr>\n",
       "    <tr>\n",
       "      <td>retractable</td>\n",
       "      <td>1.000000</td>\n",
       "    </tr>\n",
       "    <tr>\n",
       "      <td rowspan=\"2\" valign=\"top\">40.0</td>\n",
       "      <td>outdoor</td>\n",
       "      <td>3.314413</td>\n",
       "    </tr>\n",
       "    <tr>\n",
       "      <td>retractable</td>\n",
       "      <td>5.000000</td>\n",
       "    </tr>\n",
       "    <tr>\n",
       "      <td rowspan=\"2\" valign=\"top\">50.0</td>\n",
       "      <td>outdoor</td>\n",
       "      <td>3.210188</td>\n",
       "    </tr>\n",
       "    <tr>\n",
       "      <td>retractable</td>\n",
       "      <td>-1.461538</td>\n",
       "    </tr>\n",
       "    <tr>\n",
       "      <td rowspan=\"2\" valign=\"top\">60.0</td>\n",
       "      <td>outdoor</td>\n",
       "      <td>2.785781</td>\n",
       "    </tr>\n",
       "    <tr>\n",
       "      <td>retractable</td>\n",
       "      <td>-0.214286</td>\n",
       "    </tr>\n",
       "    <tr>\n",
       "      <td rowspan=\"3\" valign=\"top\">70.0</td>\n",
       "      <td>indoor</td>\n",
       "      <td>1.984391</td>\n",
       "    </tr>\n",
       "    <tr>\n",
       "      <td>outdoor</td>\n",
       "      <td>2.413257</td>\n",
       "    </tr>\n",
       "    <tr>\n",
       "      <td>retractable</td>\n",
       "      <td>1.696104</td>\n",
       "    </tr>\n",
       "    <tr>\n",
       "      <td rowspan=\"2\" valign=\"top\">80.0</td>\n",
       "      <td>outdoor</td>\n",
       "      <td>2.378378</td>\n",
       "    </tr>\n",
       "    <tr>\n",
       "      <td>retractable</td>\n",
       "      <td>0.400000</td>\n",
       "    </tr>\n",
       "    <tr>\n",
       "      <td rowspan=\"2\" valign=\"top\">90.0</td>\n",
       "      <td>outdoor</td>\n",
       "      <td>-3.692308</td>\n",
       "    </tr>\n",
       "    <tr>\n",
       "      <td>retractable</td>\n",
       "      <td>-5.777778</td>\n",
       "    </tr>\n",
       "  </tbody>\n",
       "</table>\n",
       "</div>"
      ],
      "text/plain": [
       "                                         scoreDiff\n",
       "weather_temperatureRounded stadium_type           \n",
       "-10.0                      outdoor        8.000000\n",
       " 0.0                       outdoor        6.470588\n",
       " 10.0                      outdoor        4.620000\n",
       " 20.0                      outdoor        4.163212\n",
       "                           retractable    6.000000\n",
       " 30.0                      outdoor        3.643721\n",
       "                           retractable    1.000000\n",
       " 40.0                      outdoor        3.314413\n",
       "                           retractable    5.000000\n",
       " 50.0                      outdoor        3.210188\n",
       "                           retractable   -1.461538\n",
       " 60.0                      outdoor        2.785781\n",
       "                           retractable   -0.214286\n",
       " 70.0                      indoor         1.984391\n",
       "                           outdoor        2.413257\n",
       "                           retractable    1.696104\n",
       " 80.0                      outdoor        2.378378\n",
       "                           retractable    0.400000\n",
       " 90.0                      outdoor       -3.692308\n",
       "                           retractable   -5.777778"
      ]
     },
     "execution_count": 45,
     "metadata": {},
     "output_type": "execute_result"
    }
   ],
   "source": [
    "gamesStadiumsPivot.groupby(['weather_temperatureRounded','stadium_type']).mean()"
   ]
  },
  {
   "cell_type": "code",
   "execution_count": 152,
   "metadata": {},
   "outputs": [
    {
     "data": {
      "text/html": [
       "<div>\n",
       "<style scoped>\n",
       "    .dataframe tbody tr th:only-of-type {\n",
       "        vertical-align: middle;\n",
       "    }\n",
       "\n",
       "    .dataframe tbody tr th {\n",
       "        vertical-align: top;\n",
       "    }\n",
       "\n",
       "    .dataframe thead th {\n",
       "        text-align: right;\n",
       "    }\n",
       "</style>\n",
       "<table border=\"1\" class=\"dataframe\">\n",
       "  <thead>\n",
       "    <tr style=\"text-align: right;\">\n",
       "      <th></th>\n",
       "      <th>weather_temperatureRounded</th>\n",
       "      <th>scoreDiff</th>\n",
       "    </tr>\n",
       "    <tr>\n",
       "      <th>stadium_type</th>\n",
       "      <th></th>\n",
       "      <th></th>\n",
       "    </tr>\n",
       "  </thead>\n",
       "  <tbody>\n",
       "    <tr>\n",
       "      <td>indoor</td>\n",
       "      <td>70.000000</td>\n",
       "      <td>1.984391</td>\n",
       "    </tr>\n",
       "    <tr>\n",
       "      <td>outdoor</td>\n",
       "      <td>50.534701</td>\n",
       "      <td>3.093736</td>\n",
       "    </tr>\n",
       "    <tr>\n",
       "      <td>retractable</td>\n",
       "      <td>68.298279</td>\n",
       "      <td>1.124283</td>\n",
       "    </tr>\n",
       "  </tbody>\n",
       "</table>\n",
       "</div>"
      ],
      "text/plain": [
       "              weather_temperatureRounded  scoreDiff\n",
       "stadium_type                                       \n",
       "indoor                         70.000000   1.984391\n",
       "outdoor                        50.534701   3.093736\n",
       "retractable                    68.298279   1.124283"
      ]
     },
     "execution_count": 152,
     "metadata": {},
     "output_type": "execute_result"
    }
   ],
   "source": [
    "gamesStadiumsPivot.groupby('stadium_type').mean()"
   ]
  },
  {
   "cell_type": "markdown",
   "metadata": {},
   "source": [
    "The mean score difference for indoor and retractable stadiums is 1-2 points. Outdoor stadiums however have a score difference of 3. A hypothesis can be tested is that since outdoors have a higher score difference, weather does have an effect on the outcome in favor of home teams. Indoor and retractable stadiums also show a positive score difference for the home team but weather does not effect the game because of the stadium temperature being controlled. This does though add evidence towards a home field advantage, especially since all 3 stadium types have a psotive score difference for home teams."
   ]
  },
  {
   "cell_type": "code",
   "execution_count": 47,
   "metadata": {},
   "outputs": [],
   "source": [
    "gamesStadiumsOutdoors = gamesStadiums[gamesStadiums['stadium_type'] == 'outdoor']"
   ]
  },
  {
   "cell_type": "code",
   "execution_count": 48,
   "metadata": {},
   "outputs": [],
   "source": [
    "gamesStadiumsIndoors = gamesStadiums[gamesStadiums['stadium_type'] == 'indoor']"
   ]
  },
  {
   "cell_type": "code",
   "execution_count": 49,
   "metadata": {},
   "outputs": [
    {
     "data": {
      "text/plain": [
       " 50.0    2179\n",
       " 60.0    2138\n",
       " 40.0    1568\n",
       " 70.0    1222\n",
       " 30.0    1075\n",
       " 80.0     444\n",
       " 20.0     386\n",
       " 10.0     100\n",
       " 0.0       34\n",
       " 90.0      13\n",
       "-10.0       5\n",
       "Name: weather_temperatureRounded, dtype: int64"
      ]
     },
     "execution_count": 49,
     "metadata": {},
     "output_type": "execute_result"
    }
   ],
   "source": [
    "gamesStadiumsOutdoors['weather_temperatureRounded'].value_counts()"
   ]
  },
  {
   "cell_type": "code",
   "execution_count": 50,
   "metadata": {},
   "outputs": [
    {
     "data": {
      "text/plain": [
       "70.0    1986\n",
       "Name: weather_temperatureRounded, dtype: int64"
      ]
     },
     "execution_count": 50,
     "metadata": {},
     "output_type": "execute_result"
    }
   ],
   "source": [
    "gamesStadiumsIndoors['weather_temperatureRounded'].value_counts()"
   ]
  },
  {
   "cell_type": "code",
   "execution_count": 51,
   "metadata": {},
   "outputs": [],
   "source": [
    "gamesStadiumsOutdoors = gamesStadiumsOutdoors.pivot_table(index='weather_temperatureRounded',values='scoreDiff',aggfunc=np.mean)"
   ]
  },
  {
   "cell_type": "code",
   "execution_count": 52,
   "metadata": {},
   "outputs": [
    {
     "data": {
      "text/html": [
       "<div>\n",
       "<style scoped>\n",
       "    .dataframe tbody tr th:only-of-type {\n",
       "        vertical-align: middle;\n",
       "    }\n",
       "\n",
       "    .dataframe tbody tr th {\n",
       "        vertical-align: top;\n",
       "    }\n",
       "\n",
       "    .dataframe thead th {\n",
       "        text-align: right;\n",
       "    }\n",
       "</style>\n",
       "<table border=\"1\" class=\"dataframe\">\n",
       "  <thead>\n",
       "    <tr style=\"text-align: right;\">\n",
       "      <th></th>\n",
       "      <th>scoreDiff</th>\n",
       "    </tr>\n",
       "    <tr>\n",
       "      <th>weather_temperatureRounded</th>\n",
       "      <th></th>\n",
       "    </tr>\n",
       "  </thead>\n",
       "  <tbody>\n",
       "    <tr>\n",
       "      <td>-10.0</td>\n",
       "      <td>8.000000</td>\n",
       "    </tr>\n",
       "    <tr>\n",
       "      <td>0.0</td>\n",
       "      <td>6.470588</td>\n",
       "    </tr>\n",
       "    <tr>\n",
       "      <td>10.0</td>\n",
       "      <td>4.620000</td>\n",
       "    </tr>\n",
       "    <tr>\n",
       "      <td>20.0</td>\n",
       "      <td>4.163212</td>\n",
       "    </tr>\n",
       "    <tr>\n",
       "      <td>30.0</td>\n",
       "      <td>3.643721</td>\n",
       "    </tr>\n",
       "    <tr>\n",
       "      <td>40.0</td>\n",
       "      <td>3.314413</td>\n",
       "    </tr>\n",
       "    <tr>\n",
       "      <td>50.0</td>\n",
       "      <td>3.210188</td>\n",
       "    </tr>\n",
       "    <tr>\n",
       "      <td>60.0</td>\n",
       "      <td>2.785781</td>\n",
       "    </tr>\n",
       "    <tr>\n",
       "      <td>70.0</td>\n",
       "      <td>2.413257</td>\n",
       "    </tr>\n",
       "    <tr>\n",
       "      <td>80.0</td>\n",
       "      <td>2.378378</td>\n",
       "    </tr>\n",
       "    <tr>\n",
       "      <td>90.0</td>\n",
       "      <td>-3.692308</td>\n",
       "    </tr>\n",
       "  </tbody>\n",
       "</table>\n",
       "</div>"
      ],
      "text/plain": [
       "                            scoreDiff\n",
       "weather_temperatureRounded           \n",
       "-10.0                        8.000000\n",
       " 0.0                         6.470588\n",
       " 10.0                        4.620000\n",
       " 20.0                        4.163212\n",
       " 30.0                        3.643721\n",
       " 40.0                        3.314413\n",
       " 50.0                        3.210188\n",
       " 60.0                        2.785781\n",
       " 70.0                        2.413257\n",
       " 80.0                        2.378378\n",
       " 90.0                       -3.692308"
      ]
     },
     "execution_count": 52,
     "metadata": {},
     "output_type": "execute_result"
    }
   ],
   "source": [
    "gamesStadiumsOutdoors"
   ]
  },
  {
   "cell_type": "code",
   "execution_count": 154,
   "metadata": {},
   "outputs": [
    {
     "data": {
      "text/plain": [
       "<matplotlib.axes._subplots.AxesSubplot at 0x1a24937ed0>"
      ]
     },
     "execution_count": 154,
     "metadata": {},
     "output_type": "execute_result"
    },
    {
     "data": {
      "image/png": "[encoded data removed]",
      "text/plain": [
       "<Figure size 432x288 with 1 Axes>"
      ]
     },
     "metadata": {
      "needs_background": "light"
     },
     "output_type": "display_data"
    }
   ],
   "source": [
    "sns.scatterplot(x=gamesStadiumsOutdoors.index,y='scoreDiff',data=gamesStadiumsOutdoors)"
   ]
  },
  {
   "cell_type": "markdown",
   "metadata": {},
   "source": [
    "When comparing outdoor stadium temperatures against the score difference, there are two interesting observation I found. Games with low cold temperatures had a higher score difference. This shows that home teams won by a bigger differnce when the temperatures were very cold. A hypothesis supported from this and which can be tested is that cold temperatures aid home teams. On the other hand games with high temperatures, 90 and above, have a negative score difference. This is interesting because just using this graph it can be said that extrememly high temperatures aid away teams, which contradicts an early hypothesis of temperature aiding the home team be it cold or hot. Further testing will need to be done to see if there are any other factors effecting this outcome, like the games when played in regularly cold areas but those game days had irregularly high temperatures. Also adding to that the away teams may have been from warmer climates."
   ]
  },
  {
   "cell_type": "code",
   "execution_count": 54,
   "metadata": {},
   "outputs": [],
   "source": [
    "homeWins = gamesStadiums['homeWin'].value_counts()"
   ]
  },
  {
   "cell_type": "code",
   "execution_count": 55,
   "metadata": {},
   "outputs": [
    {
     "data": {
      "text/plain": [
       "1    6815\n",
       "0    5063\n",
       "Name: homeWin, dtype: int64"
      ]
     },
     "execution_count": 55,
     "metadata": {},
     "output_type": "execute_result"
    }
   ],
   "source": [
    "homeWins"
   ]
  },
  {
   "cell_type": "code",
   "execution_count": 56,
   "metadata": {},
   "outputs": [
    {
     "data": {
      "text/plain": [
       "<matplotlib.axes._subplots.AxesSubplot at 0x1a2131de90>"
      ]
     },
     "execution_count": 56,
     "metadata": {},
     "output_type": "execute_result"
    },
    {
     "data": {
      "image/png": "[encoded data removed]",
      "text/plain": [
       "<Figure size 432x288 with 1 Axes>"
      ]
     },
     "metadata": {
      "needs_background": "light"
     },
     "output_type": "display_data"
    }
   ],
   "source": [
    "homeWins.plot.bar()"
   ]
  },
  {
   "cell_type": "code",
   "execution_count": 57,
   "metadata": {},
   "outputs": [],
   "source": [
    "homeWins = gamesStadiums[['homeWin','AwayWin','schedule_season','stadium_type']]"
   ]
  },
  {
   "cell_type": "code",
   "execution_count": 58,
   "metadata": {},
   "outputs": [
    {
     "data": {
      "text/html": [
       "<div>\n",
       "<style scoped>\n",
       "    .dataframe tbody tr th:only-of-type {\n",
       "        vertical-align: middle;\n",
       "    }\n",
       "\n",
       "    .dataframe tbody tr th {\n",
       "        vertical-align: top;\n",
       "    }\n",
       "\n",
       "    .dataframe thead th {\n",
       "        text-align: right;\n",
       "    }\n",
       "</style>\n",
       "<table border=\"1\" class=\"dataframe\">\n",
       "  <thead>\n",
       "    <tr style=\"text-align: right;\">\n",
       "      <th></th>\n",
       "      <th>homeWin</th>\n",
       "      <th>AwayWin</th>\n",
       "      <th>schedule_season</th>\n",
       "      <th>stadium_type</th>\n",
       "    </tr>\n",
       "  </thead>\n",
       "  <tbody>\n",
       "    <tr>\n",
       "      <td>0</td>\n",
       "      <td>0</td>\n",
       "      <td>1</td>\n",
       "      <td>1960</td>\n",
       "      <td>outdoor</td>\n",
       "    </tr>\n",
       "    <tr>\n",
       "      <td>1</td>\n",
       "      <td>1</td>\n",
       "      <td>0</td>\n",
       "      <td>1960</td>\n",
       "      <td>outdoor</td>\n",
       "    </tr>\n",
       "    <tr>\n",
       "      <td>2</td>\n",
       "      <td>1</td>\n",
       "      <td>0</td>\n",
       "      <td>1960</td>\n",
       "      <td>outdoor</td>\n",
       "    </tr>\n",
       "    <tr>\n",
       "      <td>3</td>\n",
       "      <td>0</td>\n",
       "      <td>1</td>\n",
       "      <td>1960</td>\n",
       "      <td>outdoor</td>\n",
       "    </tr>\n",
       "    <tr>\n",
       "      <td>4</td>\n",
       "      <td>1</td>\n",
       "      <td>0</td>\n",
       "      <td>1960</td>\n",
       "      <td>outdoor</td>\n",
       "    </tr>\n",
       "    <tr>\n",
       "      <td>...</td>\n",
       "      <td>...</td>\n",
       "      <td>...</td>\n",
       "      <td>...</td>\n",
       "      <td>...</td>\n",
       "    </tr>\n",
       "    <tr>\n",
       "      <td>11873</td>\n",
       "      <td>1</td>\n",
       "      <td>0</td>\n",
       "      <td>2010</td>\n",
       "      <td>outdoor</td>\n",
       "    </tr>\n",
       "    <tr>\n",
       "      <td>11874</td>\n",
       "      <td>1</td>\n",
       "      <td>0</td>\n",
       "      <td>2010</td>\n",
       "      <td>indoor</td>\n",
       "    </tr>\n",
       "    <tr>\n",
       "      <td>11875</td>\n",
       "      <td>0</td>\n",
       "      <td>1</td>\n",
       "      <td>2010</td>\n",
       "      <td>outdoor</td>\n",
       "    </tr>\n",
       "    <tr>\n",
       "      <td>11876</td>\n",
       "      <td>0</td>\n",
       "      <td>1</td>\n",
       "      <td>2010</td>\n",
       "      <td>indoor</td>\n",
       "    </tr>\n",
       "    <tr>\n",
       "      <td>11877</td>\n",
       "      <td>0</td>\n",
       "      <td>1</td>\n",
       "      <td>2010</td>\n",
       "      <td>NaN</td>\n",
       "    </tr>\n",
       "  </tbody>\n",
       "</table>\n",
       "<p>11878 rows × 4 columns</p>\n",
       "</div>"
      ],
      "text/plain": [
       "       homeWin  AwayWin  schedule_season stadium_type\n",
       "0            0        1             1960      outdoor\n",
       "1            1        0             1960      outdoor\n",
       "2            1        0             1960      outdoor\n",
       "3            0        1             1960      outdoor\n",
       "4            1        0             1960      outdoor\n",
       "...        ...      ...              ...          ...\n",
       "11873        1        0             2010      outdoor\n",
       "11874        1        0             2010       indoor\n",
       "11875        0        1             2010      outdoor\n",
       "11876        0        1             2010       indoor\n",
       "11877        0        1             2010          NaN\n",
       "\n",
       "[11878 rows x 4 columns]"
      ]
     },
     "execution_count": 58,
     "metadata": {},
     "output_type": "execute_result"
    }
   ],
   "source": [
    "homeWins"
   ]
  },
  {
   "cell_type": "code",
   "execution_count": 59,
   "metadata": {},
   "outputs": [],
   "source": [
    "homeWinsYear = homeWins.set_index('schedule_season')"
   ]
  },
  {
   "cell_type": "code",
   "execution_count": 60,
   "metadata": {},
   "outputs": [
    {
     "data": {
      "text/html": [
       "<div>\n",
       "<style scoped>\n",
       "    .dataframe tbody tr th:only-of-type {\n",
       "        vertical-align: middle;\n",
       "    }\n",
       "\n",
       "    .dataframe tbody tr th {\n",
       "        vertical-align: top;\n",
       "    }\n",
       "\n",
       "    .dataframe thead th {\n",
       "        text-align: right;\n",
       "    }\n",
       "</style>\n",
       "<table border=\"1\" class=\"dataframe\">\n",
       "  <thead>\n",
       "    <tr style=\"text-align: right;\">\n",
       "      <th></th>\n",
       "      <th>homeWin</th>\n",
       "      <th>AwayWin</th>\n",
       "      <th>stadium_type</th>\n",
       "    </tr>\n",
       "    <tr>\n",
       "      <th>schedule_season</th>\n",
       "      <th></th>\n",
       "      <th></th>\n",
       "      <th></th>\n",
       "    </tr>\n",
       "  </thead>\n",
       "  <tbody>\n",
       "    <tr>\n",
       "      <td>1960</td>\n",
       "      <td>0</td>\n",
       "      <td>1</td>\n",
       "      <td>outdoor</td>\n",
       "    </tr>\n",
       "    <tr>\n",
       "      <td>1960</td>\n",
       "      <td>1</td>\n",
       "      <td>0</td>\n",
       "      <td>outdoor</td>\n",
       "    </tr>\n",
       "    <tr>\n",
       "      <td>1960</td>\n",
       "      <td>1</td>\n",
       "      <td>0</td>\n",
       "      <td>outdoor</td>\n",
       "    </tr>\n",
       "    <tr>\n",
       "      <td>1960</td>\n",
       "      <td>0</td>\n",
       "      <td>1</td>\n",
       "      <td>outdoor</td>\n",
       "    </tr>\n",
       "    <tr>\n",
       "      <td>1960</td>\n",
       "      <td>1</td>\n",
       "      <td>0</td>\n",
       "      <td>outdoor</td>\n",
       "    </tr>\n",
       "    <tr>\n",
       "      <td>...</td>\n",
       "      <td>...</td>\n",
       "      <td>...</td>\n",
       "      <td>...</td>\n",
       "    </tr>\n",
       "    <tr>\n",
       "      <td>2010</td>\n",
       "      <td>1</td>\n",
       "      <td>0</td>\n",
       "      <td>outdoor</td>\n",
       "    </tr>\n",
       "    <tr>\n",
       "      <td>2010</td>\n",
       "      <td>1</td>\n",
       "      <td>0</td>\n",
       "      <td>indoor</td>\n",
       "    </tr>\n",
       "    <tr>\n",
       "      <td>2010</td>\n",
       "      <td>0</td>\n",
       "      <td>1</td>\n",
       "      <td>outdoor</td>\n",
       "    </tr>\n",
       "    <tr>\n",
       "      <td>2010</td>\n",
       "      <td>0</td>\n",
       "      <td>1</td>\n",
       "      <td>indoor</td>\n",
       "    </tr>\n",
       "    <tr>\n",
       "      <td>2010</td>\n",
       "      <td>0</td>\n",
       "      <td>1</td>\n",
       "      <td>NaN</td>\n",
       "    </tr>\n",
       "  </tbody>\n",
       "</table>\n",
       "<p>11878 rows × 3 columns</p>\n",
       "</div>"
      ],
      "text/plain": [
       "                 homeWin  AwayWin stadium_type\n",
       "schedule_season                               \n",
       "1960                   0        1      outdoor\n",
       "1960                   1        0      outdoor\n",
       "1960                   1        0      outdoor\n",
       "1960                   0        1      outdoor\n",
       "1960                   1        0      outdoor\n",
       "...                  ...      ...          ...\n",
       "2010                   1        0      outdoor\n",
       "2010                   1        0       indoor\n",
       "2010                   0        1      outdoor\n",
       "2010                   0        1       indoor\n",
       "2010                   0        1          NaN\n",
       "\n",
       "[11878 rows x 3 columns]"
      ]
     },
     "execution_count": 60,
     "metadata": {},
     "output_type": "execute_result"
    }
   ],
   "source": [
    "homeWinsYear"
   ]
  },
  {
   "cell_type": "code",
   "execution_count": 61,
   "metadata": {},
   "outputs": [],
   "source": [
    "homeWinsYear = homeWinsYear.groupby(level=0).sum()"
   ]
  },
  {
   "cell_type": "code",
   "execution_count": 62,
   "metadata": {},
   "outputs": [
    {
     "data": {
      "text/html": [
       "<div>\n",
       "<style scoped>\n",
       "    .dataframe tbody tr th:only-of-type {\n",
       "        vertical-align: middle;\n",
       "    }\n",
       "\n",
       "    .dataframe tbody tr th {\n",
       "        vertical-align: top;\n",
       "    }\n",
       "\n",
       "    .dataframe thead th {\n",
       "        text-align: right;\n",
       "    }\n",
       "</style>\n",
       "<table border=\"1\" class=\"dataframe\">\n",
       "  <thead>\n",
       "    <tr style=\"text-align: right;\">\n",
       "      <th></th>\n",
       "      <th>homeWin</th>\n",
       "      <th>AwayWin</th>\n",
       "    </tr>\n",
       "    <tr>\n",
       "      <th>schedule_season</th>\n",
       "      <th></th>\n",
       "      <th></th>\n",
       "    </tr>\n",
       "  </thead>\n",
       "  <tbody>\n",
       "    <tr>\n",
       "      <td>1960</td>\n",
       "      <td>258</td>\n",
       "      <td>215</td>\n",
       "    </tr>\n",
       "    <tr>\n",
       "      <td>1970</td>\n",
       "      <td>1131</td>\n",
       "      <td>835</td>\n",
       "    </tr>\n",
       "    <tr>\n",
       "      <td>1980</td>\n",
       "      <td>1202</td>\n",
       "      <td>885</td>\n",
       "    </tr>\n",
       "    <tr>\n",
       "      <td>1990</td>\n",
       "      <td>1398</td>\n",
       "      <td>948</td>\n",
       "    </tr>\n",
       "    <tr>\n",
       "      <td>2000</td>\n",
       "      <td>1471</td>\n",
       "      <td>1097</td>\n",
       "    </tr>\n",
       "  </tbody>\n",
       "</table>\n",
       "</div>"
      ],
      "text/plain": [
       "                 homeWin  AwayWin\n",
       "schedule_season                  \n",
       "1960                 258      215\n",
       "1970                1131      835\n",
       "1980                1202      885\n",
       "1990                1398      948\n",
       "2000                1471     1097"
      ]
     },
     "execution_count": 62,
     "metadata": {},
     "output_type": "execute_result"
    }
   ],
   "source": [
    "homeWinsYear.head()"
   ]
  },
  {
   "cell_type": "code",
   "execution_count": 63,
   "metadata": {},
   "outputs": [],
   "source": [
    "homeWinsYear['HomeWinPer'] = homeWinsYear['homeWin'] / (homeWinsYear['homeWin']  + homeWinsYear['AwayWin'] )"
   ]
  },
  {
   "cell_type": "code",
   "execution_count": 64,
   "metadata": {},
   "outputs": [
    {
     "data": {
      "text/html": [
       "<div>\n",
       "<style scoped>\n",
       "    .dataframe tbody tr th:only-of-type {\n",
       "        vertical-align: middle;\n",
       "    }\n",
       "\n",
       "    .dataframe tbody tr th {\n",
       "        vertical-align: top;\n",
       "    }\n",
       "\n",
       "    .dataframe thead th {\n",
       "        text-align: right;\n",
       "    }\n",
       "</style>\n",
       "<table border=\"1\" class=\"dataframe\">\n",
       "  <thead>\n",
       "    <tr style=\"text-align: right;\">\n",
       "      <th></th>\n",
       "      <th>homeWin</th>\n",
       "      <th>AwayWin</th>\n",
       "      <th>HomeWinPer</th>\n",
       "    </tr>\n",
       "    <tr>\n",
       "      <th>schedule_season</th>\n",
       "      <th></th>\n",
       "      <th></th>\n",
       "      <th></th>\n",
       "    </tr>\n",
       "  </thead>\n",
       "  <tbody>\n",
       "    <tr>\n",
       "      <td>1960</td>\n",
       "      <td>258</td>\n",
       "      <td>215</td>\n",
       "      <td>0.545455</td>\n",
       "    </tr>\n",
       "    <tr>\n",
       "      <td>1970</td>\n",
       "      <td>1131</td>\n",
       "      <td>835</td>\n",
       "      <td>0.575280</td>\n",
       "    </tr>\n",
       "    <tr>\n",
       "      <td>1980</td>\n",
       "      <td>1202</td>\n",
       "      <td>885</td>\n",
       "      <td>0.575946</td>\n",
       "    </tr>\n",
       "    <tr>\n",
       "      <td>1990</td>\n",
       "      <td>1398</td>\n",
       "      <td>948</td>\n",
       "      <td>0.595908</td>\n",
       "    </tr>\n",
       "    <tr>\n",
       "      <td>2000</td>\n",
       "      <td>1471</td>\n",
       "      <td>1097</td>\n",
       "      <td>0.572819</td>\n",
       "    </tr>\n",
       "  </tbody>\n",
       "</table>\n",
       "</div>"
      ],
      "text/plain": [
       "                 homeWin  AwayWin  HomeWinPer\n",
       "schedule_season                              \n",
       "1960                 258      215    0.545455\n",
       "1970                1131      835    0.575280\n",
       "1980                1202      885    0.575946\n",
       "1990                1398      948    0.595908\n",
       "2000                1471     1097    0.572819"
      ]
     },
     "execution_count": 64,
     "metadata": {},
     "output_type": "execute_result"
    }
   ],
   "source": [
    "homeWinsYear.head()"
   ]
  },
  {
   "cell_type": "code",
   "execution_count": 156,
   "metadata": {},
   "outputs": [
    {
     "data": {
      "text/plain": [
       "0.5732600701931208"
      ]
     },
     "execution_count": 156,
     "metadata": {},
     "output_type": "execute_result"
    }
   ],
   "source": [
    "homeWinsYear['HomeWinPer'].mean()"
   ]
  },
  {
   "cell_type": "code",
   "execution_count": 66,
   "metadata": {},
   "outputs": [
    {
     "data": {
      "text/plain": [
       "<matplotlib.axes._subplots.AxesSubplot at 0x1a2112c210>"
      ]
     },
     "execution_count": 66,
     "metadata": {},
     "output_type": "execute_result"
    },
    {
     "data": {
      "image/png": "[encoded data removed]",
      "text/plain": [
       "<Figure size 432x288 with 1 Axes>"
      ]
     },
     "metadata": {
      "needs_background": "light"
     },
     "output_type": "display_data"
    }
   ],
   "source": [
    "sns.distplot(homeWinsYear['HomeWinPer'])"
   ]
  },
  {
   "cell_type": "code",
   "execution_count": 157,
   "metadata": {},
   "outputs": [
    {
     "data": {
      "text/plain": [
       "<matplotlib.axes._subplots.AxesSubplot at 0x1a2494f490>"
      ]
     },
     "execution_count": 157,
     "metadata": {},
     "output_type": "execute_result"
    },
    {
     "data": {
      "image/png": "[encoded data removed]",
      "text/plain": [
       "<Figure size 432x288 with 1 Axes>"
      ]
     },
     "metadata": {
      "needs_background": "light"
     },
     "output_type": "display_data"
    }
   ],
   "source": [
    "sns.lineplot(x=homeWinsYear.index, y='HomeWinPer', data=homeWinsYear)#.set(ylim=(0,1))"
   ]
  },
  {
   "cell_type": "markdown",
   "metadata": {},
   "source": [
    "When taking the percentage of games won by the home team, there is a slight tilt towards a home field advantage. Home teams win on average 57% of the time. Even when breaking it by decades, there has not been a decade where the home teams have lost more than away teams. The beginning of the NFL had the lowest win percentage for home teams at around 54.6% and the 1990s with the highest at 60.0%."
   ]
  },
  {
   "cell_type": "code",
   "execution_count": 68,
   "metadata": {},
   "outputs": [],
   "source": [
    "homeWinsStadium = homeWins.set_index('stadium_type')"
   ]
  },
  {
   "cell_type": "code",
   "execution_count": 69,
   "metadata": {},
   "outputs": [
    {
     "data": {
      "text/html": [
       "<div>\n",
       "<style scoped>\n",
       "    .dataframe tbody tr th:only-of-type {\n",
       "        vertical-align: middle;\n",
       "    }\n",
       "\n",
       "    .dataframe tbody tr th {\n",
       "        vertical-align: top;\n",
       "    }\n",
       "\n",
       "    .dataframe thead th {\n",
       "        text-align: right;\n",
       "    }\n",
       "</style>\n",
       "<table border=\"1\" class=\"dataframe\">\n",
       "  <thead>\n",
       "    <tr style=\"text-align: right;\">\n",
       "      <th></th>\n",
       "      <th>homeWin</th>\n",
       "      <th>AwayWin</th>\n",
       "    </tr>\n",
       "    <tr>\n",
       "      <th>stadium_type</th>\n",
       "      <th></th>\n",
       "      <th></th>\n",
       "    </tr>\n",
       "  </thead>\n",
       "  <tbody>\n",
       "    <tr>\n",
       "      <td>outdoor</td>\n",
       "      <td>0</td>\n",
       "      <td>1</td>\n",
       "    </tr>\n",
       "    <tr>\n",
       "      <td>outdoor</td>\n",
       "      <td>1</td>\n",
       "      <td>0</td>\n",
       "    </tr>\n",
       "    <tr>\n",
       "      <td>outdoor</td>\n",
       "      <td>1</td>\n",
       "      <td>0</td>\n",
       "    </tr>\n",
       "    <tr>\n",
       "      <td>outdoor</td>\n",
       "      <td>0</td>\n",
       "      <td>1</td>\n",
       "    </tr>\n",
       "    <tr>\n",
       "      <td>outdoor</td>\n",
       "      <td>1</td>\n",
       "      <td>0</td>\n",
       "    </tr>\n",
       "    <tr>\n",
       "      <td>...</td>\n",
       "      <td>...</td>\n",
       "      <td>...</td>\n",
       "    </tr>\n",
       "    <tr>\n",
       "      <td>outdoor</td>\n",
       "      <td>1</td>\n",
       "      <td>0</td>\n",
       "    </tr>\n",
       "    <tr>\n",
       "      <td>indoor</td>\n",
       "      <td>1</td>\n",
       "      <td>0</td>\n",
       "    </tr>\n",
       "    <tr>\n",
       "      <td>outdoor</td>\n",
       "      <td>0</td>\n",
       "      <td>1</td>\n",
       "    </tr>\n",
       "    <tr>\n",
       "      <td>indoor</td>\n",
       "      <td>0</td>\n",
       "      <td>1</td>\n",
       "    </tr>\n",
       "    <tr>\n",
       "      <td>NaN</td>\n",
       "      <td>0</td>\n",
       "      <td>1</td>\n",
       "    </tr>\n",
       "  </tbody>\n",
       "</table>\n",
       "<p>11878 rows × 2 columns</p>\n",
       "</div>"
      ],
      "text/plain": [
       "              homeWin  AwayWin\n",
       "stadium_type                  \n",
       "outdoor             0        1\n",
       "outdoor             1        0\n",
       "outdoor             1        0\n",
       "outdoor             0        1\n",
       "outdoor             1        0\n",
       "...               ...      ...\n",
       "outdoor             1        0\n",
       "indoor              1        0\n",
       "outdoor             0        1\n",
       "indoor              0        1\n",
       "NaN                 0        1\n",
       "\n",
       "[11878 rows x 2 columns]"
      ]
     },
     "execution_count": 69,
     "metadata": {},
     "output_type": "execute_result"
    }
   ],
   "source": [
    "homeWinsStadium.drop(['schedule_season'], axis=1)"
   ]
  },
  {
   "cell_type": "code",
   "execution_count": 70,
   "metadata": {},
   "outputs": [],
   "source": [
    "homeWinsStadium = homeWinsStadium.pivot_table(index=['stadium_type'],values=['homeWin','AwayWin'],aggfunc=sum)"
   ]
  },
  {
   "cell_type": "code",
   "execution_count": 71,
   "metadata": {},
   "outputs": [],
   "source": [
    "homeWinsStadium['HomeWinPer'] = homeWinsStadium['homeWin'] / (homeWinsStadium['homeWin']  + homeWinsStadium['AwayWin'] )"
   ]
  },
  {
   "cell_type": "code",
   "execution_count": 72,
   "metadata": {},
   "outputs": [
    {
     "data": {
      "text/html": [
       "<div>\n",
       "<style scoped>\n",
       "    .dataframe tbody tr th:only-of-type {\n",
       "        vertical-align: middle;\n",
       "    }\n",
       "\n",
       "    .dataframe tbody tr th {\n",
       "        vertical-align: top;\n",
       "    }\n",
       "\n",
       "    .dataframe thead th {\n",
       "        text-align: right;\n",
       "    }\n",
       "</style>\n",
       "<table border=\"1\" class=\"dataframe\">\n",
       "  <thead>\n",
       "    <tr style=\"text-align: right;\">\n",
       "      <th></th>\n",
       "      <th>AwayWin</th>\n",
       "      <th>homeWin</th>\n",
       "      <th>HomeWinPer</th>\n",
       "    </tr>\n",
       "    <tr>\n",
       "      <th>stadium_type</th>\n",
       "      <th></th>\n",
       "      <th></th>\n",
       "      <th></th>\n",
       "    </tr>\n",
       "  </thead>\n",
       "  <tbody>\n",
       "    <tr>\n",
       "      <td>indoor</td>\n",
       "      <td>889</td>\n",
       "      <td>1094</td>\n",
       "      <td>0.551689</td>\n",
       "    </tr>\n",
       "    <tr>\n",
       "      <td>outdoor</td>\n",
       "      <td>3763</td>\n",
       "      <td>5329</td>\n",
       "      <td>0.586120</td>\n",
       "    </tr>\n",
       "    <tr>\n",
       "      <td>retractable</td>\n",
       "      <td>228</td>\n",
       "      <td>294</td>\n",
       "      <td>0.563218</td>\n",
       "    </tr>\n",
       "  </tbody>\n",
       "</table>\n",
       "</div>"
      ],
      "text/plain": [
       "              AwayWin  homeWin  HomeWinPer\n",
       "stadium_type                              \n",
       "indoor            889     1094    0.551689\n",
       "outdoor          3763     5329    0.586120\n",
       "retractable       228      294    0.563218"
      ]
     },
     "execution_count": 72,
     "metadata": {},
     "output_type": "execute_result"
    }
   ],
   "source": [
    "homeWinsStadium"
   ]
  },
  {
   "cell_type": "code",
   "execution_count": 73,
   "metadata": {},
   "outputs": [
    {
     "data": {
      "text/plain": [
       "<matplotlib.axes._subplots.AxesSubplot at 0x1a20d47650>"
      ]
     },
     "execution_count": 73,
     "metadata": {},
     "output_type": "execute_result"
    },
    {
     "data": {
      "image/png": "[encoded data removed]",
      "text/plain": [
       "<Figure size 432x288 with 1 Axes>"
      ]
     },
     "metadata": {
      "needs_background": "light"
     },
     "output_type": "display_data"
    }
   ],
   "source": [
    "sns.barplot(x=homeWinsStadium.index,y=homeWinsStadium['HomeWinPer'],data=homeWinsStadium)"
   ]
  },
  {
   "cell_type": "markdown",
   "metadata": {},
   "source": [
    "Even when taking into account stadium types there seems to be a home field advantage. All three types have a home team win percentage of 55% - 59%. Just like score differences indoor and retractable have similar percentages, while outdoor stadiums having the highest win percentage. This further aids in the hypothesis that weather effects the outcome of games by aiding the home team."
   ]
  },
  {
   "cell_type": "code",
   "execution_count": null,
   "metadata": {},
   "outputs": [],
   "source": []
  }
 ],
 "metadata": {
  "kernelspec": {
   "display_name": "Python 3",
   "language": "python",
   "name": "python3"
  },
  "language_info": {
   "codemirror_mode": {
    "name": "ipython",
    "version": 3
   },
   "file_extension": ".py",
   "mimetype": "text/x-python",
   "name": "python",
   "nbconvert_exporter": "python",
   "pygments_lexer": "ipython3",
   "version": "3.7.4"
  }
 },
 "nbformat": 4,
 "nbformat_minor": 2
}
